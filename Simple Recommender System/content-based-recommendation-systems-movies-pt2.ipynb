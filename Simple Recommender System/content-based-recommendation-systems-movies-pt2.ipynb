{
 "cells": [
  {
   "cell_type": "markdown",
   "id": "5227fb42",
   "metadata": {
    "papermill": {
     "duration": 0.007034,
     "end_time": "2022-08-05T20:36:52.925786",
     "exception": false,
     "start_time": "2022-08-05T20:36:52.918752",
     "status": "completed"
    },
    "tags": []
   },
   "source": [
    "<p style=\"font-size:20px; color:orange; text-align:center\"><b>This is a project to get started with recommendation systems!</b></p>"
   ]
  },
  {
   "cell_type": "markdown",
   "id": "f267cb93",
   "metadata": {
    "papermill": {
     "duration": 0.005611,
     "end_time": "2022-08-05T20:36:52.937416",
     "exception": false,
     "start_time": "2022-08-05T20:36:52.931805",
     "status": "completed"
    },
    "tags": []
   },
   "source": [
    "<p style=\"font-size:18px; color:orange;\">Below we can see the types of recommender systems, In this notebook the focus is going to be on Content-based systems</p>\n",
    "\n",
    "<img src='https://www.alpha-quantum.com/blog/wp-content/uploads/2020/05/img_5ed4354677fb7.png'>\n",
    "\n"
   ]
  },
  {
   "cell_type": "markdown",
   "id": "4d328227",
   "metadata": {
    "papermill": {
     "duration": 0.005463,
     "end_time": "2022-08-05T20:36:52.948662",
     "exception": false,
     "start_time": "2022-08-05T20:36:52.943199",
     "status": "completed"
    },
    "tags": []
   },
   "source": [
    "# *Import and Explore*"
   ]
  },
  {
   "cell_type": "code",
   "execution_count": 1,
   "id": "3fa2f1ea",
   "metadata": {
    "_cell_guid": "b1076dfc-b9ad-4769-8c92-a6c4dae69d19",
    "_uuid": "8f2839f25d086af736a60e9eeb907d3b93b6e0e5",
    "execution": {
     "iopub.execute_input": "2022-08-05T20:36:52.963163Z",
     "iopub.status.busy": "2022-08-05T20:36:52.961919Z",
     "iopub.status.idle": "2022-08-05T20:36:52.983016Z",
     "shell.execute_reply": "2022-08-05T20:36:52.982216Z"
    },
    "papermill": {
     "duration": 0.031358,
     "end_time": "2022-08-05T20:36:52.985909",
     "exception": false,
     "start_time": "2022-08-05T20:36:52.954551",
     "status": "completed"
    },
    "tags": []
   },
   "outputs": [
    {
     "name": "stdout",
     "output_type": "stream",
     "text": [
      "/kaggle/input/tmdb-movie-metadata/tmdb_5000_movies.csv\n",
      "/kaggle/input/tmdb-movie-metadata/tmdb_5000_credits.csv\n"
     ]
    }
   ],
   "source": [
    "import numpy as np \n",
    "import pandas as pd \n",
    "\n",
    "import os\n",
    "for dirname, _, filenames in os.walk('/kaggle/input'):\n",
    "    for filename in filenames:\n",
    "        print(os.path.join(dirname, filename))\n",
    "import warnings\n",
    "warnings.filterwarnings(\"ignore\")"
   ]
  },
  {
   "cell_type": "code",
   "execution_count": 2,
   "id": "a712ae4c",
   "metadata": {
    "execution": {
     "iopub.execute_input": "2022-08-05T20:36:53.001075Z",
     "iopub.status.busy": "2022-08-05T20:36:53.000392Z",
     "iopub.status.idle": "2022-08-05T20:36:53.184923Z",
     "shell.execute_reply": "2022-08-05T20:36:53.183650Z"
    },
    "papermill": {
     "duration": 0.194823,
     "end_time": "2022-08-05T20:36:53.187754",
     "exception": false,
     "start_time": "2022-08-05T20:36:52.992931",
     "status": "completed"
    },
    "tags": []
   },
   "outputs": [],
   "source": [
    "movies_org=pd.read_csv('/kaggle/input/tmdb-movie-metadata/tmdb_5000_movies.csv')"
   ]
  },
  {
   "cell_type": "code",
   "execution_count": 3,
   "id": "825ad422",
   "metadata": {
    "execution": {
     "iopub.execute_input": "2022-08-05T20:36:53.201655Z",
     "iopub.status.busy": "2022-08-05T20:36:53.201259Z",
     "iopub.status.idle": "2022-08-05T20:36:53.207195Z",
     "shell.execute_reply": "2022-08-05T20:36:53.206195Z"
    },
    "papermill": {
     "duration": 0.015324,
     "end_time": "2022-08-05T20:36:53.209310",
     "exception": false,
     "start_time": "2022-08-05T20:36:53.193986",
     "status": "completed"
    },
    "tags": []
   },
   "outputs": [],
   "source": [
    "movies=movies_org.copy()"
   ]
  },
  {
   "cell_type": "code",
   "execution_count": 4,
   "id": "48f9d57a",
   "metadata": {
    "execution": {
     "iopub.execute_input": "2022-08-05T20:36:53.222690Z",
     "iopub.status.busy": "2022-08-05T20:36:53.222335Z",
     "iopub.status.idle": "2022-08-05T20:36:53.251618Z",
     "shell.execute_reply": "2022-08-05T20:36:53.250842Z"
    },
    "papermill": {
     "duration": 0.038384,
     "end_time": "2022-08-05T20:36:53.253776",
     "exception": false,
     "start_time": "2022-08-05T20:36:53.215392",
     "status": "completed"
    },
    "tags": []
   },
   "outputs": [
    {
     "data": {
      "text/html": [
       "<div>\n",
       "<style scoped>\n",
       "    .dataframe tbody tr th:only-of-type {\n",
       "        vertical-align: middle;\n",
       "    }\n",
       "\n",
       "    .dataframe tbody tr th {\n",
       "        vertical-align: top;\n",
       "    }\n",
       "\n",
       "    .dataframe thead th {\n",
       "        text-align: right;\n",
       "    }\n",
       "</style>\n",
       "<table border=\"1\" class=\"dataframe\">\n",
       "  <thead>\n",
       "    <tr style=\"text-align: right;\">\n",
       "      <th></th>\n",
       "      <th>budget</th>\n",
       "      <th>genres</th>\n",
       "      <th>homepage</th>\n",
       "      <th>id</th>\n",
       "      <th>keywords</th>\n",
       "      <th>original_language</th>\n",
       "      <th>original_title</th>\n",
       "      <th>overview</th>\n",
       "      <th>popularity</th>\n",
       "      <th>production_companies</th>\n",
       "      <th>production_countries</th>\n",
       "      <th>release_date</th>\n",
       "      <th>revenue</th>\n",
       "      <th>runtime</th>\n",
       "      <th>spoken_languages</th>\n",
       "      <th>status</th>\n",
       "      <th>tagline</th>\n",
       "      <th>title</th>\n",
       "      <th>vote_average</th>\n",
       "      <th>vote_count</th>\n",
       "    </tr>\n",
       "  </thead>\n",
       "  <tbody>\n",
       "    <tr>\n",
       "      <th>0</th>\n",
       "      <td>237000000</td>\n",
       "      <td>[{\"id\": 28, \"name\": \"Action\"}, {\"id\": 12, \"nam...</td>\n",
       "      <td>http://www.avatarmovie.com/</td>\n",
       "      <td>19995</td>\n",
       "      <td>[{\"id\": 1463, \"name\": \"culture clash\"}, {\"id\":...</td>\n",
       "      <td>en</td>\n",
       "      <td>Avatar</td>\n",
       "      <td>In the 22nd century, a paraplegic Marine is di...</td>\n",
       "      <td>150.437577</td>\n",
       "      <td>[{\"name\": \"Ingenious Film Partners\", \"id\": 289...</td>\n",
       "      <td>[{\"iso_3166_1\": \"US\", \"name\": \"United States o...</td>\n",
       "      <td>2009-12-10</td>\n",
       "      <td>2787965087</td>\n",
       "      <td>162.0</td>\n",
       "      <td>[{\"iso_639_1\": \"en\", \"name\": \"English\"}, {\"iso...</td>\n",
       "      <td>Released</td>\n",
       "      <td>Enter the World of Pandora.</td>\n",
       "      <td>Avatar</td>\n",
       "      <td>7.2</td>\n",
       "      <td>11800</td>\n",
       "    </tr>\n",
       "    <tr>\n",
       "      <th>1</th>\n",
       "      <td>300000000</td>\n",
       "      <td>[{\"id\": 12, \"name\": \"Adventure\"}, {\"id\": 14, \"...</td>\n",
       "      <td>http://disney.go.com/disneypictures/pirates/</td>\n",
       "      <td>285</td>\n",
       "      <td>[{\"id\": 270, \"name\": \"ocean\"}, {\"id\": 726, \"na...</td>\n",
       "      <td>en</td>\n",
       "      <td>Pirates of the Caribbean: At World's End</td>\n",
       "      <td>Captain Barbossa, long believed to be dead, ha...</td>\n",
       "      <td>139.082615</td>\n",
       "      <td>[{\"name\": \"Walt Disney Pictures\", \"id\": 2}, {\"...</td>\n",
       "      <td>[{\"iso_3166_1\": \"US\", \"name\": \"United States o...</td>\n",
       "      <td>2007-05-19</td>\n",
       "      <td>961000000</td>\n",
       "      <td>169.0</td>\n",
       "      <td>[{\"iso_639_1\": \"en\", \"name\": \"English\"}]</td>\n",
       "      <td>Released</td>\n",
       "      <td>At the end of the world, the adventure begins.</td>\n",
       "      <td>Pirates of the Caribbean: At World's End</td>\n",
       "      <td>6.9</td>\n",
       "      <td>4500</td>\n",
       "    </tr>\n",
       "    <tr>\n",
       "      <th>2</th>\n",
       "      <td>245000000</td>\n",
       "      <td>[{\"id\": 28, \"name\": \"Action\"}, {\"id\": 12, \"nam...</td>\n",
       "      <td>http://www.sonypictures.com/movies/spectre/</td>\n",
       "      <td>206647</td>\n",
       "      <td>[{\"id\": 470, \"name\": \"spy\"}, {\"id\": 818, \"name...</td>\n",
       "      <td>en</td>\n",
       "      <td>Spectre</td>\n",
       "      <td>A cryptic message from Bond’s past sends him o...</td>\n",
       "      <td>107.376788</td>\n",
       "      <td>[{\"name\": \"Columbia Pictures\", \"id\": 5}, {\"nam...</td>\n",
       "      <td>[{\"iso_3166_1\": \"GB\", \"name\": \"United Kingdom\"...</td>\n",
       "      <td>2015-10-26</td>\n",
       "      <td>880674609</td>\n",
       "      <td>148.0</td>\n",
       "      <td>[{\"iso_639_1\": \"fr\", \"name\": \"Fran\\u00e7ais\"},...</td>\n",
       "      <td>Released</td>\n",
       "      <td>A Plan No One Escapes</td>\n",
       "      <td>Spectre</td>\n",
       "      <td>6.3</td>\n",
       "      <td>4466</td>\n",
       "    </tr>\n",
       "    <tr>\n",
       "      <th>3</th>\n",
       "      <td>250000000</td>\n",
       "      <td>[{\"id\": 28, \"name\": \"Action\"}, {\"id\": 80, \"nam...</td>\n",
       "      <td>http://www.thedarkknightrises.com/</td>\n",
       "      <td>49026</td>\n",
       "      <td>[{\"id\": 849, \"name\": \"dc comics\"}, {\"id\": 853,...</td>\n",
       "      <td>en</td>\n",
       "      <td>The Dark Knight Rises</td>\n",
       "      <td>Following the death of District Attorney Harve...</td>\n",
       "      <td>112.312950</td>\n",
       "      <td>[{\"name\": \"Legendary Pictures\", \"id\": 923}, {\"...</td>\n",
       "      <td>[{\"iso_3166_1\": \"US\", \"name\": \"United States o...</td>\n",
       "      <td>2012-07-16</td>\n",
       "      <td>1084939099</td>\n",
       "      <td>165.0</td>\n",
       "      <td>[{\"iso_639_1\": \"en\", \"name\": \"English\"}]</td>\n",
       "      <td>Released</td>\n",
       "      <td>The Legend Ends</td>\n",
       "      <td>The Dark Knight Rises</td>\n",
       "      <td>7.6</td>\n",
       "      <td>9106</td>\n",
       "    </tr>\n",
       "    <tr>\n",
       "      <th>4</th>\n",
       "      <td>260000000</td>\n",
       "      <td>[{\"id\": 28, \"name\": \"Action\"}, {\"id\": 12, \"nam...</td>\n",
       "      <td>http://movies.disney.com/john-carter</td>\n",
       "      <td>49529</td>\n",
       "      <td>[{\"id\": 818, \"name\": \"based on novel\"}, {\"id\":...</td>\n",
       "      <td>en</td>\n",
       "      <td>John Carter</td>\n",
       "      <td>John Carter is a war-weary, former military ca...</td>\n",
       "      <td>43.926995</td>\n",
       "      <td>[{\"name\": \"Walt Disney Pictures\", \"id\": 2}]</td>\n",
       "      <td>[{\"iso_3166_1\": \"US\", \"name\": \"United States o...</td>\n",
       "      <td>2012-03-07</td>\n",
       "      <td>284139100</td>\n",
       "      <td>132.0</td>\n",
       "      <td>[{\"iso_639_1\": \"en\", \"name\": \"English\"}]</td>\n",
       "      <td>Released</td>\n",
       "      <td>Lost in our world, found in another.</td>\n",
       "      <td>John Carter</td>\n",
       "      <td>6.1</td>\n",
       "      <td>2124</td>\n",
       "    </tr>\n",
       "  </tbody>\n",
       "</table>\n",
       "</div>"
      ],
      "text/plain": [
       "      budget                                             genres  \\\n",
       "0  237000000  [{\"id\": 28, \"name\": \"Action\"}, {\"id\": 12, \"nam...   \n",
       "1  300000000  [{\"id\": 12, \"name\": \"Adventure\"}, {\"id\": 14, \"...   \n",
       "2  245000000  [{\"id\": 28, \"name\": \"Action\"}, {\"id\": 12, \"nam...   \n",
       "3  250000000  [{\"id\": 28, \"name\": \"Action\"}, {\"id\": 80, \"nam...   \n",
       "4  260000000  [{\"id\": 28, \"name\": \"Action\"}, {\"id\": 12, \"nam...   \n",
       "\n",
       "                                       homepage      id  \\\n",
       "0                   http://www.avatarmovie.com/   19995   \n",
       "1  http://disney.go.com/disneypictures/pirates/     285   \n",
       "2   http://www.sonypictures.com/movies/spectre/  206647   \n",
       "3            http://www.thedarkknightrises.com/   49026   \n",
       "4          http://movies.disney.com/john-carter   49529   \n",
       "\n",
       "                                            keywords original_language  \\\n",
       "0  [{\"id\": 1463, \"name\": \"culture clash\"}, {\"id\":...                en   \n",
       "1  [{\"id\": 270, \"name\": \"ocean\"}, {\"id\": 726, \"na...                en   \n",
       "2  [{\"id\": 470, \"name\": \"spy\"}, {\"id\": 818, \"name...                en   \n",
       "3  [{\"id\": 849, \"name\": \"dc comics\"}, {\"id\": 853,...                en   \n",
       "4  [{\"id\": 818, \"name\": \"based on novel\"}, {\"id\":...                en   \n",
       "\n",
       "                             original_title  \\\n",
       "0                                    Avatar   \n",
       "1  Pirates of the Caribbean: At World's End   \n",
       "2                                   Spectre   \n",
       "3                     The Dark Knight Rises   \n",
       "4                               John Carter   \n",
       "\n",
       "                                            overview  popularity  \\\n",
       "0  In the 22nd century, a paraplegic Marine is di...  150.437577   \n",
       "1  Captain Barbossa, long believed to be dead, ha...  139.082615   \n",
       "2  A cryptic message from Bond’s past sends him o...  107.376788   \n",
       "3  Following the death of District Attorney Harve...  112.312950   \n",
       "4  John Carter is a war-weary, former military ca...   43.926995   \n",
       "\n",
       "                                production_companies  \\\n",
       "0  [{\"name\": \"Ingenious Film Partners\", \"id\": 289...   \n",
       "1  [{\"name\": \"Walt Disney Pictures\", \"id\": 2}, {\"...   \n",
       "2  [{\"name\": \"Columbia Pictures\", \"id\": 5}, {\"nam...   \n",
       "3  [{\"name\": \"Legendary Pictures\", \"id\": 923}, {\"...   \n",
       "4        [{\"name\": \"Walt Disney Pictures\", \"id\": 2}]   \n",
       "\n",
       "                                production_countries release_date     revenue  \\\n",
       "0  [{\"iso_3166_1\": \"US\", \"name\": \"United States o...   2009-12-10  2787965087   \n",
       "1  [{\"iso_3166_1\": \"US\", \"name\": \"United States o...   2007-05-19   961000000   \n",
       "2  [{\"iso_3166_1\": \"GB\", \"name\": \"United Kingdom\"...   2015-10-26   880674609   \n",
       "3  [{\"iso_3166_1\": \"US\", \"name\": \"United States o...   2012-07-16  1084939099   \n",
       "4  [{\"iso_3166_1\": \"US\", \"name\": \"United States o...   2012-03-07   284139100   \n",
       "\n",
       "   runtime                                   spoken_languages    status  \\\n",
       "0    162.0  [{\"iso_639_1\": \"en\", \"name\": \"English\"}, {\"iso...  Released   \n",
       "1    169.0           [{\"iso_639_1\": \"en\", \"name\": \"English\"}]  Released   \n",
       "2    148.0  [{\"iso_639_1\": \"fr\", \"name\": \"Fran\\u00e7ais\"},...  Released   \n",
       "3    165.0           [{\"iso_639_1\": \"en\", \"name\": \"English\"}]  Released   \n",
       "4    132.0           [{\"iso_639_1\": \"en\", \"name\": \"English\"}]  Released   \n",
       "\n",
       "                                          tagline  \\\n",
       "0                     Enter the World of Pandora.   \n",
       "1  At the end of the world, the adventure begins.   \n",
       "2                           A Plan No One Escapes   \n",
       "3                                 The Legend Ends   \n",
       "4            Lost in our world, found in another.   \n",
       "\n",
       "                                      title  vote_average  vote_count  \n",
       "0                                    Avatar           7.2       11800  \n",
       "1  Pirates of the Caribbean: At World's End           6.9        4500  \n",
       "2                                   Spectre           6.3        4466  \n",
       "3                     The Dark Knight Rises           7.6        9106  \n",
       "4                               John Carter           6.1        2124  "
      ]
     },
     "execution_count": 4,
     "metadata": {},
     "output_type": "execute_result"
    }
   ],
   "source": [
    "movies.head()"
   ]
  },
  {
   "cell_type": "markdown",
   "id": "eea040e0",
   "metadata": {
    "papermill": {
     "duration": 0.00621,
     "end_time": "2022-08-05T20:36:53.266796",
     "exception": false,
     "start_time": "2022-08-05T20:36:53.260586",
     "status": "completed"
    },
    "tags": []
   },
   "source": [
    "We are going to focus on the overview column from movies dataset, and create a recommendation system based on this\n"
   ]
  },
  {
   "cell_type": "code",
   "execution_count": 5,
   "id": "96031ab4",
   "metadata": {
    "execution": {
     "iopub.execute_input": "2022-08-05T20:36:53.281208Z",
     "iopub.status.busy": "2022-08-05T20:36:53.280783Z",
     "iopub.status.idle": "2022-08-05T20:36:53.308555Z",
     "shell.execute_reply": "2022-08-05T20:36:53.307017Z"
    },
    "papermill": {
     "duration": 0.03836,
     "end_time": "2022-08-05T20:36:53.311482",
     "exception": false,
     "start_time": "2022-08-05T20:36:53.273122",
     "status": "completed"
    },
    "tags": []
   },
   "outputs": [
    {
     "name": "stdout",
     "output_type": "stream",
     "text": [
      "<class 'pandas.core.frame.DataFrame'>\n",
      "RangeIndex: 4803 entries, 0 to 4802\n",
      "Data columns (total 20 columns):\n",
      " #   Column                Non-Null Count  Dtype  \n",
      "---  ------                --------------  -----  \n",
      " 0   budget                4803 non-null   int64  \n",
      " 1   genres                4803 non-null   object \n",
      " 2   homepage              1712 non-null   object \n",
      " 3   id                    4803 non-null   int64  \n",
      " 4   keywords              4803 non-null   object \n",
      " 5   original_language     4803 non-null   object \n",
      " 6   original_title        4803 non-null   object \n",
      " 7   overview              4800 non-null   object \n",
      " 8   popularity            4803 non-null   float64\n",
      " 9   production_companies  4803 non-null   object \n",
      " 10  production_countries  4803 non-null   object \n",
      " 11  release_date          4802 non-null   object \n",
      " 12  revenue               4803 non-null   int64  \n",
      " 13  runtime               4801 non-null   float64\n",
      " 14  spoken_languages      4803 non-null   object \n",
      " 15  status                4803 non-null   object \n",
      " 16  tagline               3959 non-null   object \n",
      " 17  title                 4803 non-null   object \n",
      " 18  vote_average          4803 non-null   float64\n",
      " 19  vote_count            4803 non-null   int64  \n",
      "dtypes: float64(3), int64(4), object(13)\n",
      "memory usage: 750.6+ KB\n"
     ]
    }
   ],
   "source": [
    "movies.info()"
   ]
  },
  {
   "cell_type": "markdown",
   "id": "b1b04576",
   "metadata": {
    "papermill": {
     "duration": 0.006317,
     "end_time": "2022-08-05T20:36:53.325311",
     "exception": false,
     "start_time": "2022-08-05T20:36:53.318994",
     "status": "completed"
    },
    "tags": []
   },
   "source": [
    "# *Duplicates in the Original Title*"
   ]
  },
  {
   "cell_type": "markdown",
   "id": "b7ba7fbb",
   "metadata": {
    "papermill": {
     "duration": 0.006169,
     "end_time": "2022-08-05T20:36:53.337935",
     "exception": false,
     "start_time": "2022-08-05T20:36:53.331766",
     "status": "completed"
    },
    "tags": []
   },
   "source": [
    "*There are two duplicates in the original title, if they remain unchanged, they're going to cause an error later (in recommend_movies function), so I'm going to add the releasing year to the original title.*"
   ]
  },
  {
   "cell_type": "code",
   "execution_count": 6,
   "id": "e3bbb736",
   "metadata": {
    "execution": {
     "iopub.execute_input": "2022-08-05T20:36:53.352368Z",
     "iopub.status.busy": "2022-08-05T20:36:53.351981Z",
     "iopub.status.idle": "2022-08-05T20:36:53.360993Z",
     "shell.execute_reply": "2022-08-05T20:36:53.359849Z"
    },
    "papermill": {
     "duration": 0.018878,
     "end_time": "2022-08-05T20:36:53.363097",
     "exception": false,
     "start_time": "2022-08-05T20:36:53.344219",
     "status": "completed"
    },
    "tags": []
   },
   "outputs": [
    {
     "data": {
      "text/plain": [
       "3693    Out of the Blue\n",
       "4267             Batman\n",
       "Name: original_title, dtype: object"
      ]
     },
     "execution_count": 6,
     "metadata": {},
     "output_type": "execute_result"
    }
   ],
   "source": [
    "movies.original_title.loc[movies.original_title.duplicated()]"
   ]
  },
  {
   "cell_type": "code",
   "execution_count": 7,
   "id": "6d666f1b",
   "metadata": {
    "execution": {
     "iopub.execute_input": "2022-08-05T20:36:53.378587Z",
     "iopub.status.busy": "2022-08-05T20:36:53.378256Z",
     "iopub.status.idle": "2022-08-05T20:36:53.383917Z",
     "shell.execute_reply": "2022-08-05T20:36:53.382846Z"
    },
    "papermill": {
     "duration": 0.015642,
     "end_time": "2022-08-05T20:36:53.386037",
     "exception": false,
     "start_time": "2022-08-05T20:36:53.370395",
     "status": "completed"
    },
    "tags": []
   },
   "outputs": [],
   "source": [
    "movies.original_title.iloc[3693]='Out of the Blue 2006'"
   ]
  },
  {
   "cell_type": "code",
   "execution_count": 8,
   "id": "bc7fff94",
   "metadata": {
    "execution": {
     "iopub.execute_input": "2022-08-05T20:36:53.400778Z",
     "iopub.status.busy": "2022-08-05T20:36:53.400057Z",
     "iopub.status.idle": "2022-08-05T20:36:53.405868Z",
     "shell.execute_reply": "2022-08-05T20:36:53.405104Z"
    },
    "papermill": {
     "duration": 0.015494,
     "end_time": "2022-08-05T20:36:53.407917",
     "exception": false,
     "start_time": "2022-08-05T20:36:53.392423",
     "status": "completed"
    },
    "tags": []
   },
   "outputs": [],
   "source": [
    "movies.original_title.iloc[4267]='Batman 1966'"
   ]
  },
  {
   "cell_type": "markdown",
   "id": "ecc3d389",
   "metadata": {
    "papermill": {
     "duration": 0.006446,
     "end_time": "2022-08-05T20:36:53.421104",
     "exception": false,
     "start_time": "2022-08-05T20:36:53.414658",
     "status": "completed"
    },
    "tags": []
   },
   "source": [
    "# *Vectorization and Sigmoid Kernel*"
   ]
  },
  {
   "cell_type": "markdown",
   "id": "6cab6a9f",
   "metadata": {
    "papermill": {
     "duration": 0.006166,
     "end_time": "2022-08-05T20:36:53.433621",
     "exception": false,
     "start_time": "2022-08-05T20:36:53.427455",
     "status": "completed"
    },
    "tags": []
   },
   "source": [
    "*We need to create a vector for each overview (each movie) so we can compute similarity between movies, but before that, let's fill nan values in the overview column, with an empty string.*"
   ]
  },
  {
   "cell_type": "code",
   "execution_count": 9,
   "id": "6e27d5cd",
   "metadata": {
    "execution": {
     "iopub.execute_input": "2022-08-05T20:36:53.449742Z",
     "iopub.status.busy": "2022-08-05T20:36:53.448569Z",
     "iopub.status.idle": "2022-08-05T20:36:53.455560Z",
     "shell.execute_reply": "2022-08-05T20:36:53.454529Z"
    },
    "papermill": {
     "duration": 0.017354,
     "end_time": "2022-08-05T20:36:53.457873",
     "exception": false,
     "start_time": "2022-08-05T20:36:53.440519",
     "status": "completed"
    },
    "tags": []
   },
   "outputs": [],
   "source": [
    "movies.overview=movies.overview.fillna(\" \")"
   ]
  },
  {
   "cell_type": "code",
   "execution_count": 10,
   "id": "aca7b0b6",
   "metadata": {
    "execution": {
     "iopub.execute_input": "2022-08-05T20:36:53.473314Z",
     "iopub.status.busy": "2022-08-05T20:36:53.472884Z",
     "iopub.status.idle": "2022-08-05T20:36:54.422210Z",
     "shell.execute_reply": "2022-08-05T20:36:54.421207Z"
    },
    "papermill": {
     "duration": 0.96007,
     "end_time": "2022-08-05T20:36:54.424839",
     "exception": false,
     "start_time": "2022-08-05T20:36:53.464769",
     "status": "completed"
    },
    "tags": []
   },
   "outputs": [],
   "source": [
    "from sklearn.feature_extraction.text import TfidfVectorizer\n",
    "tfv=TfidfVectorizer(min_df=3, max_features=None,strip_accents='unicode',token_pattern=r'\\w{1,}',ngram_range=(1,3),stop_words='english')"
   ]
  },
  {
   "cell_type": "code",
   "execution_count": 11,
   "id": "d4c73fdf",
   "metadata": {
    "execution": {
     "iopub.execute_input": "2022-08-05T20:36:54.439898Z",
     "iopub.status.busy": "2022-08-05T20:36:54.439545Z",
     "iopub.status.idle": "2022-08-05T20:36:55.285748Z",
     "shell.execute_reply": "2022-08-05T20:36:55.284613Z"
    },
    "papermill": {
     "duration": 0.856857,
     "end_time": "2022-08-05T20:36:55.288523",
     "exception": false,
     "start_time": "2022-08-05T20:36:54.431666",
     "status": "completed"
    },
    "tags": []
   },
   "outputs": [],
   "source": [
    "tfv_matrix=tfv.fit_transform(movies.overview)"
   ]
  },
  {
   "cell_type": "code",
   "execution_count": 12,
   "id": "cc37fbef",
   "metadata": {
    "execution": {
     "iopub.execute_input": "2022-08-05T20:36:55.303809Z",
     "iopub.status.busy": "2022-08-05T20:36:55.303198Z",
     "iopub.status.idle": "2022-08-05T20:36:55.310054Z",
     "shell.execute_reply": "2022-08-05T20:36:55.309164Z"
    },
    "papermill": {
     "duration": 0.017051,
     "end_time": "2022-08-05T20:36:55.312428",
     "exception": false,
     "start_time": "2022-08-05T20:36:55.295377",
     "status": "completed"
    },
    "tags": []
   },
   "outputs": [
    {
     "data": {
      "text/plain": [
       "(4803, 10417)"
      ]
     },
     "execution_count": 12,
     "metadata": {},
     "output_type": "execute_result"
    }
   ],
   "source": [
    "tfv_matrix.shape"
   ]
  },
  {
   "cell_type": "markdown",
   "id": "d0795007",
   "metadata": {
    "papermill": {
     "duration": 0.006486,
     "end_time": "2022-08-05T20:36:55.325839",
     "exception": false,
     "start_time": "2022-08-05T20:36:55.319353",
     "status": "completed"
    },
    "tags": []
   },
   "source": [
    "*Now let's find correlation between the vectors for each pair of overviews*"
   ]
  },
  {
   "cell_type": "markdown",
   "id": "9fcc6a95",
   "metadata": {
    "papermill": {
     "duration": 0.00641,
     "end_time": "2022-08-05T20:36:55.338902",
     "exception": false,
     "start_time": "2022-08-05T20:36:55.332492",
     "status": "completed"
    },
    "tags": []
   },
   "source": [
    "## *A Little About Sigmoid Kernel*\n",
    "\n",
    "*The function sigmoid_kernel computes the sigmoid kernel between two vectors. The sigmoid kernel is also known as hyperbolic tangent, or Multilayer Perceptron (because, in the neural network field, it is often used as neuron activation function). It is defined as:*\n",
    "\n",
    "\n",
    "*where:*\n",
    "\n",
    "<img src='https://nixustechnologies.com/wp-content/uploads/2022/03/the-sigmoid-kernel-function.webp'>\n",
    "\n",
    "*x, y are the input vectors*\n",
    "\n",
    "a *is known as slope*\n",
    "\n",
    "c *is known as intercept*"
   ]
  },
  {
   "cell_type": "code",
   "execution_count": 13,
   "id": "77ae27c5",
   "metadata": {
    "execution": {
     "iopub.execute_input": "2022-08-05T20:36:55.354400Z",
     "iopub.status.busy": "2022-08-05T20:36:55.353682Z",
     "iopub.status.idle": "2022-08-05T20:36:56.590840Z",
     "shell.execute_reply": "2022-08-05T20:36:56.589642Z"
    },
    "papermill": {
     "duration": 1.247914,
     "end_time": "2022-08-05T20:36:56.593540",
     "exception": false,
     "start_time": "2022-08-05T20:36:55.345626",
     "status": "completed"
    },
    "tags": []
   },
   "outputs": [],
   "source": [
    "from sklearn.metrics.pairwise import sigmoid_kernel\n",
    "sig=sigmoid_kernel(tfv_matrix,tfv_matrix)"
   ]
  },
  {
   "cell_type": "code",
   "execution_count": 14,
   "id": "dadf03fb",
   "metadata": {
    "execution": {
     "iopub.execute_input": "2022-08-05T20:36:56.608918Z",
     "iopub.status.busy": "2022-08-05T20:36:56.608557Z",
     "iopub.status.idle": "2022-08-05T20:36:56.614993Z",
     "shell.execute_reply": "2022-08-05T20:36:56.613942Z"
    },
    "papermill": {
     "duration": 0.016811,
     "end_time": "2022-08-05T20:36:56.617312",
     "exception": false,
     "start_time": "2022-08-05T20:36:56.600501",
     "status": "completed"
    },
    "tags": []
   },
   "outputs": [
    {
     "data": {
      "text/plain": [
       "array([0.76159416, 0.76163447, 0.76159416, ..., 0.76159513, 0.76159416,\n",
       "       0.76159416])"
      ]
     },
     "execution_count": 14,
     "metadata": {},
     "output_type": "execute_result"
    }
   ],
   "source": [
    "sig[1]"
   ]
  },
  {
   "cell_type": "markdown",
   "id": "d5141d8c",
   "metadata": {
    "papermill": {
     "duration": 0.006347,
     "end_time": "2022-08-05T20:36:56.630777",
     "exception": false,
     "start_time": "2022-08-05T20:36:56.624430",
     "status": "completed"
    },
    "tags": []
   },
   "source": [
    "*Next we're writing a function to take a movie name as input and returns similar movies based on the overview.*\n",
    "\n",
    "*Here's what this function does:*\n",
    "\n",
    "1. *Finds the index of the movie name, using original_title column*\n",
    "\n",
    "1. *Finds the values obtained from sigmoid kernel for that index (remember, sigmoid kernel returns a n * n matrix, n= number of movies)*\n",
    "\n",
    "1. *We now have the similarity scores between the input movie and all the other movies (including itself) so it now enumerates the scores, so we know which score belongs to which index.*\n",
    "\n",
    "1. *It sorts the scores, remember that we have the the scores and the indices*\n",
    "\n",
    "1. *It makes a list of indices of the most similar movies*\n",
    "\n",
    "1. *It returns the movies belonging to those indices*"
   ]
  },
  {
   "cell_type": "code",
   "execution_count": 15,
   "id": "30e825bc",
   "metadata": {
    "execution": {
     "iopub.execute_input": "2022-08-05T20:36:56.646216Z",
     "iopub.status.busy": "2022-08-05T20:36:56.645465Z",
     "iopub.status.idle": "2022-08-05T20:36:56.652069Z",
     "shell.execute_reply": "2022-08-05T20:36:56.651366Z"
    },
    "papermill": {
     "duration": 0.01684,
     "end_time": "2022-08-05T20:36:56.654300",
     "exception": false,
     "start_time": "2022-08-05T20:36:56.637460",
     "status": "completed"
    },
    "tags": []
   },
   "outputs": [],
   "source": [
    "def recommend_movies(movie):\n",
    "    idx=movies.loc[movies.original_title==movie,:].index[0]\n",
    "    recom=list(enumerate(sig[idx]))\n",
    "    top_recom=sorted(recom, key=lambda x:x[1],reverse=True)[1:6]\n",
    "    top_idx=[i[0] for i in top_recom]\n",
    "    top_movies=movies.original_title.iloc[top_idx]\n",
    "    top_movies.reset_index(drop=True,inplace=True)\n",
    "    return top_movies"
   ]
  },
  {
   "cell_type": "code",
   "execution_count": 16,
   "id": "5b462b3c",
   "metadata": {
    "execution": {
     "iopub.execute_input": "2022-08-05T20:36:56.669351Z",
     "iopub.status.busy": "2022-08-05T20:36:56.669008Z",
     "iopub.status.idle": "2022-08-05T20:36:56.682838Z",
     "shell.execute_reply": "2022-08-05T20:36:56.681998Z"
    },
    "papermill": {
     "duration": 0.024223,
     "end_time": "2022-08-05T20:36:56.685315",
     "exception": false,
     "start_time": "2022-08-05T20:36:56.661092",
     "status": "completed"
    },
    "tags": []
   },
   "outputs": [
    {
     "data": {
      "text/plain": [
       "0    The Dark Knight Rises\n",
       "1            Batman Begins\n",
       "2           Batman & Robin\n",
       "3           Batman Forever\n",
       "4           Batman Returns\n",
       "Name: original_title, dtype: object"
      ]
     },
     "execution_count": 16,
     "metadata": {},
     "output_type": "execute_result"
    }
   ],
   "source": [
    "recommend_movies('Batman')"
   ]
  },
  {
   "cell_type": "markdown",
   "id": "ba226dd9",
   "metadata": {
    "papermill": {
     "duration": 0.006663,
     "end_time": "2022-08-05T20:36:56.699360",
     "exception": false,
     "start_time": "2022-08-05T20:36:56.692697",
     "status": "completed"
    },
    "tags": []
   },
   "source": [
    "# *Reference*\n",
    "[This YT video](https://www.youtube.com/watch?v=i4a0Of22QRg&list=PLZoTAELRMXVN7QGpcuN-Vg35Hgjp3htvi&index=6)"
   ]
  }
 ],
 "metadata": {
  "kernelspec": {
   "display_name": "Python 3",
   "language": "python",
   "name": "python3"
  },
  "language_info": {
   "codemirror_mode": {
    "name": "ipython",
    "version": 3
   },
   "file_extension": ".py",
   "mimetype": "text/x-python",
   "name": "python",
   "nbconvert_exporter": "python",
   "pygments_lexer": "ipython3",
   "version": "3.7.12"
  },
  "papermill": {
   "default_parameters": {},
   "duration": 13.454015,
   "end_time": "2022-08-05T20:36:57.427347",
   "environment_variables": {},
   "exception": null,
   "input_path": "__notebook__.ipynb",
   "output_path": "__notebook__.ipynb",
   "parameters": {},
   "start_time": "2022-08-05T20:36:43.973332",
   "version": "2.3.4"
  }
 },
 "nbformat": 4,
 "nbformat_minor": 5
}
