{
 "cells": [
  {
   "cell_type": "markdown",
   "id": "1b25ec11",
   "metadata": {
    "papermill": {
     "duration": 0.008161,
     "end_time": "2022-08-03T13:56:24.239266",
     "exception": false,
     "start_time": "2022-08-03T13:56:24.231105",
     "status": "completed"
    },
    "tags": []
   },
   "source": [
    "<p style=\"font-size:20px; color:orange; text-align:center\"><b>This is a project to get started with recommendation systems!</b></p>"
   ]
  },
  {
   "cell_type": "code",
   "execution_count": 1,
   "id": "b1f19662",
   "metadata": {
    "_cell_guid": "b1076dfc-b9ad-4769-8c92-a6c4dae69d19",
    "_uuid": "8f2839f25d086af736a60e9eeb907d3b93b6e0e5",
    "execution": {
     "iopub.execute_input": "2022-08-03T13:56:24.256325Z",
     "iopub.status.busy": "2022-08-03T13:56:24.255599Z",
     "iopub.status.idle": "2022-08-03T13:56:24.282078Z",
     "shell.execute_reply": "2022-08-03T13:56:24.280765Z"
    },
    "papermill": {
     "duration": 0.038978,
     "end_time": "2022-08-03T13:56:24.285265",
     "exception": false,
     "start_time": "2022-08-03T13:56:24.246287",
     "status": "completed"
    },
    "tags": []
   },
   "outputs": [
    {
     "name": "stdout",
     "output_type": "stream",
     "text": [
      "/kaggle/input/moviesratings/ratings.csv\n",
      "/kaggle/input/movies/movies.csv\n"
     ]
    }
   ],
   "source": [
    "import numpy as np \n",
    "import pandas as pd \n",
    "\n",
    "import os\n",
    "for dirname, _, filenames in os.walk('/kaggle/input'):\n",
    "    for filename in filenames:\n",
    "        print(os.path.join(dirname, filename))"
   ]
  },
  {
   "cell_type": "markdown",
   "id": "c49a4cc1",
   "metadata": {
    "papermill": {
     "duration": 0.007406,
     "end_time": "2022-08-03T13:56:24.299981",
     "exception": false,
     "start_time": "2022-08-03T13:56:24.292575",
     "status": "completed"
    },
    "tags": []
   },
   "source": [
    "\n",
    "<p style=\"font-size:18px; color:orange;\">Below we can see the types of recommender systems, In this notebook the focus is going to be on Collaborative systems</p>\n",
    "\n",
    "<img src='https://www.alpha-quantum.com/blog/wp-content/uploads/2020/05/img_5ed4354677fb7.png'>"
   ]
  },
  {
   "cell_type": "markdown",
   "id": "d9e0d328",
   "metadata": {
    "papermill": {
     "duration": 0.006833,
     "end_time": "2022-08-03T13:56:24.314151",
     "exception": false,
     "start_time": "2022-08-03T13:56:24.307318",
     "status": "completed"
    },
    "tags": []
   },
   "source": [
    "# Import Data"
   ]
  },
  {
   "cell_type": "code",
   "execution_count": 2,
   "id": "3732bc7d",
   "metadata": {
    "execution": {
     "iopub.execute_input": "2022-08-03T13:56:24.330202Z",
     "iopub.status.busy": "2022-08-03T13:56:24.329753Z",
     "iopub.status.idle": "2022-08-03T13:56:24.431616Z",
     "shell.execute_reply": "2022-08-03T13:56:24.430476Z"
    },
    "papermill": {
     "duration": 0.113518,
     "end_time": "2022-08-03T13:56:24.434534",
     "exception": false,
     "start_time": "2022-08-03T13:56:24.321016",
     "status": "completed"
    },
    "tags": []
   },
   "outputs": [],
   "source": [
    "movies_df = pd.read_csv('/kaggle/input/movies/movies.csv',usecols=['movieId','title'],dtype={'movieId': 'int32', 'title': 'str'})\n",
    "rating_df=pd.read_csv('/kaggle/input/moviesratings/ratings.csv',usecols=['userId', 'movieId', 'rating'],\n",
    "    dtype={'userId': 'int32', 'movieId': 'int32', 'rating': 'float32'})"
   ]
  },
  {
   "cell_type": "code",
   "execution_count": 3,
   "id": "cbf3b411",
   "metadata": {
    "execution": {
     "iopub.execute_input": "2022-08-03T13:56:24.451266Z",
     "iopub.status.busy": "2022-08-03T13:56:24.450260Z",
     "iopub.status.idle": "2022-08-03T13:56:24.472443Z",
     "shell.execute_reply": "2022-08-03T13:56:24.471099Z"
    },
    "papermill": {
     "duration": 0.033746,
     "end_time": "2022-08-03T13:56:24.475490",
     "exception": false,
     "start_time": "2022-08-03T13:56:24.441744",
     "status": "completed"
    },
    "tags": []
   },
   "outputs": [
    {
     "data": {
      "text/html": [
       "<div>\n",
       "<style scoped>\n",
       "    .dataframe tbody tr th:only-of-type {\n",
       "        vertical-align: middle;\n",
       "    }\n",
       "\n",
       "    .dataframe tbody tr th {\n",
       "        vertical-align: top;\n",
       "    }\n",
       "\n",
       "    .dataframe thead th {\n",
       "        text-align: right;\n",
       "    }\n",
       "</style>\n",
       "<table border=\"1\" class=\"dataframe\">\n",
       "  <thead>\n",
       "    <tr style=\"text-align: right;\">\n",
       "      <th></th>\n",
       "      <th>movieId</th>\n",
       "      <th>title</th>\n",
       "    </tr>\n",
       "  </thead>\n",
       "  <tbody>\n",
       "    <tr>\n",
       "      <th>0</th>\n",
       "      <td>1</td>\n",
       "      <td>Toy Story (1995)</td>\n",
       "    </tr>\n",
       "    <tr>\n",
       "      <th>1</th>\n",
       "      <td>2</td>\n",
       "      <td>Jumanji (1995)</td>\n",
       "    </tr>\n",
       "    <tr>\n",
       "      <th>2</th>\n",
       "      <td>3</td>\n",
       "      <td>Grumpier Old Men (1995)</td>\n",
       "    </tr>\n",
       "    <tr>\n",
       "      <th>3</th>\n",
       "      <td>4</td>\n",
       "      <td>Waiting to Exhale (1995)</td>\n",
       "    </tr>\n",
       "    <tr>\n",
       "      <th>4</th>\n",
       "      <td>5</td>\n",
       "      <td>Father of the Bride Part II (1995)</td>\n",
       "    </tr>\n",
       "  </tbody>\n",
       "</table>\n",
       "</div>"
      ],
      "text/plain": [
       "   movieId                               title\n",
       "0        1                    Toy Story (1995)\n",
       "1        2                      Jumanji (1995)\n",
       "2        3             Grumpier Old Men (1995)\n",
       "3        4            Waiting to Exhale (1995)\n",
       "4        5  Father of the Bride Part II (1995)"
      ]
     },
     "execution_count": 3,
     "metadata": {},
     "output_type": "execute_result"
    }
   ],
   "source": [
    "movies_df.head()"
   ]
  },
  {
   "cell_type": "code",
   "execution_count": 4,
   "id": "e8986e1e",
   "metadata": {
    "execution": {
     "iopub.execute_input": "2022-08-03T13:56:24.492934Z",
     "iopub.status.busy": "2022-08-03T13:56:24.491699Z",
     "iopub.status.idle": "2022-08-03T13:56:24.506441Z",
     "shell.execute_reply": "2022-08-03T13:56:24.505180Z"
    },
    "papermill": {
     "duration": 0.026108,
     "end_time": "2022-08-03T13:56:24.509054",
     "exception": false,
     "start_time": "2022-08-03T13:56:24.482946",
     "status": "completed"
    },
    "tags": []
   },
   "outputs": [
    {
     "data": {
      "text/html": [
       "<div>\n",
       "<style scoped>\n",
       "    .dataframe tbody tr th:only-of-type {\n",
       "        vertical-align: middle;\n",
       "    }\n",
       "\n",
       "    .dataframe tbody tr th {\n",
       "        vertical-align: top;\n",
       "    }\n",
       "\n",
       "    .dataframe thead th {\n",
       "        text-align: right;\n",
       "    }\n",
       "</style>\n",
       "<table border=\"1\" class=\"dataframe\">\n",
       "  <thead>\n",
       "    <tr style=\"text-align: right;\">\n",
       "      <th></th>\n",
       "      <th>userId</th>\n",
       "      <th>movieId</th>\n",
       "      <th>rating</th>\n",
       "    </tr>\n",
       "  </thead>\n",
       "  <tbody>\n",
       "    <tr>\n",
       "      <th>0</th>\n",
       "      <td>1</td>\n",
       "      <td>1</td>\n",
       "      <td>4.0</td>\n",
       "    </tr>\n",
       "    <tr>\n",
       "      <th>1</th>\n",
       "      <td>1</td>\n",
       "      <td>3</td>\n",
       "      <td>4.0</td>\n",
       "    </tr>\n",
       "    <tr>\n",
       "      <th>2</th>\n",
       "      <td>1</td>\n",
       "      <td>6</td>\n",
       "      <td>4.0</td>\n",
       "    </tr>\n",
       "    <tr>\n",
       "      <th>3</th>\n",
       "      <td>1</td>\n",
       "      <td>47</td>\n",
       "      <td>5.0</td>\n",
       "    </tr>\n",
       "    <tr>\n",
       "      <th>4</th>\n",
       "      <td>1</td>\n",
       "      <td>50</td>\n",
       "      <td>5.0</td>\n",
       "    </tr>\n",
       "  </tbody>\n",
       "</table>\n",
       "</div>"
      ],
      "text/plain": [
       "   userId  movieId  rating\n",
       "0       1        1     4.0\n",
       "1       1        3     4.0\n",
       "2       1        6     4.0\n",
       "3       1       47     5.0\n",
       "4       1       50     5.0"
      ]
     },
     "execution_count": 4,
     "metadata": {},
     "output_type": "execute_result"
    }
   ],
   "source": [
    "rating_df.head()"
   ]
  },
  {
   "cell_type": "markdown",
   "id": "0ccc88d2",
   "metadata": {
    "papermill": {
     "duration": 0.007032,
     "end_time": "2022-08-03T13:56:24.523494",
     "exception": false,
     "start_time": "2022-08-03T13:56:24.516462",
     "status": "completed"
    },
    "tags": []
   },
   "source": [
    "# Merge Datasets and Explore"
   ]
  },
  {
   "cell_type": "code",
   "execution_count": 5,
   "id": "c06ee300",
   "metadata": {
    "execution": {
     "iopub.execute_input": "2022-08-03T13:56:24.540627Z",
     "iopub.status.busy": "2022-08-03T13:56:24.539718Z",
     "iopub.status.idle": "2022-08-03T13:56:24.583203Z",
     "shell.execute_reply": "2022-08-03T13:56:24.581800Z"
    },
    "papermill": {
     "duration": 0.05563,
     "end_time": "2022-08-03T13:56:24.586335",
     "exception": false,
     "start_time": "2022-08-03T13:56:24.530705",
     "status": "completed"
    },
    "tags": []
   },
   "outputs": [],
   "source": [
    "df=pd.merge(movies_df,rating_df,on='movieId')"
   ]
  },
  {
   "cell_type": "code",
   "execution_count": 6,
   "id": "c4c16297",
   "metadata": {
    "execution": {
     "iopub.execute_input": "2022-08-03T13:56:24.604138Z",
     "iopub.status.busy": "2022-08-03T13:56:24.603667Z",
     "iopub.status.idle": "2022-08-03T13:56:24.617182Z",
     "shell.execute_reply": "2022-08-03T13:56:24.615963Z"
    },
    "papermill": {
     "duration": 0.024904,
     "end_time": "2022-08-03T13:56:24.619604",
     "exception": false,
     "start_time": "2022-08-03T13:56:24.594700",
     "status": "completed"
    },
    "tags": []
   },
   "outputs": [
    {
     "data": {
      "text/html": [
       "<div>\n",
       "<style scoped>\n",
       "    .dataframe tbody tr th:only-of-type {\n",
       "        vertical-align: middle;\n",
       "    }\n",
       "\n",
       "    .dataframe tbody tr th {\n",
       "        vertical-align: top;\n",
       "    }\n",
       "\n",
       "    .dataframe thead th {\n",
       "        text-align: right;\n",
       "    }\n",
       "</style>\n",
       "<table border=\"1\" class=\"dataframe\">\n",
       "  <thead>\n",
       "    <tr style=\"text-align: right;\">\n",
       "      <th></th>\n",
       "      <th>movieId</th>\n",
       "      <th>title</th>\n",
       "      <th>userId</th>\n",
       "      <th>rating</th>\n",
       "    </tr>\n",
       "  </thead>\n",
       "  <tbody>\n",
       "    <tr>\n",
       "      <th>0</th>\n",
       "      <td>1</td>\n",
       "      <td>Toy Story (1995)</td>\n",
       "      <td>1</td>\n",
       "      <td>4.0</td>\n",
       "    </tr>\n",
       "    <tr>\n",
       "      <th>1</th>\n",
       "      <td>1</td>\n",
       "      <td>Toy Story (1995)</td>\n",
       "      <td>5</td>\n",
       "      <td>4.0</td>\n",
       "    </tr>\n",
       "    <tr>\n",
       "      <th>2</th>\n",
       "      <td>1</td>\n",
       "      <td>Toy Story (1995)</td>\n",
       "      <td>7</td>\n",
       "      <td>4.5</td>\n",
       "    </tr>\n",
       "    <tr>\n",
       "      <th>3</th>\n",
       "      <td>1</td>\n",
       "      <td>Toy Story (1995)</td>\n",
       "      <td>15</td>\n",
       "      <td>2.5</td>\n",
       "    </tr>\n",
       "    <tr>\n",
       "      <th>4</th>\n",
       "      <td>1</td>\n",
       "      <td>Toy Story (1995)</td>\n",
       "      <td>17</td>\n",
       "      <td>4.5</td>\n",
       "    </tr>\n",
       "  </tbody>\n",
       "</table>\n",
       "</div>"
      ],
      "text/plain": [
       "   movieId             title  userId  rating\n",
       "0        1  Toy Story (1995)       1     4.0\n",
       "1        1  Toy Story (1995)       5     4.0\n",
       "2        1  Toy Story (1995)       7     4.5\n",
       "3        1  Toy Story (1995)      15     2.5\n",
       "4        1  Toy Story (1995)      17     4.5"
      ]
     },
     "execution_count": 6,
     "metadata": {},
     "output_type": "execute_result"
    }
   ],
   "source": [
    "df.head()"
   ]
  },
  {
   "cell_type": "code",
   "execution_count": 7,
   "id": "86ab98cb",
   "metadata": {
    "execution": {
     "iopub.execute_input": "2022-08-03T13:56:24.637223Z",
     "iopub.status.busy": "2022-08-03T13:56:24.636342Z",
     "iopub.status.idle": "2022-08-03T13:56:24.668110Z",
     "shell.execute_reply": "2022-08-03T13:56:24.666774Z"
    },
    "papermill": {
     "duration": 0.044003,
     "end_time": "2022-08-03T13:56:24.671201",
     "exception": false,
     "start_time": "2022-08-03T13:56:24.627198",
     "status": "completed"
    },
    "tags": []
   },
   "outputs": [],
   "source": [
    "rate_count=pd.DataFrame(df.groupby('title').size(), columns=['RateCount']).reset_index()"
   ]
  },
  {
   "cell_type": "code",
   "execution_count": 8,
   "id": "30cd7d47",
   "metadata": {
    "execution": {
     "iopub.execute_input": "2022-08-03T13:56:24.688984Z",
     "iopub.status.busy": "2022-08-03T13:56:24.688447Z",
     "iopub.status.idle": "2022-08-03T13:56:24.700665Z",
     "shell.execute_reply": "2022-08-03T13:56:24.699315Z"
    },
    "papermill": {
     "duration": 0.024244,
     "end_time": "2022-08-03T13:56:24.703219",
     "exception": false,
     "start_time": "2022-08-03T13:56:24.678975",
     "status": "completed"
    },
    "tags": []
   },
   "outputs": [
    {
     "data": {
      "text/html": [
       "<div>\n",
       "<style scoped>\n",
       "    .dataframe tbody tr th:only-of-type {\n",
       "        vertical-align: middle;\n",
       "    }\n",
       "\n",
       "    .dataframe tbody tr th {\n",
       "        vertical-align: top;\n",
       "    }\n",
       "\n",
       "    .dataframe thead th {\n",
       "        text-align: right;\n",
       "    }\n",
       "</style>\n",
       "<table border=\"1\" class=\"dataframe\">\n",
       "  <thead>\n",
       "    <tr style=\"text-align: right;\">\n",
       "      <th></th>\n",
       "      <th>title</th>\n",
       "      <th>RateCount</th>\n",
       "    </tr>\n",
       "  </thead>\n",
       "  <tbody>\n",
       "    <tr>\n",
       "      <th>0</th>\n",
       "      <td>'71 (2014)</td>\n",
       "      <td>1</td>\n",
       "    </tr>\n",
       "    <tr>\n",
       "      <th>1</th>\n",
       "      <td>'Hellboy': The Seeds of Creation (2004)</td>\n",
       "      <td>1</td>\n",
       "    </tr>\n",
       "    <tr>\n",
       "      <th>2</th>\n",
       "      <td>'Round Midnight (1986)</td>\n",
       "      <td>2</td>\n",
       "    </tr>\n",
       "    <tr>\n",
       "      <th>3</th>\n",
       "      <td>'Salem's Lot (2004)</td>\n",
       "      <td>1</td>\n",
       "    </tr>\n",
       "    <tr>\n",
       "      <th>4</th>\n",
       "      <td>'Til There Was You (1997)</td>\n",
       "      <td>2</td>\n",
       "    </tr>\n",
       "  </tbody>\n",
       "</table>\n",
       "</div>"
      ],
      "text/plain": [
       "                                     title  RateCount\n",
       "0                               '71 (2014)          1\n",
       "1  'Hellboy': The Seeds of Creation (2004)          1\n",
       "2                   'Round Midnight (1986)          2\n",
       "3                      'Salem's Lot (2004)          1\n",
       "4                'Til There Was You (1997)          2"
      ]
     },
     "execution_count": 8,
     "metadata": {},
     "output_type": "execute_result"
    }
   ],
   "source": [
    "rate_count.head()"
   ]
  },
  {
   "cell_type": "code",
   "execution_count": 9,
   "id": "b7562a0e",
   "metadata": {
    "execution": {
     "iopub.execute_input": "2022-08-03T13:56:24.721505Z",
     "iopub.status.busy": "2022-08-03T13:56:24.720972Z",
     "iopub.status.idle": "2022-08-03T13:56:24.754169Z",
     "shell.execute_reply": "2022-08-03T13:56:24.752490Z"
    },
    "papermill": {
     "duration": 0.045783,
     "end_time": "2022-08-03T13:56:24.756992",
     "exception": false,
     "start_time": "2022-08-03T13:56:24.711209",
     "status": "completed"
    },
    "tags": []
   },
   "outputs": [],
   "source": [
    "movie_rating=pd.merge(df,rate_count,on='title')"
   ]
  },
  {
   "cell_type": "code",
   "execution_count": 10,
   "id": "4fff9373",
   "metadata": {
    "execution": {
     "iopub.execute_input": "2022-08-03T13:56:24.774994Z",
     "iopub.status.busy": "2022-08-03T13:56:24.774499Z",
     "iopub.status.idle": "2022-08-03T13:56:24.788444Z",
     "shell.execute_reply": "2022-08-03T13:56:24.787262Z"
    },
    "papermill": {
     "duration": 0.026033,
     "end_time": "2022-08-03T13:56:24.790982",
     "exception": false,
     "start_time": "2022-08-03T13:56:24.764949",
     "status": "completed"
    },
    "tags": []
   },
   "outputs": [
    {
     "data": {
      "text/html": [
       "<div>\n",
       "<style scoped>\n",
       "    .dataframe tbody tr th:only-of-type {\n",
       "        vertical-align: middle;\n",
       "    }\n",
       "\n",
       "    .dataframe tbody tr th {\n",
       "        vertical-align: top;\n",
       "    }\n",
       "\n",
       "    .dataframe thead th {\n",
       "        text-align: right;\n",
       "    }\n",
       "</style>\n",
       "<table border=\"1\" class=\"dataframe\">\n",
       "  <thead>\n",
       "    <tr style=\"text-align: right;\">\n",
       "      <th></th>\n",
       "      <th>movieId</th>\n",
       "      <th>title</th>\n",
       "      <th>userId</th>\n",
       "      <th>rating</th>\n",
       "      <th>RateCount</th>\n",
       "    </tr>\n",
       "  </thead>\n",
       "  <tbody>\n",
       "    <tr>\n",
       "      <th>0</th>\n",
       "      <td>1</td>\n",
       "      <td>Toy Story (1995)</td>\n",
       "      <td>1</td>\n",
       "      <td>4.0</td>\n",
       "      <td>215</td>\n",
       "    </tr>\n",
       "    <tr>\n",
       "      <th>1</th>\n",
       "      <td>1</td>\n",
       "      <td>Toy Story (1995)</td>\n",
       "      <td>5</td>\n",
       "      <td>4.0</td>\n",
       "      <td>215</td>\n",
       "    </tr>\n",
       "    <tr>\n",
       "      <th>2</th>\n",
       "      <td>1</td>\n",
       "      <td>Toy Story (1995)</td>\n",
       "      <td>7</td>\n",
       "      <td>4.5</td>\n",
       "      <td>215</td>\n",
       "    </tr>\n",
       "    <tr>\n",
       "      <th>3</th>\n",
       "      <td>1</td>\n",
       "      <td>Toy Story (1995)</td>\n",
       "      <td>15</td>\n",
       "      <td>2.5</td>\n",
       "      <td>215</td>\n",
       "    </tr>\n",
       "    <tr>\n",
       "      <th>4</th>\n",
       "      <td>1</td>\n",
       "      <td>Toy Story (1995)</td>\n",
       "      <td>17</td>\n",
       "      <td>4.5</td>\n",
       "      <td>215</td>\n",
       "    </tr>\n",
       "  </tbody>\n",
       "</table>\n",
       "</div>"
      ],
      "text/plain": [
       "   movieId             title  userId  rating  RateCount\n",
       "0        1  Toy Story (1995)       1     4.0        215\n",
       "1        1  Toy Story (1995)       5     4.0        215\n",
       "2        1  Toy Story (1995)       7     4.5        215\n",
       "3        1  Toy Story (1995)      15     2.5        215\n",
       "4        1  Toy Story (1995)      17     4.5        215"
      ]
     },
     "execution_count": 10,
     "metadata": {},
     "output_type": "execute_result"
    }
   ],
   "source": [
    "movie_rating.head()"
   ]
  },
  {
   "cell_type": "code",
   "execution_count": 11,
   "id": "c1a4e5c6",
   "metadata": {
    "execution": {
     "iopub.execute_input": "2022-08-03T13:56:24.810174Z",
     "iopub.status.busy": "2022-08-03T13:56:24.809672Z",
     "iopub.status.idle": "2022-08-03T13:56:24.824785Z",
     "shell.execute_reply": "2022-08-03T13:56:24.823773Z"
    },
    "papermill": {
     "duration": 0.029828,
     "end_time": "2022-08-03T13:56:24.829056",
     "exception": false,
     "start_time": "2022-08-03T13:56:24.799228",
     "status": "completed"
    },
    "tags": []
   },
   "outputs": [
    {
     "data": {
      "text/plain": [
       "count   9719.00\n",
       "mean      10.38\n",
       "std       22.41\n",
       "min        1.00\n",
       "25%        1.00\n",
       "50%        3.00\n",
       "75%        9.00\n",
       "max      329.00\n",
       "Name: RateCount, dtype: float64"
      ]
     },
     "execution_count": 11,
     "metadata": {},
     "output_type": "execute_result"
    }
   ],
   "source": [
    "pd.set_option('display.float_format', lambda x: '%.2f' % x)\n",
    "rate_count.RateCount.describe()"
   ]
  },
  {
   "cell_type": "code",
   "execution_count": 12,
   "id": "3acf33ce",
   "metadata": {
    "execution": {
     "iopub.execute_input": "2022-08-03T13:56:24.851209Z",
     "iopub.status.busy": "2022-08-03T13:56:24.850763Z",
     "iopub.status.idle": "2022-08-03T13:56:25.061857Z",
     "shell.execute_reply": "2022-08-03T13:56:25.060576Z"
    },
    "papermill": {
     "duration": 0.223527,
     "end_time": "2022-08-03T13:56:25.064647",
     "exception": false,
     "start_time": "2022-08-03T13:56:24.841120",
     "status": "completed"
    },
    "tags": []
   },
   "outputs": [
    {
     "data": {
      "text/plain": [
       "<AxesSubplot:>"
      ]
     },
     "execution_count": 12,
     "metadata": {},
     "output_type": "execute_result"
    },
    {
     "data": {
      "image/png": "[encoded data removed]",
      "text/plain": [
       "<Figure size 432x288 with 1 Axes>"
      ]
     },
     "metadata": {
      "needs_background": "light"
     },
     "output_type": "display_data"
    }
   ],
   "source": [
    "rate_count.RateCount.hist()"
   ]
  },
  {
   "cell_type": "code",
   "execution_count": 13,
   "id": "f1d0ad50",
   "metadata": {
    "execution": {
     "iopub.execute_input": "2022-08-03T13:56:25.084271Z",
     "iopub.status.busy": "2022-08-03T13:56:25.083480Z",
     "iopub.status.idle": "2022-08-03T13:56:25.107471Z",
     "shell.execute_reply": "2022-08-03T13:56:25.106100Z"
    },
    "papermill": {
     "duration": 0.037261,
     "end_time": "2022-08-03T13:56:25.110286",
     "exception": false,
     "start_time": "2022-08-03T13:56:25.073025",
     "status": "completed"
    },
    "tags": []
   },
   "outputs": [
    {
     "data": {
      "text/html": [
       "<div>\n",
       "<style scoped>\n",
       "    .dataframe tbody tr th:only-of-type {\n",
       "        vertical-align: middle;\n",
       "    }\n",
       "\n",
       "    .dataframe tbody tr th {\n",
       "        vertical-align: top;\n",
       "    }\n",
       "\n",
       "    .dataframe thead th {\n",
       "        text-align: right;\n",
       "    }\n",
       "</style>\n",
       "<table border=\"1\" class=\"dataframe\">\n",
       "  <thead>\n",
       "    <tr style=\"text-align: right;\">\n",
       "      <th></th>\n",
       "      <th>movieId</th>\n",
       "      <th>title</th>\n",
       "      <th>userId</th>\n",
       "      <th>rating</th>\n",
       "      <th>RateCount</th>\n",
       "    </tr>\n",
       "  </thead>\n",
       "  <tbody>\n",
       "    <tr>\n",
       "      <th>0</th>\n",
       "      <td>1</td>\n",
       "      <td>Toy Story (1995)</td>\n",
       "      <td>1</td>\n",
       "      <td>4.00</td>\n",
       "      <td>215</td>\n",
       "    </tr>\n",
       "    <tr>\n",
       "      <th>1</th>\n",
       "      <td>1</td>\n",
       "      <td>Toy Story (1995)</td>\n",
       "      <td>5</td>\n",
       "      <td>4.00</td>\n",
       "      <td>215</td>\n",
       "    </tr>\n",
       "    <tr>\n",
       "      <th>2</th>\n",
       "      <td>1</td>\n",
       "      <td>Toy Story (1995)</td>\n",
       "      <td>7</td>\n",
       "      <td>4.50</td>\n",
       "      <td>215</td>\n",
       "    </tr>\n",
       "    <tr>\n",
       "      <th>3</th>\n",
       "      <td>1</td>\n",
       "      <td>Toy Story (1995)</td>\n",
       "      <td>15</td>\n",
       "      <td>2.50</td>\n",
       "      <td>215</td>\n",
       "    </tr>\n",
       "    <tr>\n",
       "      <th>4</th>\n",
       "      <td>1</td>\n",
       "      <td>Toy Story (1995)</td>\n",
       "      <td>17</td>\n",
       "      <td>4.50</td>\n",
       "      <td>215</td>\n",
       "    </tr>\n",
       "  </tbody>\n",
       "</table>\n",
       "</div>"
      ],
      "text/plain": [
       "   movieId             title  userId  rating  RateCount\n",
       "0        1  Toy Story (1995)       1    4.00        215\n",
       "1        1  Toy Story (1995)       5    4.00        215\n",
       "2        1  Toy Story (1995)       7    4.50        215\n",
       "3        1  Toy Story (1995)      15    2.50        215\n",
       "4        1  Toy Story (1995)      17    4.50        215"
      ]
     },
     "execution_count": 13,
     "metadata": {},
     "output_type": "execute_result"
    }
   ],
   "source": [
    "popularity_threshold = 50 #since the majority of the rate counts are below 50\n",
    "rating_popular_movie= movie_rating.query('RateCount >= @popularity_threshold')\n",
    "rating_popular_movie.head()"
   ]
  },
  {
   "cell_type": "markdown",
   "id": "5de583cd",
   "metadata": {
    "papermill": {
     "duration": 0.009137,
     "end_time": "2022-08-03T13:56:25.128535",
     "exception": false,
     "start_time": "2022-08-03T13:56:25.119398",
     "status": "completed"
    },
    "tags": []
   },
   "source": [
    "# Pivot_table To Prepare Data For Using Cosine Similarity"
   ]
  },
  {
   "cell_type": "code",
   "execution_count": 14,
   "id": "cebce97d",
   "metadata": {
    "execution": {
     "iopub.execute_input": "2022-08-03T13:56:25.148557Z",
     "iopub.status.busy": "2022-08-03T13:56:25.147625Z",
     "iopub.status.idle": "2022-08-03T13:56:25.215886Z",
     "shell.execute_reply": "2022-08-03T13:56:25.214804Z"
    },
    "papermill": {
     "duration": 0.081576,
     "end_time": "2022-08-03T13:56:25.218800",
     "exception": false,
     "start_time": "2022-08-03T13:56:25.137224",
     "status": "completed"
    },
    "tags": []
   },
   "outputs": [],
   "source": [
    "#now we create a pivot tabel with user id as columns and titles as index\n",
    "#This table is going to help us with cosine similarity\n",
    "pivot_movie=rating_popular_movie.pivot_table(index='title',columns='userId',values='rating').fillna(0)"
   ]
  },
  {
   "cell_type": "code",
   "execution_count": 15,
   "id": "c70d0142",
   "metadata": {
    "execution": {
     "iopub.execute_input": "2022-08-03T13:56:25.240289Z",
     "iopub.status.busy": "2022-08-03T13:56:25.239405Z",
     "iopub.status.idle": "2022-08-03T13:56:25.262994Z",
     "shell.execute_reply": "2022-08-03T13:56:25.261669Z"
    },
    "papermill": {
     "duration": 0.036944,
     "end_time": "2022-08-03T13:56:25.265638",
     "exception": false,
     "start_time": "2022-08-03T13:56:25.228694",
     "status": "completed"
    },
    "tags": []
   },
   "outputs": [
    {
     "data": {
      "text/html": [
       "<div>\n",
       "<style scoped>\n",
       "    .dataframe tbody tr th:only-of-type {\n",
       "        vertical-align: middle;\n",
       "    }\n",
       "\n",
       "    .dataframe tbody tr th {\n",
       "        vertical-align: top;\n",
       "    }\n",
       "\n",
       "    .dataframe thead th {\n",
       "        text-align: right;\n",
       "    }\n",
       "</style>\n",
       "<table border=\"1\" class=\"dataframe\">\n",
       "  <thead>\n",
       "    <tr style=\"text-align: right;\">\n",
       "      <th>userId</th>\n",
       "      <th>1</th>\n",
       "      <th>2</th>\n",
       "      <th>3</th>\n",
       "      <th>4</th>\n",
       "      <th>5</th>\n",
       "      <th>6</th>\n",
       "      <th>7</th>\n",
       "      <th>8</th>\n",
       "      <th>9</th>\n",
       "      <th>10</th>\n",
       "      <th>...</th>\n",
       "      <th>601</th>\n",
       "      <th>602</th>\n",
       "      <th>603</th>\n",
       "      <th>604</th>\n",
       "      <th>605</th>\n",
       "      <th>606</th>\n",
       "      <th>607</th>\n",
       "      <th>608</th>\n",
       "      <th>609</th>\n",
       "      <th>610</th>\n",
       "    </tr>\n",
       "    <tr>\n",
       "      <th>title</th>\n",
       "      <th></th>\n",
       "      <th></th>\n",
       "      <th></th>\n",
       "      <th></th>\n",
       "      <th></th>\n",
       "      <th></th>\n",
       "      <th></th>\n",
       "      <th></th>\n",
       "      <th></th>\n",
       "      <th></th>\n",
       "      <th></th>\n",
       "      <th></th>\n",
       "      <th></th>\n",
       "      <th></th>\n",
       "      <th></th>\n",
       "      <th></th>\n",
       "      <th></th>\n",
       "      <th></th>\n",
       "      <th></th>\n",
       "      <th></th>\n",
       "      <th></th>\n",
       "    </tr>\n",
       "  </thead>\n",
       "  <tbody>\n",
       "    <tr>\n",
       "      <th>10 Things I Hate About You (1999)</th>\n",
       "      <td>0.00</td>\n",
       "      <td>0.00</td>\n",
       "      <td>0.00</td>\n",
       "      <td>0.00</td>\n",
       "      <td>0.00</td>\n",
       "      <td>0.00</td>\n",
       "      <td>0.00</td>\n",
       "      <td>0.00</td>\n",
       "      <td>0.00</td>\n",
       "      <td>0.00</td>\n",
       "      <td>...</td>\n",
       "      <td>0.00</td>\n",
       "      <td>0.00</td>\n",
       "      <td>3.00</td>\n",
       "      <td>0.00</td>\n",
       "      <td>5.00</td>\n",
       "      <td>0.00</td>\n",
       "      <td>0.00</td>\n",
       "      <td>0.00</td>\n",
       "      <td>0.00</td>\n",
       "      <td>0.00</td>\n",
       "    </tr>\n",
       "    <tr>\n",
       "      <th>12 Angry Men (1957)</th>\n",
       "      <td>0.00</td>\n",
       "      <td>0.00</td>\n",
       "      <td>0.00</td>\n",
       "      <td>5.00</td>\n",
       "      <td>0.00</td>\n",
       "      <td>0.00</td>\n",
       "      <td>0.00</td>\n",
       "      <td>0.00</td>\n",
       "      <td>0.00</td>\n",
       "      <td>0.00</td>\n",
       "      <td>...</td>\n",
       "      <td>5.00</td>\n",
       "      <td>0.00</td>\n",
       "      <td>0.00</td>\n",
       "      <td>0.00</td>\n",
       "      <td>0.00</td>\n",
       "      <td>0.00</td>\n",
       "      <td>0.00</td>\n",
       "      <td>0.00</td>\n",
       "      <td>0.00</td>\n",
       "      <td>0.00</td>\n",
       "    </tr>\n",
       "    <tr>\n",
       "      <th>2001: A Space Odyssey (1968)</th>\n",
       "      <td>0.00</td>\n",
       "      <td>0.00</td>\n",
       "      <td>0.00</td>\n",
       "      <td>0.00</td>\n",
       "      <td>0.00</td>\n",
       "      <td>0.00</td>\n",
       "      <td>4.00</td>\n",
       "      <td>0.00</td>\n",
       "      <td>0.00</td>\n",
       "      <td>0.00</td>\n",
       "      <td>...</td>\n",
       "      <td>0.00</td>\n",
       "      <td>0.00</td>\n",
       "      <td>5.00</td>\n",
       "      <td>0.00</td>\n",
       "      <td>0.00</td>\n",
       "      <td>5.00</td>\n",
       "      <td>0.00</td>\n",
       "      <td>3.00</td>\n",
       "      <td>0.00</td>\n",
       "      <td>4.50</td>\n",
       "    </tr>\n",
       "    <tr>\n",
       "      <th>28 Days Later (2002)</th>\n",
       "      <td>0.00</td>\n",
       "      <td>0.00</td>\n",
       "      <td>0.00</td>\n",
       "      <td>0.00</td>\n",
       "      <td>0.00</td>\n",
       "      <td>0.00</td>\n",
       "      <td>0.00</td>\n",
       "      <td>0.00</td>\n",
       "      <td>0.00</td>\n",
       "      <td>0.00</td>\n",
       "      <td>...</td>\n",
       "      <td>0.00</td>\n",
       "      <td>0.00</td>\n",
       "      <td>0.00</td>\n",
       "      <td>0.00</td>\n",
       "      <td>0.00</td>\n",
       "      <td>0.00</td>\n",
       "      <td>0.00</td>\n",
       "      <td>3.50</td>\n",
       "      <td>0.00</td>\n",
       "      <td>5.00</td>\n",
       "    </tr>\n",
       "    <tr>\n",
       "      <th>300 (2007)</th>\n",
       "      <td>0.00</td>\n",
       "      <td>0.00</td>\n",
       "      <td>0.00</td>\n",
       "      <td>0.00</td>\n",
       "      <td>0.00</td>\n",
       "      <td>0.00</td>\n",
       "      <td>0.00</td>\n",
       "      <td>0.00</td>\n",
       "      <td>0.00</td>\n",
       "      <td>3.00</td>\n",
       "      <td>...</td>\n",
       "      <td>0.00</td>\n",
       "      <td>0.00</td>\n",
       "      <td>0.00</td>\n",
       "      <td>0.00</td>\n",
       "      <td>3.00</td>\n",
       "      <td>0.00</td>\n",
       "      <td>0.00</td>\n",
       "      <td>5.00</td>\n",
       "      <td>0.00</td>\n",
       "      <td>4.00</td>\n",
       "    </tr>\n",
       "  </tbody>\n",
       "</table>\n",
       "<p>5 rows × 606 columns</p>\n",
       "</div>"
      ],
      "text/plain": [
       "userId                             1    2    3    4    5    6    7    8    \\\n",
       "title                                                                       \n",
       "10 Things I Hate About You (1999) 0.00 0.00 0.00 0.00 0.00 0.00 0.00 0.00   \n",
       "12 Angry Men (1957)               0.00 0.00 0.00 5.00 0.00 0.00 0.00 0.00   \n",
       "2001: A Space Odyssey (1968)      0.00 0.00 0.00 0.00 0.00 0.00 4.00 0.00   \n",
       "28 Days Later (2002)              0.00 0.00 0.00 0.00 0.00 0.00 0.00 0.00   \n",
       "300 (2007)                        0.00 0.00 0.00 0.00 0.00 0.00 0.00 0.00   \n",
       "\n",
       "userId                             9    10   ...  601  602  603  604  605  \\\n",
       "title                                        ...                            \n",
       "10 Things I Hate About You (1999) 0.00 0.00  ... 0.00 0.00 3.00 0.00 5.00   \n",
       "12 Angry Men (1957)               0.00 0.00  ... 5.00 0.00 0.00 0.00 0.00   \n",
       "2001: A Space Odyssey (1968)      0.00 0.00  ... 0.00 0.00 5.00 0.00 0.00   \n",
       "28 Days Later (2002)              0.00 0.00  ... 0.00 0.00 0.00 0.00 0.00   \n",
       "300 (2007)                        0.00 3.00  ... 0.00 0.00 0.00 0.00 3.00   \n",
       "\n",
       "userId                             606  607  608  609  610  \n",
       "title                                                       \n",
       "10 Things I Hate About You (1999) 0.00 0.00 0.00 0.00 0.00  \n",
       "12 Angry Men (1957)               0.00 0.00 0.00 0.00 0.00  \n",
       "2001: A Space Odyssey (1968)      5.00 0.00 3.00 0.00 4.50  \n",
       "28 Days Later (2002)              0.00 0.00 3.50 0.00 5.00  \n",
       "300 (2007)                        0.00 0.00 5.00 0.00 4.00  \n",
       "\n",
       "[5 rows x 606 columns]"
      ]
     },
     "execution_count": 15,
     "metadata": {},
     "output_type": "execute_result"
    }
   ],
   "source": [
    "pivot_movie.head() "
   ]
  },
  {
   "cell_type": "markdown",
   "id": "e36e010e",
   "metadata": {
    "papermill": {
     "duration": 0.008824,
     "end_time": "2022-08-03T13:56:25.283710",
     "exception": false,
     "start_time": "2022-08-03T13:56:25.274886",
     "status": "completed"
    },
    "tags": []
   },
   "source": [
    "## A little about cosine similarity\n",
    "\n",
    "<p style= 'font-size:18px;'><i>In data analysis, cosine similarity is a measure of similarity between two sequences of numbers. a simple example is the picture below, we have two 2-D vectors, similarity between vector A and vector B, determines whether two vectors are pointing in roughly the same direction, so we compute cos(&Theta;) where &Theta; is the angle between them, if it's 0 then the similarity is 1 and if it's 90, the similarity is 0.</i></p>"
   ]
  },
  {
   "cell_type": "markdown",
   "id": "39d73084",
   "metadata": {
    "papermill": {
     "duration": 0.008476,
     "end_time": "2022-08-03T13:56:25.301148",
     "exception": false,
     "start_time": "2022-08-03T13:56:25.292672",
     "status": "completed"
    },
    "tags": []
   },
   "source": [
    "<img src='https://media-exp2.licdn.com/dms/image/C4E12AQF9Q-nIc3bkhQ/article-inline_image-shrink_1500_2232/0/1535343574742?e=1662595200&v=beta&t=SrmavGUZPwK0bJgcqZ0akENhBEe-aZ30W_O5ViP-XVs' width=500>"
   ]
  },
  {
   "cell_type": "code",
   "execution_count": 16,
   "id": "4cd6d46c",
   "metadata": {
    "execution": {
     "iopub.execute_input": "2022-08-03T13:56:25.321192Z",
     "iopub.status.busy": "2022-08-03T13:56:25.320681Z",
     "iopub.status.idle": "2022-08-03T13:56:26.742790Z",
     "shell.execute_reply": "2022-08-03T13:56:26.741400Z"
    },
    "papermill": {
     "duration": 1.435251,
     "end_time": "2022-08-03T13:56:26.745287",
     "exception": false,
     "start_time": "2022-08-03T13:56:25.310036",
     "status": "completed"
    },
    "tags": []
   },
   "outputs": [
    {
     "data": {
      "text/plain": [
       "NearestNeighbors(metric='cosine')"
      ]
     },
     "execution_count": 16,
     "metadata": {},
     "output_type": "execute_result"
    }
   ],
   "source": [
    "# we are going to convert this pivot table to an array matrix using csr_matrix\n",
    "from scipy.sparse import csr_matrix\n",
    "pivot_movie_matrix = csr_matrix(pivot_movie.values)\n",
    "#Note that we are using nearest neighbors, this is unsupervised and NOT the same as knn supervised model\n",
    "from sklearn.neighbors import NearestNeighbors\n",
    "model_nn = NearestNeighbors(metric = 'cosine', algorithm = 'auto')\n",
    "model_nn.fit(pivot_movie_matrix)"
   ]
  },
  {
   "cell_type": "code",
   "execution_count": 17,
   "id": "25a591c3",
   "metadata": {
    "execution": {
     "iopub.execute_input": "2022-08-03T13:56:26.766208Z",
     "iopub.status.busy": "2022-08-03T13:56:26.765205Z",
     "iopub.status.idle": "2022-08-03T13:56:26.772345Z",
     "shell.execute_reply": "2022-08-03T13:56:26.771543Z"
    },
    "papermill": {
     "duration": 0.019789,
     "end_time": "2022-08-03T13:56:26.774310",
     "exception": false,
     "start_time": "2022-08-03T13:56:26.754521",
     "status": "completed"
    },
    "tags": []
   },
   "outputs": [
    {
     "data": {
      "text/plain": [
       "(450, 606)"
      ]
     },
     "execution_count": 17,
     "metadata": {},
     "output_type": "execute_result"
    }
   ],
   "source": [
    "pivot_movie_matrix.shape"
   ]
  },
  {
   "cell_type": "markdown",
   "id": "d1c6ee34",
   "metadata": {
    "papermill": {
     "duration": 0.008847,
     "end_time": "2022-08-03T13:56:26.792576",
     "exception": false,
     "start_time": "2022-08-03T13:56:26.783729",
     "status": "completed"
    },
    "tags": []
   },
   "source": [
    "# Testing the System"
   ]
  },
  {
   "cell_type": "code",
   "execution_count": 18,
   "id": "7dd3da25",
   "metadata": {
    "execution": {
     "iopub.execute_input": "2022-08-03T13:56:26.813440Z",
     "iopub.status.busy": "2022-08-03T13:56:26.812522Z",
     "iopub.status.idle": "2022-08-03T13:56:26.821573Z",
     "shell.execute_reply": "2022-08-03T13:56:26.820727Z"
    },
    "papermill": {
     "duration": 0.022094,
     "end_time": "2022-08-03T13:56:26.823803",
     "exception": false,
     "start_time": "2022-08-03T13:56:26.801709",
     "status": "completed"
    },
    "tags": []
   },
   "outputs": [
    {
     "data": {
      "text/plain": [
       "426"
      ]
     },
     "execution_count": 18,
     "metadata": {},
     "output_type": "execute_result"
    }
   ],
   "source": [
    "#for testing, we are going to randomly choose a row (a movie)\n",
    "query_index = np.random.choice(pivot_movie_matrix.shape[0])\n",
    "query_index"
   ]
  },
  {
   "cell_type": "code",
   "execution_count": 19,
   "id": "3837f892",
   "metadata": {
    "execution": {
     "iopub.execute_input": "2022-08-03T13:56:26.844992Z",
     "iopub.status.busy": "2022-08-03T13:56:26.844204Z",
     "iopub.status.idle": "2022-08-03T13:56:26.855520Z",
     "shell.execute_reply": "2022-08-03T13:56:26.854476Z"
    },
    "papermill": {
     "duration": 0.024787,
     "end_time": "2022-08-03T13:56:26.857997",
     "exception": false,
     "start_time": "2022-08-03T13:56:26.833210",
     "status": "completed"
    },
    "tags": []
   },
   "outputs": [],
   "source": [
    "# we use kneighbors to find similar movies to movie at query_index row\n",
    "# we want 6 most similar movies to the chosen movie, so n_neighbors is 6\n",
    "distances, indices = model_nn.kneighbors(pivot_movie.iloc[query_index,:].values.reshape(1, -1), n_neighbors = 6)"
   ]
  },
  {
   "cell_type": "code",
   "execution_count": 20,
   "id": "3273a683",
   "metadata": {
    "execution": {
     "iopub.execute_input": "2022-08-03T13:56:26.879291Z",
     "iopub.status.busy": "2022-08-03T13:56:26.878443Z",
     "iopub.status.idle": "2022-08-03T13:56:26.884836Z",
     "shell.execute_reply": "2022-08-03T13:56:26.884027Z"
    },
    "papermill": {
     "duration": 0.019444,
     "end_time": "2022-08-03T13:56:26.886932",
     "exception": false,
     "start_time": "2022-08-03T13:56:26.867488",
     "status": "completed"
    },
    "tags": []
   },
   "outputs": [
    {
     "data": {
      "text/plain": [
       "array([[426, 324,  91, 317, 393, 134]])"
      ]
     },
     "execution_count": 20,
     "metadata": {},
     "output_type": "execute_result"
    }
   ],
   "source": [
    "indices"
   ]
  },
  {
   "cell_type": "code",
   "execution_count": 21,
   "id": "4737bbbc",
   "metadata": {
    "execution": {
     "iopub.execute_input": "2022-08-03T13:56:26.908669Z",
     "iopub.status.busy": "2022-08-03T13:56:26.907765Z",
     "iopub.status.idle": "2022-08-03T13:56:26.915484Z",
     "shell.execute_reply": "2022-08-03T13:56:26.914010Z"
    },
    "papermill": {
     "duration": 0.022452,
     "end_time": "2022-08-03T13:56:26.918918",
     "exception": false,
     "start_time": "2022-08-03T13:56:26.896466",
     "status": "completed"
    },
    "tags": []
   },
   "outputs": [
    {
     "name": "stdout",
     "output_type": "stream",
     "text": [
      "Recommendations for Vertigo (1958):\n",
      "\n",
      "1: Rear Window (1954), with distance of 0.41472184658050537:\n",
      "2: Chinatown (1974), with distance of 0.42166703939437866:\n",
      "3: Psycho (1960), with distance of 0.4653524160385132:\n",
      "4: Taxi Driver (1976), with distance of 0.46543580293655396:\n",
      "5: Dr. Strangelove or: How I Learned to Stop Worrying and Love the Bomb (1964), with distance of 0.48561227321624756:\n"
     ]
    }
   ],
   "source": [
    "for i in range(0, len(distances.flatten())):\n",
    "    if i == 0:\n",
    "        print('Recommendations for {0}:\\n'.format(pivot_movie.index[query_index]))\n",
    "    else:\n",
    "        print('{0}: {1}, with distance of {2}:'.format(i, pivot_movie.index[indices.flatten()[i]], distances.flatten()[i]))"
   ]
  },
  {
   "cell_type": "markdown",
   "id": "218d90b1",
   "metadata": {
    "papermill": {
     "duration": 0.009397,
     "end_time": "2022-08-03T13:56:26.938590",
     "exception": false,
     "start_time": "2022-08-03T13:56:26.929193",
     "status": "completed"
    },
    "tags": []
   },
   "source": [
    "# Reference:\n",
    "[This YT video](https://www.youtube.com/watch?v=kccT0FVK6OY&list=PLZoTAELRMXVN7QGpcuN-Vg35Hgjp3htvi&index=3)"
   ]
  }
 ],
 "metadata": {
  "kernelspec": {
   "display_name": "Python 3",
   "language": "python",
   "name": "python3"
  },
  "language_info": {
   "codemirror_mode": {
    "name": "ipython",
    "version": 3
   },
   "file_extension": ".py",
   "mimetype": "text/x-python",
   "name": "python",
   "nbconvert_exporter": "python",
   "pygments_lexer": "ipython3",
   "version": "3.7.12"
  },
  "papermill": {
   "default_parameters": {},
   "duration": 14.281084,
   "end_time": "2022-08-03T13:56:28.073564",
   "environment_variables": {},
   "exception": null,
   "input_path": "__notebook__.ipynb",
   "output_path": "__notebook__.ipynb",
   "parameters": {},
   "start_time": "2022-08-03T13:56:13.792480",
   "version": "2.3.4"
  }
 },
 "nbformat": 4,
 "nbformat_minor": 5
}
