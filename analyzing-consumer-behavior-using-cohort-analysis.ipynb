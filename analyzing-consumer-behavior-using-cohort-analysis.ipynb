{
 "cells": [
  {
   "cell_type": "markdown",
   "id": "778b690a",
   "metadata": {
    "papermill": {
     "duration": 0.015724,
     "end_time": "2022-08-21T16:16:04.024215",
     "exception": false,
     "start_time": "2022-08-21T16:16:04.008491",
     "status": "completed"
    },
    "tags": []
   },
   "source": [
    "# Import and Clean"
   ]
  },
  {
   "cell_type": "code",
   "execution_count": 1,
   "id": "9dc4d64b",
   "metadata": {
    "_cell_guid": "b1076dfc-b9ad-4769-8c92-a6c4dae69d19",
    "_uuid": "8f2839f25d086af736a60e9eeb907d3b93b6e0e5",
    "execution": {
     "iopub.execute_input": "2022-08-21T16:16:04.056363Z",
     "iopub.status.busy": "2022-08-21T16:16:04.055399Z",
     "iopub.status.idle": "2022-08-21T16:16:05.073778Z",
     "shell.execute_reply": "2022-08-21T16:16:05.073031Z"
    },
    "papermill": {
     "duration": 1.03615,
     "end_time": "2022-08-21T16:16:05.076304",
     "exception": false,
     "start_time": "2022-08-21T16:16:04.040154",
     "status": "completed"
    },
    "tags": []
   },
   "outputs": [
    {
     "name": "stdout",
     "output_type": "stream",
     "text": [
      "/kaggle/input/mytask/Data analyst Task.csv\n"
     ]
    }
   ],
   "source": [
    "import numpy as np \n",
    "import pandas as pd \n",
    "import os\n",
    "for dirname, _, filenames in os.walk('/kaggle/input'):\n",
    "    for filename in filenames:\n",
    "        print(os.path.join(dirname, filename))\n",
    "import datetime as dt\n",
    "from matplotlib import pyplot as plt\n",
    "import seaborn as sns"
   ]
  },
  {
   "cell_type": "code",
   "execution_count": 2,
   "id": "b107bb3e",
   "metadata": {
    "execution": {
     "iopub.execute_input": "2022-08-21T16:16:05.105142Z",
     "iopub.status.busy": "2022-08-21T16:16:05.104219Z",
     "iopub.status.idle": "2022-08-21T16:16:05.145645Z",
     "shell.execute_reply": "2022-08-21T16:16:05.144798Z"
    },
    "papermill": {
     "duration": 0.057848,
     "end_time": "2022-08-21T16:16:05.147823",
     "exception": false,
     "start_time": "2022-08-21T16:16:05.089975",
     "status": "completed"
    },
    "tags": []
   },
   "outputs": [],
   "source": [
    "snapp=pd.read_csv(\"/kaggle/input/mytask/Data analyst Task.csv\") "
   ]
  },
  {
   "cell_type": "code",
   "execution_count": 3,
   "id": "9653cda1",
   "metadata": {
    "execution": {
     "iopub.execute_input": "2022-08-21T16:16:05.176927Z",
     "iopub.status.busy": "2022-08-21T16:16:05.176187Z",
     "iopub.status.idle": "2022-08-21T16:16:05.181109Z",
     "shell.execute_reply": "2022-08-21T16:16:05.180468Z"
    },
    "papermill": {
     "duration": 0.021676,
     "end_time": "2022-08-21T16:16:05.182968",
     "exception": false,
     "start_time": "2022-08-21T16:16:05.161292",
     "status": "completed"
    },
    "tags": []
   },
   "outputs": [],
   "source": [
    "data=snapp.copy()"
   ]
  },
  {
   "cell_type": "code",
   "execution_count": 4,
   "id": "b3930ec2",
   "metadata": {
    "execution": {
     "iopub.execute_input": "2022-08-21T16:16:05.211852Z",
     "iopub.status.busy": "2022-08-21T16:16:05.211213Z",
     "iopub.status.idle": "2022-08-21T16:16:05.219673Z",
     "shell.execute_reply": "2022-08-21T16:16:05.218677Z"
    },
    "papermill": {
     "duration": 0.025052,
     "end_time": "2022-08-21T16:16:05.221620",
     "exception": false,
     "start_time": "2022-08-21T16:16:05.196568",
     "status": "completed"
    },
    "tags": []
   },
   "outputs": [
    {
     "data": {
      "text/plain": [
       "(29057, 6)"
      ]
     },
     "execution_count": 4,
     "metadata": {},
     "output_type": "execute_result"
    }
   ],
   "source": [
    "data.shape"
   ]
  },
  {
   "cell_type": "code",
   "execution_count": 5,
   "id": "478bb76e",
   "metadata": {
    "execution": {
     "iopub.execute_input": "2022-08-21T16:16:05.250952Z",
     "iopub.status.busy": "2022-08-21T16:16:05.250272Z",
     "iopub.status.idle": "2022-08-21T16:16:05.265721Z",
     "shell.execute_reply": "2022-08-21T16:16:05.264697Z"
    },
    "papermill": {
     "duration": 0.032038,
     "end_time": "2022-08-21T16:16:05.267669",
     "exception": false,
     "start_time": "2022-08-21T16:16:05.235631",
     "status": "completed"
    },
    "tags": []
   },
   "outputs": [
    {
     "data": {
      "text/html": [
       "<div>\n",
       "<style scoped>\n",
       "    .dataframe tbody tr th:only-of-type {\n",
       "        vertical-align: middle;\n",
       "    }\n",
       "\n",
       "    .dataframe tbody tr th {\n",
       "        vertical-align: top;\n",
       "    }\n",
       "\n",
       "    .dataframe thead th {\n",
       "        text-align: right;\n",
       "    }\n",
       "</style>\n",
       "<table border=\"1\" class=\"dataframe\">\n",
       "  <thead>\n",
       "    <tr style=\"text-align: right;\">\n",
       "      <th></th>\n",
       "      <th>order_id</th>\n",
       "      <th>user_id</th>\n",
       "      <th>created_at</th>\n",
       "      <th>discount_cost</th>\n",
       "      <th>discount_type</th>\n",
       "      <th>basket</th>\n",
       "    </tr>\n",
       "  </thead>\n",
       "  <tbody>\n",
       "    <tr>\n",
       "      <th>0</th>\n",
       "      <td>1</td>\n",
       "      <td>1</td>\n",
       "      <td>4/12/2021</td>\n",
       "      <td>10000</td>\n",
       "      <td>1.0</td>\n",
       "      <td>12000</td>\n",
       "    </tr>\n",
       "    <tr>\n",
       "      <th>1</th>\n",
       "      <td>2</td>\n",
       "      <td>2</td>\n",
       "      <td>5/9/2021</td>\n",
       "      <td>0</td>\n",
       "      <td>NaN</td>\n",
       "      <td>20000</td>\n",
       "    </tr>\n",
       "    <tr>\n",
       "      <th>2</th>\n",
       "      <td>3</td>\n",
       "      <td>3</td>\n",
       "      <td>5/9/2021</td>\n",
       "      <td>10000</td>\n",
       "      <td>1.0</td>\n",
       "      <td>14000</td>\n",
       "    </tr>\n",
       "    <tr>\n",
       "      <th>3</th>\n",
       "      <td>4</td>\n",
       "      <td>4</td>\n",
       "      <td>11/10/2021</td>\n",
       "      <td>0</td>\n",
       "      <td>NaN</td>\n",
       "      <td>15000</td>\n",
       "    </tr>\n",
       "    <tr>\n",
       "      <th>4</th>\n",
       "      <td>5</td>\n",
       "      <td>5</td>\n",
       "      <td>11/10/2021</td>\n",
       "      <td>10000</td>\n",
       "      <td>1.0</td>\n",
       "      <td>16000</td>\n",
       "    </tr>\n",
       "    <tr>\n",
       "      <th>5</th>\n",
       "      <td>6</td>\n",
       "      <td>6</td>\n",
       "      <td>1/1/2022</td>\n",
       "      <td>0</td>\n",
       "      <td>NaN</td>\n",
       "      <td>10000</td>\n",
       "    </tr>\n",
       "    <tr>\n",
       "      <th>6</th>\n",
       "      <td>7</td>\n",
       "      <td>7</td>\n",
       "      <td>1/1/2022</td>\n",
       "      <td>0</td>\n",
       "      <td>NaN</td>\n",
       "      <td>29500</td>\n",
       "    </tr>\n",
       "    <tr>\n",
       "      <th>7</th>\n",
       "      <td>8</td>\n",
       "      <td>8</td>\n",
       "      <td>1/1/2022</td>\n",
       "      <td>10000</td>\n",
       "      <td>1.0</td>\n",
       "      <td>10000</td>\n",
       "    </tr>\n",
       "    <tr>\n",
       "      <th>8</th>\n",
       "      <td>9</td>\n",
       "      <td>9</td>\n",
       "      <td>1/1/2022</td>\n",
       "      <td>0</td>\n",
       "      <td>NaN</td>\n",
       "      <td>5000</td>\n",
       "    </tr>\n",
       "    <tr>\n",
       "      <th>9</th>\n",
       "      <td>10</td>\n",
       "      <td>10</td>\n",
       "      <td>1/1/2022</td>\n",
       "      <td>0</td>\n",
       "      <td>NaN</td>\n",
       "      <td>35000</td>\n",
       "    </tr>\n",
       "  </tbody>\n",
       "</table>\n",
       "</div>"
      ],
      "text/plain": [
       "   order_id  user_id  created_at  discount_cost  discount_type  basket\n",
       "0         1        1   4/12/2021          10000            1.0   12000\n",
       "1         2        2    5/9/2021              0            NaN   20000\n",
       "2         3        3    5/9/2021          10000            1.0   14000\n",
       "3         4        4  11/10/2021              0            NaN   15000\n",
       "4         5        5  11/10/2021          10000            1.0   16000\n",
       "5         6        6    1/1/2022              0            NaN   10000\n",
       "6         7        7    1/1/2022              0            NaN   29500\n",
       "7         8        8    1/1/2022          10000            1.0   10000\n",
       "8         9        9    1/1/2022              0            NaN    5000\n",
       "9        10       10    1/1/2022              0            NaN   35000"
      ]
     },
     "execution_count": 5,
     "metadata": {},
     "output_type": "execute_result"
    }
   ],
   "source": [
    "data.head(10)"
   ]
  },
  {
   "cell_type": "code",
   "execution_count": 6,
   "id": "b1ac4c7f",
   "metadata": {
    "execution": {
     "iopub.execute_input": "2022-08-21T16:16:05.297101Z",
     "iopub.status.busy": "2022-08-21T16:16:05.296477Z",
     "iopub.status.idle": "2022-08-21T16:16:05.308066Z",
     "shell.execute_reply": "2022-08-21T16:16:05.307330Z"
    },
    "papermill": {
     "duration": 0.028506,
     "end_time": "2022-08-21T16:16:05.310049",
     "exception": false,
     "start_time": "2022-08-21T16:16:05.281543",
     "status": "completed"
    },
    "tags": []
   },
   "outputs": [
    {
     "data": {
      "text/plain": [
       "array([ 1., nan,  2.])"
      ]
     },
     "execution_count": 6,
     "metadata": {},
     "output_type": "execute_result"
    }
   ],
   "source": [
    "data.discount_type.unique()"
   ]
  },
  {
   "cell_type": "code",
   "execution_count": 7,
   "id": "3203c1d5",
   "metadata": {
    "execution": {
     "iopub.execute_input": "2022-08-21T16:16:05.339066Z",
     "iopub.status.busy": "2022-08-21T16:16:05.338313Z",
     "iopub.status.idle": "2022-08-21T16:16:05.345762Z",
     "shell.execute_reply": "2022-08-21T16:16:05.345069Z"
    },
    "papermill": {
     "duration": 0.023841,
     "end_time": "2022-08-21T16:16:05.347575",
     "exception": false,
     "start_time": "2022-08-21T16:16:05.323734",
     "status": "completed"
    },
    "tags": []
   },
   "outputs": [
    {
     "data": {
      "text/plain": [
       "True"
      ]
     },
     "execution_count": 7,
     "metadata": {},
     "output_type": "execute_result"
    }
   ],
   "source": [
    "data.discount_type[data.discount_cost==0].isna().all()\n",
    "#this shows that through the whole dataset, where there's no discount, discount_type value is Nan\n",
    "#So I'll replace all the Nan values in this column with 0, discount_type=0 means no discount."
   ]
  },
  {
   "cell_type": "code",
   "execution_count": 8,
   "id": "e327b272",
   "metadata": {
    "execution": {
     "iopub.execute_input": "2022-08-21T16:16:05.375426Z",
     "iopub.status.busy": "2022-08-21T16:16:05.374851Z",
     "iopub.status.idle": "2022-08-21T16:16:05.379432Z",
     "shell.execute_reply": "2022-08-21T16:16:05.378811Z"
    },
    "papermill": {
     "duration": 0.020555,
     "end_time": "2022-08-21T16:16:05.381310",
     "exception": false,
     "start_time": "2022-08-21T16:16:05.360755",
     "status": "completed"
    },
    "tags": []
   },
   "outputs": [],
   "source": [
    "data.discount_type.fillna(0,inplace=True)"
   ]
  },
  {
   "cell_type": "code",
   "execution_count": 9,
   "id": "a3f3fa4a",
   "metadata": {
    "execution": {
     "iopub.execute_input": "2022-08-21T16:16:05.410947Z",
     "iopub.status.busy": "2022-08-21T16:16:05.410304Z",
     "iopub.status.idle": "2022-08-21T16:16:05.420335Z",
     "shell.execute_reply": "2022-08-21T16:16:05.419462Z"
    },
    "papermill": {
     "duration": 0.02754,
     "end_time": "2022-08-21T16:16:05.422380",
     "exception": false,
     "start_time": "2022-08-21T16:16:05.394840",
     "status": "completed"
    },
    "tags": []
   },
   "outputs": [
    {
     "data": {
      "text/plain": [
       "order_id         0\n",
       "user_id          0\n",
       "created_at       0\n",
       "discount_cost    0\n",
       "discount_type    0\n",
       "basket           0\n",
       "dtype: int64"
      ]
     },
     "execution_count": 9,
     "metadata": {},
     "output_type": "execute_result"
    }
   ],
   "source": [
    "data.isna().sum()"
   ]
  },
  {
   "cell_type": "code",
   "execution_count": 10,
   "id": "2ca378b5",
   "metadata": {
    "execution": {
     "iopub.execute_input": "2022-08-21T16:16:05.452859Z",
     "iopub.status.busy": "2022-08-21T16:16:05.452213Z",
     "iopub.status.idle": "2022-08-21T16:16:05.462606Z",
     "shell.execute_reply": "2022-08-21T16:16:05.461938Z"
    },
    "papermill": {
     "duration": 0.027444,
     "end_time": "2022-08-21T16:16:05.464464",
     "exception": false,
     "start_time": "2022-08-21T16:16:05.437020",
     "status": "completed"
    },
    "tags": []
   },
   "outputs": [
    {
     "data": {
      "text/plain": [
       "7/1/2022      304\n",
       "7/15/2022     275\n",
       "7/22/2022     271\n",
       "6/17/2022     255\n",
       "6/24/2022     249\n",
       "             ... \n",
       "1/2/2022       36\n",
       "4/2/2022       32\n",
       "5/9/2021        2\n",
       "11/10/2021      2\n",
       "4/12/2021       1\n",
       "Name: created_at, Length: 215, dtype: int64"
      ]
     },
     "execution_count": 10,
     "metadata": {},
     "output_type": "execute_result"
    }
   ],
   "source": [
    "data.created_at.value_counts() #format of date is American, MM/DD/YYYY"
   ]
  },
  {
   "cell_type": "code",
   "execution_count": 11,
   "id": "a49cad6b",
   "metadata": {
    "execution": {
     "iopub.execute_input": "2022-08-21T16:16:05.493733Z",
     "iopub.status.busy": "2022-08-21T16:16:05.493187Z",
     "iopub.status.idle": "2022-08-21T16:16:05.520307Z",
     "shell.execute_reply": "2022-08-21T16:16:05.519638Z"
    },
    "papermill": {
     "duration": 0.043842,
     "end_time": "2022-08-21T16:16:05.522298",
     "exception": false,
     "start_time": "2022-08-21T16:16:05.478456",
     "status": "completed"
    },
    "tags": []
   },
   "outputs": [],
   "source": [
    "data['created_at'] = pd.to_datetime(data['created_at']) #I'll cast the data type to datetime for easier processing"
   ]
  },
  {
   "cell_type": "code",
   "execution_count": 12,
   "id": "02ff5428",
   "metadata": {
    "execution": {
     "iopub.execute_input": "2022-08-21T16:16:05.551682Z",
     "iopub.status.busy": "2022-08-21T16:16:05.551107Z",
     "iopub.status.idle": "2022-08-21T16:16:05.566314Z",
     "shell.execute_reply": "2022-08-21T16:16:05.564595Z"
    },
    "papermill": {
     "duration": 0.031722,
     "end_time": "2022-08-21T16:16:05.568373",
     "exception": false,
     "start_time": "2022-08-21T16:16:05.536651",
     "status": "completed"
    },
    "tags": []
   },
   "outputs": [
    {
     "name": "stdout",
     "output_type": "stream",
     "text": [
      "<class 'pandas.core.frame.DataFrame'>\n",
      "RangeIndex: 29057 entries, 0 to 29056\n",
      "Data columns (total 6 columns):\n",
      " #   Column         Non-Null Count  Dtype         \n",
      "---  ------         --------------  -----         \n",
      " 0   order_id       29057 non-null  int64         \n",
      " 1   user_id        29057 non-null  int64         \n",
      " 2   created_at     29057 non-null  datetime64[ns]\n",
      " 3   discount_cost  29057 non-null  int64         \n",
      " 4   discount_type  29057 non-null  float64       \n",
      " 5   basket         29057 non-null  int64         \n",
      "dtypes: datetime64[ns](1), float64(1), int64(4)\n",
      "memory usage: 1.3 MB\n"
     ]
    }
   ],
   "source": [
    "data.info()"
   ]
  },
  {
   "cell_type": "code",
   "execution_count": 13,
   "id": "1f41fdf5",
   "metadata": {
    "execution": {
     "iopub.execute_input": "2022-08-21T16:16:05.597423Z",
     "iopub.status.busy": "2022-08-21T16:16:05.596605Z",
     "iopub.status.idle": "2022-08-21T16:16:05.603332Z",
     "shell.execute_reply": "2022-08-21T16:16:05.602645Z"
    },
    "papermill": {
     "duration": 0.023218,
     "end_time": "2022-08-21T16:16:05.605261",
     "exception": false,
     "start_time": "2022-08-21T16:16:05.582043",
     "status": "completed"
    },
    "tags": []
   },
   "outputs": [
    {
     "data": {
      "text/plain": [
       "9985"
      ]
     },
     "execution_count": 13,
     "metadata": {},
     "output_type": "execute_result"
    }
   ],
   "source": [
    "data.user_id.nunique() #there are 9985 unique users"
   ]
  },
  {
   "cell_type": "markdown",
   "id": "98a28b49",
   "metadata": {
    "papermill": {
     "duration": 0.013595,
     "end_time": "2022-08-21T16:16:05.632998",
     "exception": false,
     "start_time": "2022-08-21T16:16:05.619403",
     "status": "completed"
    },
    "tags": []
   },
   "source": [
    "# Q1\n",
    "1. We want to calculate the retention rate, in the next month after the first purchase:\n",
    "\n",
    "1. Finding the number of new users in each month\n",
    "\n",
    "1. Finding how many users purchase something else in the consecutive months\n",
    " \n",
    "1. Finding the retention rate\n",
    "\n",
    "1. Using mean retention rate for cohort_period=2 (second consecutive month of purchasing) and first purchasers in July to estimate the August retention number\n",
    "\n",
    "1. After finding the approximate number of users in August, we find on average how many purchases users make in their second consecutive purchasing\n",
    "\n",
    "1. Final result would be the number of users retained in August * average number of purchasing for people with 2 consecutive purchasing months"
   ]
  },
  {
   "cell_type": "code",
   "execution_count": 14,
   "id": "c7cabd5e",
   "metadata": {
    "execution": {
     "iopub.execute_input": "2022-08-21T16:16:05.662134Z",
     "iopub.status.busy": "2022-08-21T16:16:05.661515Z",
     "iopub.status.idle": "2022-08-21T16:16:05.666098Z",
     "shell.execute_reply": "2022-08-21T16:16:05.665276Z"
    },
    "papermill": {
     "duration": 0.021203,
     "end_time": "2022-08-21T16:16:05.668027",
     "exception": false,
     "start_time": "2022-08-21T16:16:05.646824",
     "status": "completed"
    },
    "tags": []
   },
   "outputs": [],
   "source": [
    "#a function to return the month and year\n",
    "def get_month(x): return dt.datetime(x.year, x.month, 1) "
   ]
  },
  {
   "cell_type": "code",
   "execution_count": 15,
   "id": "b2c10989",
   "metadata": {
    "execution": {
     "iopub.execute_input": "2022-08-21T16:16:05.697078Z",
     "iopub.status.busy": "2022-08-21T16:16:05.696513Z",
     "iopub.status.idle": "2022-08-21T16:16:05.806258Z",
     "shell.execute_reply": "2022-08-21T16:16:05.805152Z"
    },
    "papermill": {
     "duration": 0.127118,
     "end_time": "2022-08-21T16:16:05.808838",
     "exception": false,
     "start_time": "2022-08-21T16:16:05.681720",
     "status": "completed"
    },
    "tags": []
   },
   "outputs": [],
   "source": [
    "#since datetime can't directy be applied to a series, we need to use apply\n",
    "data['purchase_month'] = data['created_at'].apply(get_month)"
   ]
  },
  {
   "cell_type": "code",
   "execution_count": 16,
   "id": "e12d2590",
   "metadata": {
    "execution": {
     "iopub.execute_input": "2022-08-21T16:16:05.839566Z",
     "iopub.status.busy": "2022-08-21T16:16:05.838802Z",
     "iopub.status.idle": "2022-08-21T16:16:05.852718Z",
     "shell.execute_reply": "2022-08-21T16:16:05.851606Z"
    },
    "papermill": {
     "duration": 0.033273,
     "end_time": "2022-08-21T16:16:05.856388",
     "exception": false,
     "start_time": "2022-08-21T16:16:05.823115",
     "status": "completed"
    },
    "tags": []
   },
   "outputs": [
    {
     "data": {
      "text/html": [
       "<div>\n",
       "<style scoped>\n",
       "    .dataframe tbody tr th:only-of-type {\n",
       "        vertical-align: middle;\n",
       "    }\n",
       "\n",
       "    .dataframe tbody tr th {\n",
       "        vertical-align: top;\n",
       "    }\n",
       "\n",
       "    .dataframe thead th {\n",
       "        text-align: right;\n",
       "    }\n",
       "</style>\n",
       "<table border=\"1\" class=\"dataframe\">\n",
       "  <thead>\n",
       "    <tr style=\"text-align: right;\">\n",
       "      <th></th>\n",
       "      <th>order_id</th>\n",
       "      <th>user_id</th>\n",
       "      <th>created_at</th>\n",
       "      <th>discount_cost</th>\n",
       "      <th>discount_type</th>\n",
       "      <th>basket</th>\n",
       "      <th>purchase_month</th>\n",
       "    </tr>\n",
       "  </thead>\n",
       "  <tbody>\n",
       "    <tr>\n",
       "      <th>0</th>\n",
       "      <td>1</td>\n",
       "      <td>1</td>\n",
       "      <td>2021-04-12</td>\n",
       "      <td>10000</td>\n",
       "      <td>1.0</td>\n",
       "      <td>12000</td>\n",
       "      <td>2021-04-01</td>\n",
       "    </tr>\n",
       "    <tr>\n",
       "      <th>1</th>\n",
       "      <td>2</td>\n",
       "      <td>2</td>\n",
       "      <td>2021-05-09</td>\n",
       "      <td>0</td>\n",
       "      <td>0.0</td>\n",
       "      <td>20000</td>\n",
       "      <td>2021-05-01</td>\n",
       "    </tr>\n",
       "    <tr>\n",
       "      <th>2</th>\n",
       "      <td>3</td>\n",
       "      <td>3</td>\n",
       "      <td>2021-05-09</td>\n",
       "      <td>10000</td>\n",
       "      <td>1.0</td>\n",
       "      <td>14000</td>\n",
       "      <td>2021-05-01</td>\n",
       "    </tr>\n",
       "    <tr>\n",
       "      <th>3</th>\n",
       "      <td>4</td>\n",
       "      <td>4</td>\n",
       "      <td>2021-11-10</td>\n",
       "      <td>0</td>\n",
       "      <td>0.0</td>\n",
       "      <td>15000</td>\n",
       "      <td>2021-11-01</td>\n",
       "    </tr>\n",
       "    <tr>\n",
       "      <th>4</th>\n",
       "      <td>5</td>\n",
       "      <td>5</td>\n",
       "      <td>2021-11-10</td>\n",
       "      <td>10000</td>\n",
       "      <td>1.0</td>\n",
       "      <td>16000</td>\n",
       "      <td>2021-11-01</td>\n",
       "    </tr>\n",
       "    <tr>\n",
       "      <th>5</th>\n",
       "      <td>6</td>\n",
       "      <td>6</td>\n",
       "      <td>2022-01-01</td>\n",
       "      <td>0</td>\n",
       "      <td>0.0</td>\n",
       "      <td>10000</td>\n",
       "      <td>2022-01-01</td>\n",
       "    </tr>\n",
       "    <tr>\n",
       "      <th>6</th>\n",
       "      <td>7</td>\n",
       "      <td>7</td>\n",
       "      <td>2022-01-01</td>\n",
       "      <td>0</td>\n",
       "      <td>0.0</td>\n",
       "      <td>29500</td>\n",
       "      <td>2022-01-01</td>\n",
       "    </tr>\n",
       "    <tr>\n",
       "      <th>7</th>\n",
       "      <td>8</td>\n",
       "      <td>8</td>\n",
       "      <td>2022-01-01</td>\n",
       "      <td>10000</td>\n",
       "      <td>1.0</td>\n",
       "      <td>10000</td>\n",
       "      <td>2022-01-01</td>\n",
       "    </tr>\n",
       "    <tr>\n",
       "      <th>8</th>\n",
       "      <td>9</td>\n",
       "      <td>9</td>\n",
       "      <td>2022-01-01</td>\n",
       "      <td>0</td>\n",
       "      <td>0.0</td>\n",
       "      <td>5000</td>\n",
       "      <td>2022-01-01</td>\n",
       "    </tr>\n",
       "    <tr>\n",
       "      <th>9</th>\n",
       "      <td>10</td>\n",
       "      <td>10</td>\n",
       "      <td>2022-01-01</td>\n",
       "      <td>0</td>\n",
       "      <td>0.0</td>\n",
       "      <td>35000</td>\n",
       "      <td>2022-01-01</td>\n",
       "    </tr>\n",
       "  </tbody>\n",
       "</table>\n",
       "</div>"
      ],
      "text/plain": [
       "   order_id  user_id created_at  discount_cost  discount_type  basket  \\\n",
       "0         1        1 2021-04-12          10000            1.0   12000   \n",
       "1         2        2 2021-05-09              0            0.0   20000   \n",
       "2         3        3 2021-05-09          10000            1.0   14000   \n",
       "3         4        4 2021-11-10              0            0.0   15000   \n",
       "4         5        5 2021-11-10          10000            1.0   16000   \n",
       "5         6        6 2022-01-01              0            0.0   10000   \n",
       "6         7        7 2022-01-01              0            0.0   29500   \n",
       "7         8        8 2022-01-01          10000            1.0   10000   \n",
       "8         9        9 2022-01-01              0            0.0    5000   \n",
       "9        10       10 2022-01-01              0            0.0   35000   \n",
       "\n",
       "  purchase_month  \n",
       "0     2021-04-01  \n",
       "1     2021-05-01  \n",
       "2     2021-05-01  \n",
       "3     2021-11-01  \n",
       "4     2021-11-01  \n",
       "5     2022-01-01  \n",
       "6     2022-01-01  \n",
       "7     2022-01-01  \n",
       "8     2022-01-01  \n",
       "9     2022-01-01  "
      ]
     },
     "execution_count": 16,
     "metadata": {},
     "output_type": "execute_result"
    }
   ],
   "source": [
    "data.head(10)"
   ]
  },
  {
   "cell_type": "code",
   "execution_count": 17,
   "id": "89f5821c",
   "metadata": {
    "execution": {
     "iopub.execute_input": "2022-08-21T16:16:05.886468Z",
     "iopub.status.busy": "2022-08-21T16:16:05.885810Z",
     "iopub.status.idle": "2022-08-21T16:16:05.895747Z",
     "shell.execute_reply": "2022-08-21T16:16:05.895073Z"
    },
    "papermill": {
     "duration": 0.027494,
     "end_time": "2022-08-21T16:16:05.897857",
     "exception": false,
     "start_time": "2022-08-21T16:16:05.870363",
     "status": "completed"
    },
    "tags": []
   },
   "outputs": [],
   "source": [
    "#adding a column that indicates the first purchase month for each user\n",
    "data['first_purchase']=data.groupby('user_id')['purchase_month'].transform('min')"
   ]
  },
  {
   "cell_type": "code",
   "execution_count": 18,
   "id": "7d1a79cb",
   "metadata": {
    "execution": {
     "iopub.execute_input": "2022-08-21T16:16:05.927747Z",
     "iopub.status.busy": "2022-08-21T16:16:05.927168Z",
     "iopub.status.idle": "2022-08-21T16:16:05.941788Z",
     "shell.execute_reply": "2022-08-21T16:16:05.940584Z"
    },
    "papermill": {
     "duration": 0.031894,
     "end_time": "2022-08-21T16:16:05.943828",
     "exception": false,
     "start_time": "2022-08-21T16:16:05.911934",
     "status": "completed"
    },
    "tags": []
   },
   "outputs": [
    {
     "data": {
      "text/html": [
       "<div>\n",
       "<style scoped>\n",
       "    .dataframe tbody tr th:only-of-type {\n",
       "        vertical-align: middle;\n",
       "    }\n",
       "\n",
       "    .dataframe tbody tr th {\n",
       "        vertical-align: top;\n",
       "    }\n",
       "\n",
       "    .dataframe thead th {\n",
       "        text-align: right;\n",
       "    }\n",
       "</style>\n",
       "<table border=\"1\" class=\"dataframe\">\n",
       "  <thead>\n",
       "    <tr style=\"text-align: right;\">\n",
       "      <th></th>\n",
       "      <th>order_id</th>\n",
       "      <th>user_id</th>\n",
       "      <th>created_at</th>\n",
       "      <th>discount_cost</th>\n",
       "      <th>discount_type</th>\n",
       "      <th>basket</th>\n",
       "      <th>purchase_month</th>\n",
       "      <th>first_purchase</th>\n",
       "    </tr>\n",
       "  </thead>\n",
       "  <tbody>\n",
       "    <tr>\n",
       "      <th>2</th>\n",
       "      <td>3</td>\n",
       "      <td>3</td>\n",
       "      <td>2021-05-09</td>\n",
       "      <td>10000</td>\n",
       "      <td>1.0</td>\n",
       "      <td>14000</td>\n",
       "      <td>2021-05-01</td>\n",
       "      <td>2021-05-01</td>\n",
       "    </tr>\n",
       "    <tr>\n",
       "      <th>7712</th>\n",
       "      <td>7713</td>\n",
       "      <td>3</td>\n",
       "      <td>2022-03-28</td>\n",
       "      <td>0</td>\n",
       "      <td>0.0</td>\n",
       "      <td>18000</td>\n",
       "      <td>2022-03-01</td>\n",
       "      <td>2021-05-01</td>\n",
       "    </tr>\n",
       "    <tr>\n",
       "      <th>26085</th>\n",
       "      <td>26086</td>\n",
       "      <td>3</td>\n",
       "      <td>2022-07-17</td>\n",
       "      <td>0</td>\n",
       "      <td>0.0</td>\n",
       "      <td>18000</td>\n",
       "      <td>2022-07-01</td>\n",
       "      <td>2021-05-01</td>\n",
       "    </tr>\n",
       "    <tr>\n",
       "      <th>26302</th>\n",
       "      <td>26303</td>\n",
       "      <td>3</td>\n",
       "      <td>2022-07-18</td>\n",
       "      <td>0</td>\n",
       "      <td>0.0</td>\n",
       "      <td>13500</td>\n",
       "      <td>2022-07-01</td>\n",
       "      <td>2021-05-01</td>\n",
       "    </tr>\n",
       "  </tbody>\n",
       "</table>\n",
       "</div>"
      ],
      "text/plain": [
       "       order_id  user_id created_at  discount_cost  discount_type  basket  \\\n",
       "2             3        3 2021-05-09          10000            1.0   14000   \n",
       "7712       7713        3 2022-03-28              0            0.0   18000   \n",
       "26085     26086        3 2022-07-17              0            0.0   18000   \n",
       "26302     26303        3 2022-07-18              0            0.0   13500   \n",
       "\n",
       "      purchase_month first_purchase  \n",
       "2         2021-05-01     2021-05-01  \n",
       "7712      2022-03-01     2021-05-01  \n",
       "26085     2022-07-01     2021-05-01  \n",
       "26302     2022-07-01     2021-05-01  "
      ]
     },
     "execution_count": 18,
     "metadata": {},
     "output_type": "execute_result"
    }
   ],
   "source": [
    "#testing to see if it worked properly\n",
    "data[data.user_id==3]"
   ]
  },
  {
   "cell_type": "code",
   "execution_count": 19,
   "id": "51897f13",
   "metadata": {
    "execution": {
     "iopub.execute_input": "2022-08-21T16:16:05.976187Z",
     "iopub.status.busy": "2022-08-21T16:16:05.975469Z",
     "iopub.status.idle": "2022-08-21T16:16:05.992621Z",
     "shell.execute_reply": "2022-08-21T16:16:05.991951Z"
    },
    "papermill": {
     "duration": 0.035883,
     "end_time": "2022-08-21T16:16:05.994564",
     "exception": false,
     "start_time": "2022-08-21T16:16:05.958681",
     "status": "completed"
    },
    "tags": []
   },
   "outputs": [],
   "source": [
    "#this indicates the nth month of joining/starting to purchase, we start with 1 for convenience\n",
    "data['cohort_period']=12*((data['purchase_month'].dt.year)-(data['first_purchase'].dt.year))+((data['purchase_month'].dt.month)-(data['first_purchase'].dt.month)+1)"
   ]
  },
  {
   "cell_type": "code",
   "execution_count": 20,
   "id": "6d22ff03",
   "metadata": {
    "execution": {
     "iopub.execute_input": "2022-08-21T16:16:06.025705Z",
     "iopub.status.busy": "2022-08-21T16:16:06.025124Z",
     "iopub.status.idle": "2022-08-21T16:16:06.040327Z",
     "shell.execute_reply": "2022-08-21T16:16:06.039620Z"
    },
    "papermill": {
     "duration": 0.032889,
     "end_time": "2022-08-21T16:16:06.042191",
     "exception": false,
     "start_time": "2022-08-21T16:16:06.009302",
     "status": "completed"
    },
    "tags": []
   },
   "outputs": [
    {
     "data": {
      "text/html": [
       "<div>\n",
       "<style scoped>\n",
       "    .dataframe tbody tr th:only-of-type {\n",
       "        vertical-align: middle;\n",
       "    }\n",
       "\n",
       "    .dataframe tbody tr th {\n",
       "        vertical-align: top;\n",
       "    }\n",
       "\n",
       "    .dataframe thead th {\n",
       "        text-align: right;\n",
       "    }\n",
       "</style>\n",
       "<table border=\"1\" class=\"dataframe\">\n",
       "  <thead>\n",
       "    <tr style=\"text-align: right;\">\n",
       "      <th></th>\n",
       "      <th>order_id</th>\n",
       "      <th>user_id</th>\n",
       "      <th>created_at</th>\n",
       "      <th>discount_cost</th>\n",
       "      <th>discount_type</th>\n",
       "      <th>basket</th>\n",
       "      <th>purchase_month</th>\n",
       "      <th>first_purchase</th>\n",
       "      <th>cohort_period</th>\n",
       "    </tr>\n",
       "  </thead>\n",
       "  <tbody>\n",
       "    <tr>\n",
       "      <th>2</th>\n",
       "      <td>3</td>\n",
       "      <td>3</td>\n",
       "      <td>2021-05-09</td>\n",
       "      <td>10000</td>\n",
       "      <td>1.0</td>\n",
       "      <td>14000</td>\n",
       "      <td>2021-05-01</td>\n",
       "      <td>2021-05-01</td>\n",
       "      <td>1</td>\n",
       "    </tr>\n",
       "    <tr>\n",
       "      <th>7712</th>\n",
       "      <td>7713</td>\n",
       "      <td>3</td>\n",
       "      <td>2022-03-28</td>\n",
       "      <td>0</td>\n",
       "      <td>0.0</td>\n",
       "      <td>18000</td>\n",
       "      <td>2022-03-01</td>\n",
       "      <td>2021-05-01</td>\n",
       "      <td>11</td>\n",
       "    </tr>\n",
       "    <tr>\n",
       "      <th>26085</th>\n",
       "      <td>26086</td>\n",
       "      <td>3</td>\n",
       "      <td>2022-07-17</td>\n",
       "      <td>0</td>\n",
       "      <td>0.0</td>\n",
       "      <td>18000</td>\n",
       "      <td>2022-07-01</td>\n",
       "      <td>2021-05-01</td>\n",
       "      <td>15</td>\n",
       "    </tr>\n",
       "    <tr>\n",
       "      <th>26302</th>\n",
       "      <td>26303</td>\n",
       "      <td>3</td>\n",
       "      <td>2022-07-18</td>\n",
       "      <td>0</td>\n",
       "      <td>0.0</td>\n",
       "      <td>13500</td>\n",
       "      <td>2022-07-01</td>\n",
       "      <td>2021-05-01</td>\n",
       "      <td>15</td>\n",
       "    </tr>\n",
       "  </tbody>\n",
       "</table>\n",
       "</div>"
      ],
      "text/plain": [
       "       order_id  user_id created_at  discount_cost  discount_type  basket  \\\n",
       "2             3        3 2021-05-09          10000            1.0   14000   \n",
       "7712       7713        3 2022-03-28              0            0.0   18000   \n",
       "26085     26086        3 2022-07-17              0            0.0   18000   \n",
       "26302     26303        3 2022-07-18              0            0.0   13500   \n",
       "\n",
       "      purchase_month first_purchase  cohort_period  \n",
       "2         2021-05-01     2021-05-01              1  \n",
       "7712      2022-03-01     2021-05-01             11  \n",
       "26085     2022-07-01     2021-05-01             15  \n",
       "26302     2022-07-01     2021-05-01             15  "
      ]
     },
     "execution_count": 20,
     "metadata": {},
     "output_type": "execute_result"
    }
   ],
   "source": [
    "#testing to see if it worked properly\n",
    "data[data.user_id==3]"
   ]
  },
  {
   "cell_type": "code",
   "execution_count": 21,
   "id": "b8e9c705",
   "metadata": {
    "execution": {
     "iopub.execute_input": "2022-08-21T16:16:06.073134Z",
     "iopub.status.busy": "2022-08-21T16:16:06.072555Z",
     "iopub.status.idle": "2022-08-21T16:16:06.091070Z",
     "shell.execute_reply": "2022-08-21T16:16:06.090320Z"
    },
    "papermill": {
     "duration": 0.036377,
     "end_time": "2022-08-21T16:16:06.093004",
     "exception": false,
     "start_time": "2022-08-21T16:16:06.056627",
     "status": "completed"
    },
    "tags": []
   },
   "outputs": [
    {
     "data": {
      "text/html": [
       "<div>\n",
       "<style scoped>\n",
       "    .dataframe tbody tr th:only-of-type {\n",
       "        vertical-align: middle;\n",
       "    }\n",
       "\n",
       "    .dataframe tbody tr th {\n",
       "        vertical-align: top;\n",
       "    }\n",
       "\n",
       "    .dataframe thead th {\n",
       "        text-align: right;\n",
       "    }\n",
       "</style>\n",
       "<table border=\"1\" class=\"dataframe\">\n",
       "  <thead>\n",
       "    <tr style=\"text-align: right;\">\n",
       "      <th></th>\n",
       "      <th>first_purchase</th>\n",
       "      <th>cohort_period</th>\n",
       "      <th>user_id</th>\n",
       "    </tr>\n",
       "  </thead>\n",
       "  <tbody>\n",
       "    <tr>\n",
       "      <th>0</th>\n",
       "      <td>2021-04-01</td>\n",
       "      <td>1</td>\n",
       "      <td>1</td>\n",
       "    </tr>\n",
       "    <tr>\n",
       "      <th>1</th>\n",
       "      <td>2021-04-01</td>\n",
       "      <td>12</td>\n",
       "      <td>1</td>\n",
       "    </tr>\n",
       "    <tr>\n",
       "      <th>2</th>\n",
       "      <td>2021-04-01</td>\n",
       "      <td>14</td>\n",
       "      <td>1</td>\n",
       "    </tr>\n",
       "    <tr>\n",
       "      <th>3</th>\n",
       "      <td>2021-05-01</td>\n",
       "      <td>1</td>\n",
       "      <td>2</td>\n",
       "    </tr>\n",
       "    <tr>\n",
       "      <th>4</th>\n",
       "      <td>2021-05-01</td>\n",
       "      <td>11</td>\n",
       "      <td>1</td>\n",
       "    </tr>\n",
       "    <tr>\n",
       "      <th>5</th>\n",
       "      <td>2021-05-01</td>\n",
       "      <td>14</td>\n",
       "      <td>1</td>\n",
       "    </tr>\n",
       "    <tr>\n",
       "      <th>6</th>\n",
       "      <td>2021-05-01</td>\n",
       "      <td>15</td>\n",
       "      <td>1</td>\n",
       "    </tr>\n",
       "    <tr>\n",
       "      <th>7</th>\n",
       "      <td>2021-11-01</td>\n",
       "      <td>1</td>\n",
       "      <td>2</td>\n",
       "    </tr>\n",
       "    <tr>\n",
       "      <th>8</th>\n",
       "      <td>2021-11-01</td>\n",
       "      <td>3</td>\n",
       "      <td>1</td>\n",
       "    </tr>\n",
       "    <tr>\n",
       "      <th>9</th>\n",
       "      <td>2021-11-01</td>\n",
       "      <td>5</td>\n",
       "      <td>1</td>\n",
       "    </tr>\n",
       "    <tr>\n",
       "      <th>10</th>\n",
       "      <td>2021-11-01</td>\n",
       "      <td>6</td>\n",
       "      <td>1</td>\n",
       "    </tr>\n",
       "    <tr>\n",
       "      <th>11</th>\n",
       "      <td>2022-01-01</td>\n",
       "      <td>1</td>\n",
       "      <td>1491</td>\n",
       "    </tr>\n",
       "    <tr>\n",
       "      <th>12</th>\n",
       "      <td>2022-01-01</td>\n",
       "      <td>2</td>\n",
       "      <td>457</td>\n",
       "    </tr>\n",
       "    <tr>\n",
       "      <th>13</th>\n",
       "      <td>2022-01-01</td>\n",
       "      <td>3</td>\n",
       "      <td>365</td>\n",
       "    </tr>\n",
       "    <tr>\n",
       "      <th>14</th>\n",
       "      <td>2022-01-01</td>\n",
       "      <td>4</td>\n",
       "      <td>378</td>\n",
       "    </tr>\n",
       "  </tbody>\n",
       "</table>\n",
       "</div>"
      ],
      "text/plain": [
       "   first_purchase  cohort_period  user_id\n",
       "0      2021-04-01              1        1\n",
       "1      2021-04-01             12        1\n",
       "2      2021-04-01             14        1\n",
       "3      2021-05-01              1        2\n",
       "4      2021-05-01             11        1\n",
       "5      2021-05-01             14        1\n",
       "6      2021-05-01             15        1\n",
       "7      2021-11-01              1        2\n",
       "8      2021-11-01              3        1\n",
       "9      2021-11-01              5        1\n",
       "10     2021-11-01              6        1\n",
       "11     2022-01-01              1     1491\n",
       "12     2022-01-01              2      457\n",
       "13     2022-01-01              3      365\n",
       "14     2022-01-01              4      378"
      ]
     },
     "execution_count": 21,
     "metadata": {},
     "output_type": "execute_result"
    }
   ],
   "source": [
    "# we want to see how many UNIQUE users have purchased something in consecutive months, grouped based on their first purchase\n",
    "#and the period in which they were consecutively active.\n",
    "\n",
    "users_per_month=data.groupby(['first_purchase', 'cohort_period'])['user_id'].nunique().reset_index()\n",
    "users_per_month.head(15)"
   ]
  },
  {
   "cell_type": "code",
   "execution_count": 22,
   "id": "1db7e740",
   "metadata": {
    "execution": {
     "iopub.execute_input": "2022-08-21T16:16:06.125184Z",
     "iopub.status.busy": "2022-08-21T16:16:06.124513Z",
     "iopub.status.idle": "2022-08-21T16:16:06.151113Z",
     "shell.execute_reply": "2022-08-21T16:16:06.150122Z"
    },
    "papermill": {
     "duration": 0.045047,
     "end_time": "2022-08-21T16:16:06.153126",
     "exception": false,
     "start_time": "2022-08-21T16:16:06.108079",
     "status": "completed"
    },
    "tags": []
   },
   "outputs": [
    {
     "data": {
      "text/html": [
       "<div>\n",
       "<style scoped>\n",
       "    .dataframe tbody tr th:only-of-type {\n",
       "        vertical-align: middle;\n",
       "    }\n",
       "\n",
       "    .dataframe tbody tr th {\n",
       "        vertical-align: top;\n",
       "    }\n",
       "\n",
       "    .dataframe thead th {\n",
       "        text-align: right;\n",
       "    }\n",
       "</style>\n",
       "<table border=\"1\" class=\"dataframe\">\n",
       "  <thead>\n",
       "    <tr style=\"text-align: right;\">\n",
       "      <th>cohort_period</th>\n",
       "      <th>1</th>\n",
       "      <th>2</th>\n",
       "      <th>3</th>\n",
       "      <th>4</th>\n",
       "      <th>5</th>\n",
       "      <th>6</th>\n",
       "      <th>7</th>\n",
       "      <th>11</th>\n",
       "      <th>12</th>\n",
       "      <th>14</th>\n",
       "      <th>15</th>\n",
       "    </tr>\n",
       "    <tr>\n",
       "      <th>first_purchase</th>\n",
       "      <th></th>\n",
       "      <th></th>\n",
       "      <th></th>\n",
       "      <th></th>\n",
       "      <th></th>\n",
       "      <th></th>\n",
       "      <th></th>\n",
       "      <th></th>\n",
       "      <th></th>\n",
       "      <th></th>\n",
       "      <th></th>\n",
       "    </tr>\n",
       "  </thead>\n",
       "  <tbody>\n",
       "    <tr>\n",
       "      <th>2021-04-01</th>\n",
       "      <td>1.0</td>\n",
       "      <td>NaN</td>\n",
       "      <td>NaN</td>\n",
       "      <td>NaN</td>\n",
       "      <td>NaN</td>\n",
       "      <td>NaN</td>\n",
       "      <td>NaN</td>\n",
       "      <td>NaN</td>\n",
       "      <td>1.0</td>\n",
       "      <td>1.0</td>\n",
       "      <td>NaN</td>\n",
       "    </tr>\n",
       "    <tr>\n",
       "      <th>2021-05-01</th>\n",
       "      <td>2.0</td>\n",
       "      <td>NaN</td>\n",
       "      <td>NaN</td>\n",
       "      <td>NaN</td>\n",
       "      <td>NaN</td>\n",
       "      <td>NaN</td>\n",
       "      <td>NaN</td>\n",
       "      <td>1.0</td>\n",
       "      <td>NaN</td>\n",
       "      <td>1.0</td>\n",
       "      <td>1.0</td>\n",
       "    </tr>\n",
       "    <tr>\n",
       "      <th>2021-11-01</th>\n",
       "      <td>2.0</td>\n",
       "      <td>NaN</td>\n",
       "      <td>1.0</td>\n",
       "      <td>NaN</td>\n",
       "      <td>1.0</td>\n",
       "      <td>1.0</td>\n",
       "      <td>NaN</td>\n",
       "      <td>NaN</td>\n",
       "      <td>NaN</td>\n",
       "      <td>NaN</td>\n",
       "      <td>NaN</td>\n",
       "    </tr>\n",
       "    <tr>\n",
       "      <th>2022-01-01</th>\n",
       "      <td>1491.0</td>\n",
       "      <td>457.0</td>\n",
       "      <td>365.0</td>\n",
       "      <td>378.0</td>\n",
       "      <td>316.0</td>\n",
       "      <td>317.0</td>\n",
       "      <td>324.0</td>\n",
       "      <td>NaN</td>\n",
       "      <td>NaN</td>\n",
       "      <td>NaN</td>\n",
       "      <td>NaN</td>\n",
       "    </tr>\n",
       "    <tr>\n",
       "      <th>2022-02-01</th>\n",
       "      <td>1539.0</td>\n",
       "      <td>385.0</td>\n",
       "      <td>393.0</td>\n",
       "      <td>362.0</td>\n",
       "      <td>354.0</td>\n",
       "      <td>337.0</td>\n",
       "      <td>NaN</td>\n",
       "      <td>NaN</td>\n",
       "      <td>NaN</td>\n",
       "      <td>NaN</td>\n",
       "      <td>NaN</td>\n",
       "    </tr>\n",
       "    <tr>\n",
       "      <th>2022-03-01</th>\n",
       "      <td>1255.0</td>\n",
       "      <td>305.0</td>\n",
       "      <td>274.0</td>\n",
       "      <td>259.0</td>\n",
       "      <td>276.0</td>\n",
       "      <td>NaN</td>\n",
       "      <td>NaN</td>\n",
       "      <td>NaN</td>\n",
       "      <td>NaN</td>\n",
       "      <td>NaN</td>\n",
       "      <td>NaN</td>\n",
       "    </tr>\n",
       "    <tr>\n",
       "      <th>2022-04-01</th>\n",
       "      <td>1592.0</td>\n",
       "      <td>421.0</td>\n",
       "      <td>389.0</td>\n",
       "      <td>391.0</td>\n",
       "      <td>NaN</td>\n",
       "      <td>NaN</td>\n",
       "      <td>NaN</td>\n",
       "      <td>NaN</td>\n",
       "      <td>NaN</td>\n",
       "      <td>NaN</td>\n",
       "      <td>NaN</td>\n",
       "    </tr>\n",
       "    <tr>\n",
       "      <th>2022-05-01</th>\n",
       "      <td>1192.0</td>\n",
       "      <td>352.0</td>\n",
       "      <td>287.0</td>\n",
       "      <td>NaN</td>\n",
       "      <td>NaN</td>\n",
       "      <td>NaN</td>\n",
       "      <td>NaN</td>\n",
       "      <td>NaN</td>\n",
       "      <td>NaN</td>\n",
       "      <td>NaN</td>\n",
       "      <td>NaN</td>\n",
       "    </tr>\n",
       "    <tr>\n",
       "      <th>2022-06-01</th>\n",
       "      <td>1396.0</td>\n",
       "      <td>405.0</td>\n",
       "      <td>NaN</td>\n",
       "      <td>NaN</td>\n",
       "      <td>NaN</td>\n",
       "      <td>NaN</td>\n",
       "      <td>NaN</td>\n",
       "      <td>NaN</td>\n",
       "      <td>NaN</td>\n",
       "      <td>NaN</td>\n",
       "      <td>NaN</td>\n",
       "    </tr>\n",
       "    <tr>\n",
       "      <th>2022-07-01</th>\n",
       "      <td>1515.0</td>\n",
       "      <td>NaN</td>\n",
       "      <td>NaN</td>\n",
       "      <td>NaN</td>\n",
       "      <td>NaN</td>\n",
       "      <td>NaN</td>\n",
       "      <td>NaN</td>\n",
       "      <td>NaN</td>\n",
       "      <td>NaN</td>\n",
       "      <td>NaN</td>\n",
       "      <td>NaN</td>\n",
       "    </tr>\n",
       "  </tbody>\n",
       "</table>\n",
       "</div>"
      ],
      "text/plain": [
       "cohort_period       1      2      3      4      5      6      7    11   12  \\\n",
       "first_purchase                                                               \n",
       "2021-04-01         1.0    NaN    NaN    NaN    NaN    NaN    NaN  NaN  1.0   \n",
       "2021-05-01         2.0    NaN    NaN    NaN    NaN    NaN    NaN  1.0  NaN   \n",
       "2021-11-01         2.0    NaN    1.0    NaN    1.0    1.0    NaN  NaN  NaN   \n",
       "2022-01-01      1491.0  457.0  365.0  378.0  316.0  317.0  324.0  NaN  NaN   \n",
       "2022-02-01      1539.0  385.0  393.0  362.0  354.0  337.0    NaN  NaN  NaN   \n",
       "2022-03-01      1255.0  305.0  274.0  259.0  276.0    NaN    NaN  NaN  NaN   \n",
       "2022-04-01      1592.0  421.0  389.0  391.0    NaN    NaN    NaN  NaN  NaN   \n",
       "2022-05-01      1192.0  352.0  287.0    NaN    NaN    NaN    NaN  NaN  NaN   \n",
       "2022-06-01      1396.0  405.0    NaN    NaN    NaN    NaN    NaN  NaN  NaN   \n",
       "2022-07-01      1515.0    NaN    NaN    NaN    NaN    NaN    NaN  NaN  NaN   \n",
       "\n",
       "cohort_period    14   15  \n",
       "first_purchase            \n",
       "2021-04-01      1.0  NaN  \n",
       "2021-05-01      1.0  1.0  \n",
       "2021-11-01      NaN  NaN  \n",
       "2022-01-01      NaN  NaN  \n",
       "2022-02-01      NaN  NaN  \n",
       "2022-03-01      NaN  NaN  \n",
       "2022-04-01      NaN  NaN  \n",
       "2022-05-01      NaN  NaN  \n",
       "2022-06-01      NaN  NaN  \n",
       "2022-07-01      NaN  NaN  "
      ]
     },
     "execution_count": 22,
     "metadata": {},
     "output_type": "execute_result"
    }
   ],
   "source": [
    "# Now we should create a pivot table to make creating a heatmap easier\n",
    "retention = users_per_month.pivot(index='first_purchase',\n",
    "                                 columns ='cohort_period',\n",
    "                                 values = 'user_id')\n",
    "retention"
   ]
  },
  {
   "cell_type": "code",
   "execution_count": 23,
   "id": "d8f1e886",
   "metadata": {
    "execution": {
     "iopub.execute_input": "2022-08-21T16:16:06.186405Z",
     "iopub.status.busy": "2022-08-21T16:16:06.185694Z",
     "iopub.status.idle": "2022-08-21T16:16:06.211780Z",
     "shell.execute_reply": "2022-08-21T16:16:06.210658Z"
    },
    "papermill": {
     "duration": 0.046562,
     "end_time": "2022-08-21T16:16:06.215295",
     "exception": false,
     "start_time": "2022-08-21T16:16:06.168733",
     "status": "completed"
    },
    "tags": []
   },
   "outputs": [
    {
     "data": {
      "text/html": [
       "<div>\n",
       "<style scoped>\n",
       "    .dataframe tbody tr th:only-of-type {\n",
       "        vertical-align: middle;\n",
       "    }\n",
       "\n",
       "    .dataframe tbody tr th {\n",
       "        vertical-align: top;\n",
       "    }\n",
       "\n",
       "    .dataframe thead th {\n",
       "        text-align: right;\n",
       "    }\n",
       "</style>\n",
       "<table border=\"1\" class=\"dataframe\">\n",
       "  <thead>\n",
       "    <tr style=\"text-align: right;\">\n",
       "      <th>cohort_period</th>\n",
       "      <th>1</th>\n",
       "      <th>2</th>\n",
       "      <th>3</th>\n",
       "      <th>4</th>\n",
       "      <th>5</th>\n",
       "      <th>6</th>\n",
       "      <th>7</th>\n",
       "      <th>11</th>\n",
       "      <th>12</th>\n",
       "      <th>14</th>\n",
       "      <th>15</th>\n",
       "    </tr>\n",
       "    <tr>\n",
       "      <th>first_purchase</th>\n",
       "      <th></th>\n",
       "      <th></th>\n",
       "      <th></th>\n",
       "      <th></th>\n",
       "      <th></th>\n",
       "      <th></th>\n",
       "      <th></th>\n",
       "      <th></th>\n",
       "      <th></th>\n",
       "      <th></th>\n",
       "      <th></th>\n",
       "    </tr>\n",
       "  </thead>\n",
       "  <tbody>\n",
       "    <tr>\n",
       "      <th>2021-04-01</th>\n",
       "      <td>100.0</td>\n",
       "      <td>NaN</td>\n",
       "      <td>NaN</td>\n",
       "      <td>NaN</td>\n",
       "      <td>NaN</td>\n",
       "      <td>NaN</td>\n",
       "      <td>NaN</td>\n",
       "      <td>NaN</td>\n",
       "      <td>100.0</td>\n",
       "      <td>100.0</td>\n",
       "      <td>NaN</td>\n",
       "    </tr>\n",
       "    <tr>\n",
       "      <th>2021-05-01</th>\n",
       "      <td>100.0</td>\n",
       "      <td>NaN</td>\n",
       "      <td>NaN</td>\n",
       "      <td>NaN</td>\n",
       "      <td>NaN</td>\n",
       "      <td>NaN</td>\n",
       "      <td>NaN</td>\n",
       "      <td>50.0</td>\n",
       "      <td>NaN</td>\n",
       "      <td>50.0</td>\n",
       "      <td>50.0</td>\n",
       "    </tr>\n",
       "    <tr>\n",
       "      <th>2021-11-01</th>\n",
       "      <td>100.0</td>\n",
       "      <td>NaN</td>\n",
       "      <td>50.0</td>\n",
       "      <td>NaN</td>\n",
       "      <td>50.0</td>\n",
       "      <td>50.0</td>\n",
       "      <td>NaN</td>\n",
       "      <td>NaN</td>\n",
       "      <td>NaN</td>\n",
       "      <td>NaN</td>\n",
       "      <td>NaN</td>\n",
       "    </tr>\n",
       "    <tr>\n",
       "      <th>2022-01-01</th>\n",
       "      <td>100.0</td>\n",
       "      <td>30.7</td>\n",
       "      <td>24.5</td>\n",
       "      <td>25.4</td>\n",
       "      <td>21.2</td>\n",
       "      <td>21.3</td>\n",
       "      <td>21.7</td>\n",
       "      <td>NaN</td>\n",
       "      <td>NaN</td>\n",
       "      <td>NaN</td>\n",
       "      <td>NaN</td>\n",
       "    </tr>\n",
       "    <tr>\n",
       "      <th>2022-02-01</th>\n",
       "      <td>100.0</td>\n",
       "      <td>25.0</td>\n",
       "      <td>25.5</td>\n",
       "      <td>23.5</td>\n",
       "      <td>23.0</td>\n",
       "      <td>21.9</td>\n",
       "      <td>NaN</td>\n",
       "      <td>NaN</td>\n",
       "      <td>NaN</td>\n",
       "      <td>NaN</td>\n",
       "      <td>NaN</td>\n",
       "    </tr>\n",
       "    <tr>\n",
       "      <th>2022-03-01</th>\n",
       "      <td>100.0</td>\n",
       "      <td>24.3</td>\n",
       "      <td>21.8</td>\n",
       "      <td>20.6</td>\n",
       "      <td>22.0</td>\n",
       "      <td>NaN</td>\n",
       "      <td>NaN</td>\n",
       "      <td>NaN</td>\n",
       "      <td>NaN</td>\n",
       "      <td>NaN</td>\n",
       "      <td>NaN</td>\n",
       "    </tr>\n",
       "    <tr>\n",
       "      <th>2022-04-01</th>\n",
       "      <td>100.0</td>\n",
       "      <td>26.4</td>\n",
       "      <td>24.4</td>\n",
       "      <td>24.6</td>\n",
       "      <td>NaN</td>\n",
       "      <td>NaN</td>\n",
       "      <td>NaN</td>\n",
       "      <td>NaN</td>\n",
       "      <td>NaN</td>\n",
       "      <td>NaN</td>\n",
       "      <td>NaN</td>\n",
       "    </tr>\n",
       "    <tr>\n",
       "      <th>2022-05-01</th>\n",
       "      <td>100.0</td>\n",
       "      <td>29.5</td>\n",
       "      <td>24.1</td>\n",
       "      <td>NaN</td>\n",
       "      <td>NaN</td>\n",
       "      <td>NaN</td>\n",
       "      <td>NaN</td>\n",
       "      <td>NaN</td>\n",
       "      <td>NaN</td>\n",
       "      <td>NaN</td>\n",
       "      <td>NaN</td>\n",
       "    </tr>\n",
       "    <tr>\n",
       "      <th>2022-06-01</th>\n",
       "      <td>100.0</td>\n",
       "      <td>29.0</td>\n",
       "      <td>NaN</td>\n",
       "      <td>NaN</td>\n",
       "      <td>NaN</td>\n",
       "      <td>NaN</td>\n",
       "      <td>NaN</td>\n",
       "      <td>NaN</td>\n",
       "      <td>NaN</td>\n",
       "      <td>NaN</td>\n",
       "      <td>NaN</td>\n",
       "    </tr>\n",
       "    <tr>\n",
       "      <th>2022-07-01</th>\n",
       "      <td>100.0</td>\n",
       "      <td>NaN</td>\n",
       "      <td>NaN</td>\n",
       "      <td>NaN</td>\n",
       "      <td>NaN</td>\n",
       "      <td>NaN</td>\n",
       "      <td>NaN</td>\n",
       "      <td>NaN</td>\n",
       "      <td>NaN</td>\n",
       "      <td>NaN</td>\n",
       "      <td>NaN</td>\n",
       "    </tr>\n",
       "  </tbody>\n",
       "</table>\n",
       "</div>"
      ],
      "text/plain": [
       "cohort_period      1     2     3     4     5     6     7     11     12     14  \\\n",
       "first_purchase                                                                  \n",
       "2021-04-01      100.0   NaN   NaN   NaN   NaN   NaN   NaN   NaN  100.0  100.0   \n",
       "2021-05-01      100.0   NaN   NaN   NaN   NaN   NaN   NaN  50.0    NaN   50.0   \n",
       "2021-11-01      100.0   NaN  50.0   NaN  50.0  50.0   NaN   NaN    NaN    NaN   \n",
       "2022-01-01      100.0  30.7  24.5  25.4  21.2  21.3  21.7   NaN    NaN    NaN   \n",
       "2022-02-01      100.0  25.0  25.5  23.5  23.0  21.9   NaN   NaN    NaN    NaN   \n",
       "2022-03-01      100.0  24.3  21.8  20.6  22.0   NaN   NaN   NaN    NaN    NaN   \n",
       "2022-04-01      100.0  26.4  24.4  24.6   NaN   NaN   NaN   NaN    NaN    NaN   \n",
       "2022-05-01      100.0  29.5  24.1   NaN   NaN   NaN   NaN   NaN    NaN    NaN   \n",
       "2022-06-01      100.0  29.0   NaN   NaN   NaN   NaN   NaN   NaN    NaN    NaN   \n",
       "2022-07-01      100.0   NaN   NaN   NaN   NaN   NaN   NaN   NaN    NaN    NaN   \n",
       "\n",
       "cohort_period     15  \n",
       "first_purchase        \n",
       "2021-04-01       NaN  \n",
       "2021-05-01      50.0  \n",
       "2021-11-01       NaN  \n",
       "2022-01-01       NaN  \n",
       "2022-02-01       NaN  \n",
       "2022-03-01       NaN  \n",
       "2022-04-01       NaN  \n",
       "2022-05-01       NaN  \n",
       "2022-06-01       NaN  \n",
       "2022-07-01       NaN  "
      ]
     },
     "execution_count": 23,
     "metadata": {},
     "output_type": "execute_result"
    }
   ],
   "source": [
    "#now we need to calculate the retention rate\n",
    "retention_prcnt = retention.divide(retention[1], axis=0)\n",
    "retention_prcnt.round(3)*100"
   ]
  },
  {
   "cell_type": "code",
   "execution_count": 24,
   "id": "e6a727e3",
   "metadata": {
    "execution": {
     "iopub.execute_input": "2022-08-21T16:16:06.258147Z",
     "iopub.status.busy": "2022-08-21T16:16:06.257490Z",
     "iopub.status.idle": "2022-08-21T16:16:06.263023Z",
     "shell.execute_reply": "2022-08-21T16:16:06.262011Z"
    },
    "papermill": {
     "duration": 0.030865,
     "end_time": "2022-08-21T16:16:06.265106",
     "exception": false,
     "start_time": "2022-08-21T16:16:06.234241",
     "status": "completed"
    },
    "tags": []
   },
   "outputs": [],
   "source": [
    "retention_prcnt.index=retention_prcnt.index.strftime('%Y-%m')"
   ]
  },
  {
   "cell_type": "code",
   "execution_count": 25,
   "id": "acce4944",
   "metadata": {
    "execution": {
     "iopub.execute_input": "2022-08-21T16:16:06.308373Z",
     "iopub.status.busy": "2022-08-21T16:16:06.307483Z",
     "iopub.status.idle": "2022-08-21T16:16:06.768867Z",
     "shell.execute_reply": "2022-08-21T16:16:06.767604Z"
    },
    "papermill": {
     "duration": 0.484002,
     "end_time": "2022-08-21T16:16:06.771067",
     "exception": false,
     "start_time": "2022-08-21T16:16:06.287065",
     "status": "completed"
    },
    "tags": []
   },
   "outputs": [
    {
     "data": {
      "image/png": "[encoded data removed]",
      "text/plain": [
       "<Figure size 720x720 with 2 Axes>"
      ]
     },
     "metadata": {},
     "output_type": "display_data"
    }
   ],
   "source": [
    "g=sns.set(rc={'figure.figsize':(10,10)})\n",
    "g=sns.heatmap(data=retention_prcnt.iloc[3:,:],annot=True)"
   ]
  },
  {
   "cell_type": "markdown",
   "id": "14aba2cb",
   "metadata": {
    "papermill": {
     "duration": 0.015895,
     "end_time": "2022-08-21T16:16:06.803730",
     "exception": false,
     "start_time": "2022-08-21T16:16:06.787835",
     "status": "completed"
    },
    "tags": []
   },
   "source": [
    "Now, how many purchases would that be? we need to find the average number of purchasing for cohort_period of 2, meaning that, on average how many purchases people have in the next month after their initial purchase"
   ]
  },
  {
   "cell_type": "code",
   "execution_count": 26,
   "id": "684b5694",
   "metadata": {
    "execution": {
     "iopub.execute_input": "2022-08-21T16:16:06.839943Z",
     "iopub.status.busy": "2022-08-21T16:16:06.839160Z",
     "iopub.status.idle": "2022-08-21T16:16:06.843694Z",
     "shell.execute_reply": "2022-08-21T16:16:06.843051Z"
    },
    "papermill": {
     "duration": 0.025238,
     "end_time": "2022-08-21T16:16:06.845594",
     "exception": false,
     "start_time": "2022-08-21T16:16:06.820356",
     "status": "completed"
    },
    "tags": []
   },
   "outputs": [],
   "source": [
    "mean_retention_percentage=retention_prcnt[2].mean()"
   ]
  },
  {
   "cell_type": "code",
   "execution_count": 27,
   "id": "2363b8f9",
   "metadata": {
    "execution": {
     "iopub.execute_input": "2022-08-21T16:16:06.880688Z",
     "iopub.status.busy": "2022-08-21T16:16:06.879750Z",
     "iopub.status.idle": "2022-08-21T16:16:06.886918Z",
     "shell.execute_reply": "2022-08-21T16:16:06.886233Z"
    },
    "papermill": {
     "duration": 0.026477,
     "end_time": "2022-08-21T16:16:06.888662",
     "exception": false,
     "start_time": "2022-08-21T16:16:06.862185",
     "status": "completed"
    },
    "tags": []
   },
   "outputs": [],
   "source": [
    "first_prch_July=retention.loc['2022-07-01',1]*mean_retention_percentage"
   ]
  },
  {
   "cell_type": "code",
   "execution_count": 28,
   "id": "946c3e00",
   "metadata": {
    "execution": {
     "iopub.execute_input": "2022-08-21T16:16:06.928332Z",
     "iopub.status.busy": "2022-08-21T16:16:06.927491Z",
     "iopub.status.idle": "2022-08-21T16:16:06.933628Z",
     "shell.execute_reply": "2022-08-21T16:16:06.932985Z"
    },
    "papermill": {
     "duration": 0.031311,
     "end_time": "2022-08-21T16:16:06.935432",
     "exception": false,
     "start_time": "2022-08-21T16:16:06.904121",
     "status": "completed"
    },
    "tags": []
   },
   "outputs": [
    {
     "data": {
      "text/plain": [
       "416.51387354993096"
      ]
     },
     "execution_count": 28,
     "metadata": {},
     "output_type": "execute_result"
    }
   ],
   "source": [
    "first_prch_July #so around 417 customers who first purchased in July, are going to purchase something in August"
   ]
  },
  {
   "cell_type": "markdown",
   "id": "31b9b854",
   "metadata": {
    "papermill": {
     "duration": 0.015639,
     "end_time": "2022-08-21T16:16:06.971003",
     "exception": false,
     "start_time": "2022-08-21T16:16:06.955364",
     "status": "completed"
    },
    "tags": []
   },
   "source": [
    "So we probably will have around 416 users in August who had their first purchase in July.\n",
    "We want the number of purchases in August, so we need to know on average, how many purchases are made in the second month, by people who purchased something for the first time in the previous month."
   ]
  },
  {
   "cell_type": "code",
   "execution_count": 29,
   "id": "9a58dc2b",
   "metadata": {
    "execution": {
     "iopub.execute_input": "2022-08-21T16:16:07.008652Z",
     "iopub.status.busy": "2022-08-21T16:16:07.007847Z",
     "iopub.status.idle": "2022-08-21T16:16:07.018576Z",
     "shell.execute_reply": "2022-08-21T16:16:07.017916Z"
    },
    "papermill": {
     "duration": 0.030859,
     "end_time": "2022-08-21T16:16:07.020226",
     "exception": false,
     "start_time": "2022-08-21T16:16:06.989367",
     "status": "completed"
    },
    "tags": []
   },
   "outputs": [
    {
     "data": {
      "text/plain": [
       "1.0"
      ]
     },
     "execution_count": 29,
     "metadata": {},
     "output_type": "execute_result"
    }
   ],
   "source": [
    "#this data is heavily skewed so we calculate the median instead of the mean\n",
    "data[data.cohort_period==2].groupby(['user_id']).size().median()"
   ]
  },
  {
   "cell_type": "markdown",
   "id": "a28c771d",
   "metadata": {
    "papermill": {
     "duration": 0.015891,
     "end_time": "2022-08-21T16:16:07.052550",
     "exception": false,
     "start_time": "2022-08-21T16:16:07.036659",
     "status": "completed"
    },
    "tags": []
   },
   "source": [
    "So probably around 417 purchases will be made in August"
   ]
  },
  {
   "cell_type": "markdown",
   "id": "fda7f8f0",
   "metadata": {
    "papermill": {
     "duration": 0.015679,
     "end_time": "2022-08-21T16:16:07.083925",
     "exception": false,
     "start_time": "2022-08-21T16:16:07.068246",
     "status": "completed"
    },
    "tags": []
   },
   "source": [
    "## Q2\n",
    "What we'll do for this section is:\n",
    "\n",
    "1.  divide users into 3 groups based on the discount they received on their first purchase\n",
    "1.  calculate retention rate for each group and see how first purchase discount affects user retention"
   ]
  },
  {
   "cell_type": "code",
   "execution_count": 30,
   "id": "e301d5c2",
   "metadata": {
    "execution": {
     "iopub.execute_input": "2022-08-21T16:16:07.117270Z",
     "iopub.status.busy": "2022-08-21T16:16:07.116297Z",
     "iopub.status.idle": "2022-08-21T16:16:07.126323Z",
     "shell.execute_reply": "2022-08-21T16:16:07.125669Z"
    },
    "papermill": {
     "duration": 0.028377,
     "end_time": "2022-08-21T16:16:07.127937",
     "exception": false,
     "start_time": "2022-08-21T16:16:07.099560",
     "status": "completed"
    },
    "tags": []
   },
   "outputs": [
    {
     "data": {
      "text/plain": [
       "1    0.697329\n",
       "2    0.113069\n",
       "3    0.077545\n",
       "4    0.045632\n",
       "5    0.031769\n",
       "6    0.023249\n",
       "7    0.011408\n",
       "Name: cohort_period, dtype: float64"
      ]
     },
     "execution_count": 30,
     "metadata": {},
     "output_type": "execute_result"
    }
   ],
   "source": [
    "data[data.discount_type!=0].cohort_period.value_counts(normalize=True)\n",
    "#discounts are not just for first time purchasers, but here we want to examine the effect of\n",
    "#discounts on the first purchasers"
   ]
  },
  {
   "cell_type": "code",
   "execution_count": 31,
   "id": "7752b0cf",
   "metadata": {
    "execution": {
     "iopub.execute_input": "2022-08-21T16:16:07.161632Z",
     "iopub.status.busy": "2022-08-21T16:16:07.161037Z",
     "iopub.status.idle": "2022-08-21T16:16:07.169495Z",
     "shell.execute_reply": "2022-08-21T16:16:07.168897Z"
    },
    "papermill": {
     "duration": 0.027,
     "end_time": "2022-08-21T16:16:07.171074",
     "exception": false,
     "start_time": "2022-08-21T16:16:07.144074",
     "status": "completed"
    },
    "tags": []
   },
   "outputs": [
    {
     "data": {
      "text/plain": [
       "0.0    0.761675\n",
       "1.0    0.233575\n",
       "2.0    0.004749\n",
       "Name: discount_type, dtype: float64"
      ]
     },
     "execution_count": 31,
     "metadata": {},
     "output_type": "execute_result"
    }
   ],
   "source": [
    "data.discount_type.value_counts(normalize=True)"
   ]
  },
  {
   "cell_type": "code",
   "execution_count": 32,
   "id": "4bfbda89",
   "metadata": {
    "execution": {
     "iopub.execute_input": "2022-08-21T16:16:07.204948Z",
     "iopub.status.busy": "2022-08-21T16:16:07.204279Z",
     "iopub.status.idle": "2022-08-21T16:16:07.213802Z",
     "shell.execute_reply": "2022-08-21T16:16:07.212772Z"
    },
    "papermill": {
     "duration": 0.029155,
     "end_time": "2022-08-21T16:16:07.216465",
     "exception": false,
     "start_time": "2022-08-21T16:16:07.187310",
     "status": "completed"
    },
    "tags": []
   },
   "outputs": [
    {
     "data": {
      "text/plain": [
       "discount_type\n",
       "0.0        0.000000\n",
       "1.0    10595.093561\n",
       "2.0     5749.565217\n",
       "Name: discount_cost, dtype: float64"
      ]
     },
     "execution_count": 32,
     "metadata": {},
     "output_type": "execute_result"
    }
   ],
   "source": [
    "data.groupby('discount_type')['discount_cost'].mean()"
   ]
  },
  {
   "cell_type": "code",
   "execution_count": 33,
   "id": "53b4a066",
   "metadata": {
    "execution": {
     "iopub.execute_input": "2022-08-21T16:16:07.251293Z",
     "iopub.status.busy": "2022-08-21T16:16:07.250545Z",
     "iopub.status.idle": "2022-08-21T16:16:07.256675Z",
     "shell.execute_reply": "2022-08-21T16:16:07.256048Z"
    },
    "papermill": {
     "duration": 0.024967,
     "end_time": "2022-08-21T16:16:07.258471",
     "exception": false,
     "start_time": "2022-08-21T16:16:07.233504",
     "status": "completed"
    },
    "tags": []
   },
   "outputs": [],
   "source": [
    "first_prch=data.groupby('user_id')['order_id'].min() #finding the smallest order_id, which would be the first purchase"
   ]
  },
  {
   "cell_type": "code",
   "execution_count": 34,
   "id": "20ab6d9d",
   "metadata": {
    "execution": {
     "iopub.execute_input": "2022-08-21T16:16:07.293587Z",
     "iopub.status.busy": "2022-08-21T16:16:07.292741Z",
     "iopub.status.idle": "2022-08-21T16:16:07.298902Z",
     "shell.execute_reply": "2022-08-21T16:16:07.298264Z"
    },
    "papermill": {
     "duration": 0.025795,
     "end_time": "2022-08-21T16:16:07.300620",
     "exception": false,
     "start_time": "2022-08-21T16:16:07.274825",
     "status": "completed"
    },
    "tags": []
   },
   "outputs": [
    {
     "data": {
      "text/plain": [
       "user_id\n",
       "1           1\n",
       "2           2\n",
       "3           3\n",
       "4           4\n",
       "5           5\n",
       "        ...  \n",
       "9981    29031\n",
       "9982    29034\n",
       "9983    29036\n",
       "9984    29039\n",
       "9985    29054\n",
       "Name: order_id, Length: 9985, dtype: int64"
      ]
     },
     "execution_count": 34,
     "metadata": {},
     "output_type": "execute_result"
    }
   ],
   "source": [
    "first_prch"
   ]
  },
  {
   "cell_type": "code",
   "execution_count": 35,
   "id": "90f52452",
   "metadata": {
    "execution": {
     "iopub.execute_input": "2022-08-21T16:16:07.334956Z",
     "iopub.status.busy": "2022-08-21T16:16:07.334407Z",
     "iopub.status.idle": "2022-08-21T16:16:07.340245Z",
     "shell.execute_reply": "2022-08-21T16:16:07.339653Z"
    },
    "papermill": {
     "duration": 0.024541,
     "end_time": "2022-08-21T16:16:07.341812",
     "exception": false,
     "start_time": "2022-08-21T16:16:07.317271",
     "status": "completed"
    },
    "tags": []
   },
   "outputs": [],
   "source": [
    "#unique user ids with discount type 0 in their first purchase\n",
    "disc0=data.user_id[(data.discount_type==0)&(data.order_id.isin(first_prch))].unique()"
   ]
  },
  {
   "cell_type": "code",
   "execution_count": 36,
   "id": "36a02a5c",
   "metadata": {
    "execution": {
     "iopub.execute_input": "2022-08-21T16:16:07.376658Z",
     "iopub.status.busy": "2022-08-21T16:16:07.375753Z",
     "iopub.status.idle": "2022-08-21T16:16:07.382213Z",
     "shell.execute_reply": "2022-08-21T16:16:07.381425Z"
    },
    "papermill": {
     "duration": 0.026169,
     "end_time": "2022-08-21T16:16:07.384203",
     "exception": false,
     "start_time": "2022-08-21T16:16:07.358034",
     "status": "completed"
    },
    "tags": []
   },
   "outputs": [],
   "source": [
    "#unique user ids with discount type 1 in their first purchase\n",
    "disc1=data.user_id[(data.discount_type==1)&(data.order_id.isin(first_prch))].unique()"
   ]
  },
  {
   "cell_type": "code",
   "execution_count": 37,
   "id": "e2233ee8",
   "metadata": {
    "execution": {
     "iopub.execute_input": "2022-08-21T16:16:07.417765Z",
     "iopub.status.busy": "2022-08-21T16:16:07.417483Z",
     "iopub.status.idle": "2022-08-21T16:16:07.423493Z",
     "shell.execute_reply": "2022-08-21T16:16:07.422809Z"
    },
    "papermill": {
     "duration": 0.02494,
     "end_time": "2022-08-21T16:16:07.425317",
     "exception": false,
     "start_time": "2022-08-21T16:16:07.400377",
     "status": "completed"
    },
    "tags": []
   },
   "outputs": [],
   "source": [
    "#unique user ids with discount type 2 in their first purchase\n",
    "disc2=data.user_id[(data.discount_type==2)&(data.order_id.isin(first_prch))].unique()"
   ]
  },
  {
   "cell_type": "code",
   "execution_count": 38,
   "id": "ba9a4cd5",
   "metadata": {
    "execution": {
     "iopub.execute_input": "2022-08-21T16:16:07.461149Z",
     "iopub.status.busy": "2022-08-21T16:16:07.460285Z",
     "iopub.status.idle": "2022-08-21T16:16:07.466927Z",
     "shell.execute_reply": "2022-08-21T16:16:07.466243Z"
    },
    "papermill": {
     "duration": 0.027336,
     "end_time": "2022-08-21T16:16:07.468754",
     "exception": false,
     "start_time": "2022-08-21T16:16:07.441418",
     "status": "completed"
    },
    "tags": []
   },
   "outputs": [],
   "source": [
    "def retention_rate(df):\n",
    "    users_per_month=df.groupby(['first_purchase', 'cohort_period'])['user_id'].nunique().reset_index()\n",
    "    retention = users_per_month.pivot(index='first_purchase',\n",
    "                                 columns ='cohort_period',\n",
    "                                 values = 'user_id')\n",
    "    retention_prcnt = retention.divide(retention[1], axis=0)\n",
    "    retention_prcnt.index=retention_prcnt.index.strftime('%Y-%m')\n",
    "    g=sns.set(rc={'figure.figsize':(10,10)})\n",
    "    g=sns.heatmap(data=retention_prcnt,annot=True,cmap='Pastel1')\n",
    "    return g"
   ]
  },
  {
   "cell_type": "code",
   "execution_count": 39,
   "id": "6473502e",
   "metadata": {
    "execution": {
     "iopub.execute_input": "2022-08-21T16:16:07.502806Z",
     "iopub.status.busy": "2022-08-21T16:16:07.502051Z",
     "iopub.status.idle": "2022-08-21T16:16:07.913459Z",
     "shell.execute_reply": "2022-08-21T16:16:07.912375Z"
    },
    "papermill": {
     "duration": 0.43078,
     "end_time": "2022-08-21T16:16:07.915807",
     "exception": false,
     "start_time": "2022-08-21T16:16:07.485027",
     "status": "completed"
    },
    "tags": []
   },
   "outputs": [
    {
     "data": {
      "text/plain": [
       "<AxesSubplot:xlabel='cohort_period', ylabel='first_purchase'>"
      ]
     },
     "execution_count": 39,
     "metadata": {},
     "output_type": "execute_result"
    },
    {
     "data": {
      "image/png": "[encoded data removed]",
      "text/plain": [
       "<Figure size 720x720 with 2 Axes>"
      ]
     },
     "metadata": {},
     "output_type": "display_data"
    }
   ],
   "source": [
    "#discount type 0 for the first purchase retention rate\n",
    "retention_rate(data[data['user_id'].isin(disc0)])"
   ]
  },
  {
   "cell_type": "code",
   "execution_count": 40,
   "id": "bf0f7051",
   "metadata": {
    "execution": {
     "iopub.execute_input": "2022-08-21T16:16:07.951752Z",
     "iopub.status.busy": "2022-08-21T16:16:07.951199Z",
     "iopub.status.idle": "2022-08-21T16:16:08.420928Z",
     "shell.execute_reply": "2022-08-21T16:16:08.419828Z"
    },
    "papermill": {
     "duration": 0.490277,
     "end_time": "2022-08-21T16:16:08.423364",
     "exception": false,
     "start_time": "2022-08-21T16:16:07.933087",
     "status": "completed"
    },
    "tags": []
   },
   "outputs": [
    {
     "data": {
      "text/plain": [
       "<AxesSubplot:xlabel='cohort_period', ylabel='first_purchase'>"
      ]
     },
     "execution_count": 40,
     "metadata": {},
     "output_type": "execute_result"
    },
    {
     "data": {
      "image/png": "[encoded data removed]",
      "text/plain": [
       "<Figure size 720x720 with 2 Axes>"
      ]
     },
     "metadata": {},
     "output_type": "display_data"
    }
   ],
   "source": [
    "#discount type 1 for the first purchase retention rate\n",
    "retention_rate(data[data['user_id'].isin(disc1)])"
   ]
  },
  {
   "cell_type": "code",
   "execution_count": 41,
   "id": "71deb7b1",
   "metadata": {
    "execution": {
     "iopub.execute_input": "2022-08-21T16:16:08.465901Z",
     "iopub.status.busy": "2022-08-21T16:16:08.464733Z",
     "iopub.status.idle": "2022-08-21T16:16:08.762025Z",
     "shell.execute_reply": "2022-08-21T16:16:08.761344Z"
    },
    "papermill": {
     "duration": 0.320137,
     "end_time": "2022-08-21T16:16:08.763953",
     "exception": false,
     "start_time": "2022-08-21T16:16:08.443816",
     "status": "completed"
    },
    "tags": []
   },
   "outputs": [
    {
     "data": {
      "text/plain": [
       "<AxesSubplot:xlabel='cohort_period', ylabel='first_purchase'>"
      ]
     },
     "execution_count": 41,
     "metadata": {},
     "output_type": "execute_result"
    },
    {
     "data": {
      "image/png": "[encoded data removed]",
      "text/plain": [
       "<Figure size 720x720 with 2 Axes>"
      ]
     },
     "metadata": {},
     "output_type": "display_data"
    }
   ],
   "source": [
    "#discount type 2 for the first purchase retention rate\n",
    "retention_rate(data[data['user_id'].isin(disc2)])"
   ]
  },
  {
   "cell_type": "markdown",
   "id": "baf4cff0",
   "metadata": {
    "papermill": {
     "duration": 0.018568,
     "end_time": "2022-08-21T16:16:08.800897",
     "exception": false,
     "start_time": "2022-08-21T16:16:08.782329",
     "status": "completed"
    },
    "tags": []
   },
   "source": [
    "## Q3\n",
    "1. Finding users with more than 1 purchase using value_count of user_id\n",
    "\n",
    "1. Sorting the dataset accroding to user_id and cohort_period\n",
    "\n",
    "1. Creating an interval column which is the difference between created_at column and created_at.shift(1) calculated in days\n",
    "\n",
    "1. Creating a table using interval values for each user, the columns are the number of intervals (int_1= interval between first and second purchase, int2=interval between second and third purchase, so on). this table has 118 columns and 4444 rows (number of users with more than one purchase)\n",
    "\n",
    "1. Finding the median value of each column (since columns are heavily skewed), this lets us know on average how long after each purchase, the user makes another purchase)"
   ]
  },
  {
   "cell_type": "code",
   "execution_count": 42,
   "id": "70945a99",
   "metadata": {
    "execution": {
     "iopub.execute_input": "2022-08-21T16:16:08.838771Z",
     "iopub.status.busy": "2022-08-21T16:16:08.838333Z",
     "iopub.status.idle": "2022-08-21T16:16:09.032807Z",
     "shell.execute_reply": "2022-08-21T16:16:09.031847Z"
    },
    "papermill": {
     "duration": 0.216066,
     "end_time": "2022-08-21T16:16:09.035164",
     "exception": false,
     "start_time": "2022-08-21T16:16:08.819098",
     "status": "completed"
    },
    "tags": []
   },
   "outputs": [
    {
     "data": {
      "text/plain": [
       "<AxesSubplot:>"
      ]
     },
     "execution_count": 42,
     "metadata": {},
     "output_type": "execute_result"
    },
    {
     "data": {
      "image/png": "[encoded data removed]",
      "text/plain": [
       "<Figure size 720x720 with 1 Axes>"
      ]
     },
     "metadata": {},
     "output_type": "display_data"
    }
   ],
   "source": [
    "data.user_id.value_counts().hist()"
   ]
  },
  {
   "cell_type": "code",
   "execution_count": 43,
   "id": "47fb2cb3",
   "metadata": {
    "execution": {
     "iopub.execute_input": "2022-08-21T16:16:09.082910Z",
     "iopub.status.busy": "2022-08-21T16:16:09.081543Z",
     "iopub.status.idle": "2022-08-21T16:16:09.092207Z",
     "shell.execute_reply": "2022-08-21T16:16:09.091240Z"
    },
    "papermill": {
     "duration": 0.03996,
     "end_time": "2022-08-21T16:16:09.094171",
     "exception": false,
     "start_time": "2022-08-21T16:16:09.054211",
     "status": "completed"
    },
    "tags": []
   },
   "outputs": [
    {
     "data": {
      "text/plain": [
       "(5541,)"
      ]
     },
     "execution_count": 43,
     "metadata": {},
     "output_type": "execute_result"
    }
   ],
   "source": [
    "data.user_id.value_counts()[data.user_id.value_counts()==1].shape #5541 out of 9985 users have purchase only once"
   ]
  },
  {
   "cell_type": "code",
   "execution_count": 44,
   "id": "7968c8d6",
   "metadata": {
    "execution": {
     "iopub.execute_input": "2022-08-21T16:16:09.133812Z",
     "iopub.status.busy": "2022-08-21T16:16:09.133204Z",
     "iopub.status.idle": "2022-08-21T16:16:09.141045Z",
     "shell.execute_reply": "2022-08-21T16:16:09.140398Z"
    },
    "papermill": {
     "duration": 0.029387,
     "end_time": "2022-08-21T16:16:09.142942",
     "exception": false,
     "start_time": "2022-08-21T16:16:09.113555",
     "status": "completed"
    },
    "tags": []
   },
   "outputs": [],
   "source": [
    "multi_purchase=data.user_id.value_counts()[data.user_id.value_counts()>1] #4444 out of 9985 users have a second or more purchase"
   ]
  },
  {
   "cell_type": "code",
   "execution_count": 45,
   "id": "8b3cb609",
   "metadata": {
    "execution": {
     "iopub.execute_input": "2022-08-21T16:16:09.182334Z",
     "iopub.status.busy": "2022-08-21T16:16:09.181646Z",
     "iopub.status.idle": "2022-08-21T16:16:09.189975Z",
     "shell.execute_reply": "2022-08-21T16:16:09.189258Z"
    },
    "papermill": {
     "duration": 0.030398,
     "end_time": "2022-08-21T16:16:09.191858",
     "exception": false,
     "start_time": "2022-08-21T16:16:09.161460",
     "status": "completed"
    },
    "tags": []
   },
   "outputs": [
    {
     "data": {
      "text/plain": [
       "10.0"
      ]
     },
     "execution_count": 45,
     "metadata": {},
     "output_type": "execute_result"
    }
   ],
   "source": [
    "np.percentile(data.user_id.value_counts(),95) #95% of the users have purchased something 10 or less times"
   ]
  },
  {
   "cell_type": "code",
   "execution_count": 46,
   "id": "fde51ae0",
   "metadata": {
    "execution": {
     "iopub.execute_input": "2022-08-21T16:16:09.231619Z",
     "iopub.status.busy": "2022-08-21T16:16:09.230983Z",
     "iopub.status.idle": "2022-08-21T16:16:09.242360Z",
     "shell.execute_reply": "2022-08-21T16:16:09.241623Z"
    },
    "papermill": {
     "duration": 0.033759,
     "end_time": "2022-08-21T16:16:09.244281",
     "exception": false,
     "start_time": "2022-08-21T16:16:09.210522",
     "status": "completed"
    },
    "tags": []
   },
   "outputs": [
    {
     "data": {
      "text/plain": [
       "count    9985.000000\n",
       "mean        2.910065\n",
       "std         4.507908\n",
       "min         1.000000\n",
       "25%         1.000000\n",
       "50%         1.000000\n",
       "75%         3.000000\n",
       "max       117.000000\n",
       "Name: user_id, dtype: float64"
      ]
     },
     "execution_count": 46,
     "metadata": {},
     "output_type": "execute_result"
    }
   ],
   "source": [
    "data.user_id.value_counts().describe() "
   ]
  },
  {
   "cell_type": "code",
   "execution_count": 47,
   "id": "fdf6495a",
   "metadata": {
    "execution": {
     "iopub.execute_input": "2022-08-21T16:16:09.284063Z",
     "iopub.status.busy": "2022-08-21T16:16:09.283457Z",
     "iopub.status.idle": "2022-08-21T16:16:09.290100Z",
     "shell.execute_reply": "2022-08-21T16:16:09.289393Z"
    },
    "papermill": {
     "duration": 0.028496,
     "end_time": "2022-08-21T16:16:09.292086",
     "exception": false,
     "start_time": "2022-08-21T16:16:09.263590",
     "status": "completed"
    },
    "tags": []
   },
   "outputs": [],
   "source": [
    "multi_data=data[data.user_id.isin(multi_purchase.index)] #filtering out the users with more than once purchase histor"
   ]
  },
  {
   "cell_type": "code",
   "execution_count": 48,
   "id": "a2412d26",
   "metadata": {
    "execution": {
     "iopub.execute_input": "2022-08-21T16:16:09.331354Z",
     "iopub.status.busy": "2022-08-21T16:16:09.330712Z",
     "iopub.status.idle": "2022-08-21T16:16:09.342537Z",
     "shell.execute_reply": "2022-08-21T16:16:09.341918Z"
    },
    "papermill": {
     "duration": 0.033699,
     "end_time": "2022-08-21T16:16:09.344462",
     "exception": false,
     "start_time": "2022-08-21T16:16:09.310763",
     "status": "completed"
    },
    "tags": []
   },
   "outputs": [],
   "source": [
    "multi_data=multi_data.sort_values(['user_id','cohort_period']) #sorting the data according to user_id and cohort_period so we can calculate intervals for each user easily"
   ]
  },
  {
   "cell_type": "code",
   "execution_count": 49,
   "id": "754710cb",
   "metadata": {
    "execution": {
     "iopub.execute_input": "2022-08-21T16:16:09.383530Z",
     "iopub.status.busy": "2022-08-21T16:16:09.383028Z",
     "iopub.status.idle": "2022-08-21T16:16:09.399189Z",
     "shell.execute_reply": "2022-08-21T16:16:09.398275Z"
    },
    "papermill": {
     "duration": 0.037828,
     "end_time": "2022-08-21T16:16:09.401000",
     "exception": false,
     "start_time": "2022-08-21T16:16:09.363172",
     "status": "completed"
    },
    "tags": []
   },
   "outputs": [
    {
     "data": {
      "text/html": [
       "<div>\n",
       "<style scoped>\n",
       "    .dataframe tbody tr th:only-of-type {\n",
       "        vertical-align: middle;\n",
       "    }\n",
       "\n",
       "    .dataframe tbody tr th {\n",
       "        vertical-align: top;\n",
       "    }\n",
       "\n",
       "    .dataframe thead th {\n",
       "        text-align: right;\n",
       "    }\n",
       "</style>\n",
       "<table border=\"1\" class=\"dataframe\">\n",
       "  <thead>\n",
       "    <tr style=\"text-align: right;\">\n",
       "      <th></th>\n",
       "      <th>order_id</th>\n",
       "      <th>user_id</th>\n",
       "      <th>created_at</th>\n",
       "      <th>discount_cost</th>\n",
       "      <th>discount_type</th>\n",
       "      <th>basket</th>\n",
       "      <th>purchase_month</th>\n",
       "      <th>first_purchase</th>\n",
       "      <th>cohort_period</th>\n",
       "    </tr>\n",
       "  </thead>\n",
       "  <tbody>\n",
       "    <tr>\n",
       "      <th>0</th>\n",
       "      <td>1</td>\n",
       "      <td>1</td>\n",
       "      <td>2021-04-12</td>\n",
       "      <td>10000</td>\n",
       "      <td>1.0</td>\n",
       "      <td>12000</td>\n",
       "      <td>2021-04-01</td>\n",
       "      <td>2021-04-01</td>\n",
       "      <td>1</td>\n",
       "    </tr>\n",
       "    <tr>\n",
       "      <th>7703</th>\n",
       "      <td>7704</td>\n",
       "      <td>1</td>\n",
       "      <td>2022-03-28</td>\n",
       "      <td>0</td>\n",
       "      <td>0.0</td>\n",
       "      <td>6400</td>\n",
       "      <td>2022-03-01</td>\n",
       "      <td>2021-04-01</td>\n",
       "      <td>12</td>\n",
       "    </tr>\n",
       "    <tr>\n",
       "      <th>7980</th>\n",
       "      <td>7981</td>\n",
       "      <td>1</td>\n",
       "      <td>2022-03-31</td>\n",
       "      <td>0</td>\n",
       "      <td>0.0</td>\n",
       "      <td>5000</td>\n",
       "      <td>2022-03-01</td>\n",
       "      <td>2021-04-01</td>\n",
       "      <td>12</td>\n",
       "    </tr>\n",
       "    <tr>\n",
       "      <th>13984</th>\n",
       "      <td>13985</td>\n",
       "      <td>1</td>\n",
       "      <td>2022-05-09</td>\n",
       "      <td>0</td>\n",
       "      <td>0.0</td>\n",
       "      <td>6800</td>\n",
       "      <td>2022-05-01</td>\n",
       "      <td>2021-04-01</td>\n",
       "      <td>14</td>\n",
       "    </tr>\n",
       "    <tr>\n",
       "      <th>1</th>\n",
       "      <td>2</td>\n",
       "      <td>2</td>\n",
       "      <td>2021-05-09</td>\n",
       "      <td>0</td>\n",
       "      <td>0.0</td>\n",
       "      <td>20000</td>\n",
       "      <td>2021-05-01</td>\n",
       "      <td>2021-05-01</td>\n",
       "      <td>1</td>\n",
       "    </tr>\n",
       "    <tr>\n",
       "      <th>17778</th>\n",
       "      <td>17779</td>\n",
       "      <td>2</td>\n",
       "      <td>2022-06-04</td>\n",
       "      <td>0</td>\n",
       "      <td>0.0</td>\n",
       "      <td>41000</td>\n",
       "      <td>2022-06-01</td>\n",
       "      <td>2021-05-01</td>\n",
       "      <td>14</td>\n",
       "    </tr>\n",
       "    <tr>\n",
       "      <th>2</th>\n",
       "      <td>3</td>\n",
       "      <td>3</td>\n",
       "      <td>2021-05-09</td>\n",
       "      <td>10000</td>\n",
       "      <td>1.0</td>\n",
       "      <td>14000</td>\n",
       "      <td>2021-05-01</td>\n",
       "      <td>2021-05-01</td>\n",
       "      <td>1</td>\n",
       "    </tr>\n",
       "    <tr>\n",
       "      <th>7712</th>\n",
       "      <td>7713</td>\n",
       "      <td>3</td>\n",
       "      <td>2022-03-28</td>\n",
       "      <td>0</td>\n",
       "      <td>0.0</td>\n",
       "      <td>18000</td>\n",
       "      <td>2022-03-01</td>\n",
       "      <td>2021-05-01</td>\n",
       "      <td>11</td>\n",
       "    </tr>\n",
       "    <tr>\n",
       "      <th>26085</th>\n",
       "      <td>26086</td>\n",
       "      <td>3</td>\n",
       "      <td>2022-07-17</td>\n",
       "      <td>0</td>\n",
       "      <td>0.0</td>\n",
       "      <td>18000</td>\n",
       "      <td>2022-07-01</td>\n",
       "      <td>2021-05-01</td>\n",
       "      <td>15</td>\n",
       "    </tr>\n",
       "    <tr>\n",
       "      <th>26302</th>\n",
       "      <td>26303</td>\n",
       "      <td>3</td>\n",
       "      <td>2022-07-18</td>\n",
       "      <td>0</td>\n",
       "      <td>0.0</td>\n",
       "      <td>13500</td>\n",
       "      <td>2022-07-01</td>\n",
       "      <td>2021-05-01</td>\n",
       "      <td>15</td>\n",
       "    </tr>\n",
       "    <tr>\n",
       "      <th>3</th>\n",
       "      <td>4</td>\n",
       "      <td>4</td>\n",
       "      <td>2021-11-10</td>\n",
       "      <td>0</td>\n",
       "      <td>0.0</td>\n",
       "      <td>15000</td>\n",
       "      <td>2021-11-01</td>\n",
       "      <td>2021-11-01</td>\n",
       "      <td>1</td>\n",
       "    </tr>\n",
       "    <tr>\n",
       "      <th>6199</th>\n",
       "      <td>6200</td>\n",
       "      <td>4</td>\n",
       "      <td>2022-03-12</td>\n",
       "      <td>0</td>\n",
       "      <td>0.0</td>\n",
       "      <td>27000</td>\n",
       "      <td>2022-03-01</td>\n",
       "      <td>2021-11-01</td>\n",
       "      <td>5</td>\n",
       "    </tr>\n",
       "    <tr>\n",
       "      <th>9115</th>\n",
       "      <td>9116</td>\n",
       "      <td>4</td>\n",
       "      <td>2022-04-09</td>\n",
       "      <td>0</td>\n",
       "      <td>0.0</td>\n",
       "      <td>27600</td>\n",
       "      <td>2022-04-01</td>\n",
       "      <td>2021-11-01</td>\n",
       "      <td>6</td>\n",
       "    </tr>\n",
       "    <tr>\n",
       "      <th>4</th>\n",
       "      <td>5</td>\n",
       "      <td>5</td>\n",
       "      <td>2021-11-10</td>\n",
       "      <td>10000</td>\n",
       "      <td>1.0</td>\n",
       "      <td>16000</td>\n",
       "      <td>2021-11-01</td>\n",
       "      <td>2021-11-01</td>\n",
       "      <td>1</td>\n",
       "    </tr>\n",
       "    <tr>\n",
       "      <th>973</th>\n",
       "      <td>974</td>\n",
       "      <td>5</td>\n",
       "      <td>2022-01-18</td>\n",
       "      <td>8000</td>\n",
       "      <td>1.0</td>\n",
       "      <td>15500</td>\n",
       "      <td>2022-01-01</td>\n",
       "      <td>2021-11-01</td>\n",
       "      <td>3</td>\n",
       "    </tr>\n",
       "    <tr>\n",
       "      <th>5</th>\n",
       "      <td>6</td>\n",
       "      <td>6</td>\n",
       "      <td>2022-01-01</td>\n",
       "      <td>0</td>\n",
       "      <td>0.0</td>\n",
       "      <td>10000</td>\n",
       "      <td>2022-01-01</td>\n",
       "      <td>2022-01-01</td>\n",
       "      <td>1</td>\n",
       "    </tr>\n",
       "    <tr>\n",
       "      <th>212</th>\n",
       "      <td>213</td>\n",
       "      <td>6</td>\n",
       "      <td>2022-01-05</td>\n",
       "      <td>0</td>\n",
       "      <td>0.0</td>\n",
       "      <td>41800</td>\n",
       "      <td>2022-01-01</td>\n",
       "      <td>2022-01-01</td>\n",
       "      <td>1</td>\n",
       "    </tr>\n",
       "    <tr>\n",
       "      <th>534</th>\n",
       "      <td>535</td>\n",
       "      <td>6</td>\n",
       "      <td>2022-01-11</td>\n",
       "      <td>0</td>\n",
       "      <td>0.0</td>\n",
       "      <td>10000</td>\n",
       "      <td>2022-01-01</td>\n",
       "      <td>2022-01-01</td>\n",
       "      <td>1</td>\n",
       "    </tr>\n",
       "    <tr>\n",
       "      <th>739</th>\n",
       "      <td>740</td>\n",
       "      <td>6</td>\n",
       "      <td>2022-01-14</td>\n",
       "      <td>0</td>\n",
       "      <td>0.0</td>\n",
       "      <td>7000</td>\n",
       "      <td>2022-01-01</td>\n",
       "      <td>2022-01-01</td>\n",
       "      <td>1</td>\n",
       "    </tr>\n",
       "    <tr>\n",
       "      <th>4874</th>\n",
       "      <td>4875</td>\n",
       "      <td>6</td>\n",
       "      <td>2022-02-28</td>\n",
       "      <td>0</td>\n",
       "      <td>0.0</td>\n",
       "      <td>7125</td>\n",
       "      <td>2022-02-01</td>\n",
       "      <td>2022-01-01</td>\n",
       "      <td>2</td>\n",
       "    </tr>\n",
       "  </tbody>\n",
       "</table>\n",
       "</div>"
      ],
      "text/plain": [
       "       order_id  user_id created_at  discount_cost  discount_type  basket  \\\n",
       "0             1        1 2021-04-12          10000            1.0   12000   \n",
       "7703       7704        1 2022-03-28              0            0.0    6400   \n",
       "7980       7981        1 2022-03-31              0            0.0    5000   \n",
       "13984     13985        1 2022-05-09              0            0.0    6800   \n",
       "1             2        2 2021-05-09              0            0.0   20000   \n",
       "17778     17779        2 2022-06-04              0            0.0   41000   \n",
       "2             3        3 2021-05-09          10000            1.0   14000   \n",
       "7712       7713        3 2022-03-28              0            0.0   18000   \n",
       "26085     26086        3 2022-07-17              0            0.0   18000   \n",
       "26302     26303        3 2022-07-18              0            0.0   13500   \n",
       "3             4        4 2021-11-10              0            0.0   15000   \n",
       "6199       6200        4 2022-03-12              0            0.0   27000   \n",
       "9115       9116        4 2022-04-09              0            0.0   27600   \n",
       "4             5        5 2021-11-10          10000            1.0   16000   \n",
       "973         974        5 2022-01-18           8000            1.0   15500   \n",
       "5             6        6 2022-01-01              0            0.0   10000   \n",
       "212         213        6 2022-01-05              0            0.0   41800   \n",
       "534         535        6 2022-01-11              0            0.0   10000   \n",
       "739         740        6 2022-01-14              0            0.0    7000   \n",
       "4874       4875        6 2022-02-28              0            0.0    7125   \n",
       "\n",
       "      purchase_month first_purchase  cohort_period  \n",
       "0         2021-04-01     2021-04-01              1  \n",
       "7703      2022-03-01     2021-04-01             12  \n",
       "7980      2022-03-01     2021-04-01             12  \n",
       "13984     2022-05-01     2021-04-01             14  \n",
       "1         2021-05-01     2021-05-01              1  \n",
       "17778     2022-06-01     2021-05-01             14  \n",
       "2         2021-05-01     2021-05-01              1  \n",
       "7712      2022-03-01     2021-05-01             11  \n",
       "26085     2022-07-01     2021-05-01             15  \n",
       "26302     2022-07-01     2021-05-01             15  \n",
       "3         2021-11-01     2021-11-01              1  \n",
       "6199      2022-03-01     2021-11-01              5  \n",
       "9115      2022-04-01     2021-11-01              6  \n",
       "4         2021-11-01     2021-11-01              1  \n",
       "973       2022-01-01     2021-11-01              3  \n",
       "5         2022-01-01     2022-01-01              1  \n",
       "212       2022-01-01     2022-01-01              1  \n",
       "534       2022-01-01     2022-01-01              1  \n",
       "739       2022-01-01     2022-01-01              1  \n",
       "4874      2022-02-01     2022-01-01              2  "
      ]
     },
     "execution_count": 49,
     "metadata": {},
     "output_type": "execute_result"
    }
   ],
   "source": [
    "multi_data.head(20)"
   ]
  },
  {
   "cell_type": "code",
   "execution_count": 50,
   "id": "78c0eba5",
   "metadata": {
    "execution": {
     "iopub.execute_input": "2022-08-21T16:16:09.443279Z",
     "iopub.status.busy": "2022-08-21T16:16:09.442443Z",
     "iopub.status.idle": "2022-08-21T16:16:12.918459Z",
     "shell.execute_reply": "2022-08-21T16:16:12.917746Z"
    },
    "papermill": {
     "duration": 3.499413,
     "end_time": "2022-08-21T16:16:12.920727",
     "exception": false,
     "start_time": "2022-08-21T16:16:09.421314",
     "status": "completed"
    },
    "tags": []
   },
   "outputs": [],
   "source": [
    "multi_data_shift=multi_data.groupby('user_id').apply(lambda multi_data:(multi_data.created_at-multi_data.created_at.shift(1)).dt.days).reset_index() #calculating intervals between purchases for each group (each user)"
   ]
  },
  {
   "cell_type": "code",
   "execution_count": 51,
   "id": "f7e271c0",
   "metadata": {
    "execution": {
     "iopub.execute_input": "2022-08-21T16:16:12.961441Z",
     "iopub.status.busy": "2022-08-21T16:16:12.960867Z",
     "iopub.status.idle": "2022-08-21T16:16:12.972235Z",
     "shell.execute_reply": "2022-08-21T16:16:12.971192Z"
    },
    "papermill": {
     "duration": 0.033325,
     "end_time": "2022-08-21T16:16:12.974059",
     "exception": false,
     "start_time": "2022-08-21T16:16:12.940734",
     "status": "completed"
    },
    "tags": []
   },
   "outputs": [
    {
     "data": {
      "text/html": [
       "<div>\n",
       "<style scoped>\n",
       "    .dataframe tbody tr th:only-of-type {\n",
       "        vertical-align: middle;\n",
       "    }\n",
       "\n",
       "    .dataframe tbody tr th {\n",
       "        vertical-align: top;\n",
       "    }\n",
       "\n",
       "    .dataframe thead th {\n",
       "        text-align: right;\n",
       "    }\n",
       "</style>\n",
       "<table border=\"1\" class=\"dataframe\">\n",
       "  <thead>\n",
       "    <tr style=\"text-align: right;\">\n",
       "      <th></th>\n",
       "      <th>user_id</th>\n",
       "      <th>level_1</th>\n",
       "      <th>created_at</th>\n",
       "    </tr>\n",
       "  </thead>\n",
       "  <tbody>\n",
       "    <tr>\n",
       "      <th>0</th>\n",
       "      <td>1</td>\n",
       "      <td>0</td>\n",
       "      <td>NaN</td>\n",
       "    </tr>\n",
       "    <tr>\n",
       "      <th>1</th>\n",
       "      <td>1</td>\n",
       "      <td>7703</td>\n",
       "      <td>350.0</td>\n",
       "    </tr>\n",
       "    <tr>\n",
       "      <th>2</th>\n",
       "      <td>1</td>\n",
       "      <td>7980</td>\n",
       "      <td>3.0</td>\n",
       "    </tr>\n",
       "    <tr>\n",
       "      <th>3</th>\n",
       "      <td>1</td>\n",
       "      <td>13984</td>\n",
       "      <td>39.0</td>\n",
       "    </tr>\n",
       "    <tr>\n",
       "      <th>4</th>\n",
       "      <td>2</td>\n",
       "      <td>1</td>\n",
       "      <td>NaN</td>\n",
       "    </tr>\n",
       "    <tr>\n",
       "      <th>...</th>\n",
       "      <td>...</td>\n",
       "      <td>...</td>\n",
       "      <td>...</td>\n",
       "    </tr>\n",
       "    <tr>\n",
       "      <th>23511</th>\n",
       "      <td>9915</td>\n",
       "      <td>28684</td>\n",
       "      <td>NaN</td>\n",
       "    </tr>\n",
       "    <tr>\n",
       "      <th>23512</th>\n",
       "      <td>9915</td>\n",
       "      <td>28842</td>\n",
       "      <td>0.0</td>\n",
       "    </tr>\n",
       "    <tr>\n",
       "      <th>23513</th>\n",
       "      <td>9915</td>\n",
       "      <td>28894</td>\n",
       "      <td>1.0</td>\n",
       "    </tr>\n",
       "    <tr>\n",
       "      <th>23514</th>\n",
       "      <td>9940</td>\n",
       "      <td>28831</td>\n",
       "      <td>NaN</td>\n",
       "    </tr>\n",
       "    <tr>\n",
       "      <th>23515</th>\n",
       "      <td>9940</td>\n",
       "      <td>28841</td>\n",
       "      <td>0.0</td>\n",
       "    </tr>\n",
       "  </tbody>\n",
       "</table>\n",
       "<p>23516 rows × 3 columns</p>\n",
       "</div>"
      ],
      "text/plain": [
       "       user_id  level_1  created_at\n",
       "0            1        0         NaN\n",
       "1            1     7703       350.0\n",
       "2            1     7980         3.0\n",
       "3            1    13984        39.0\n",
       "4            2        1         NaN\n",
       "...        ...      ...         ...\n",
       "23511     9915    28684         NaN\n",
       "23512     9915    28842         0.0\n",
       "23513     9915    28894         1.0\n",
       "23514     9940    28831         NaN\n",
       "23515     9940    28841         0.0\n",
       "\n",
       "[23516 rows x 3 columns]"
      ]
     },
     "execution_count": 51,
     "metadata": {},
     "output_type": "execute_result"
    }
   ],
   "source": [
    "multi_data_shift"
   ]
  },
  {
   "cell_type": "code",
   "execution_count": 52,
   "id": "088a1e3c",
   "metadata": {
    "execution": {
     "iopub.execute_input": "2022-08-21T16:16:13.013589Z",
     "iopub.status.busy": "2022-08-21T16:16:13.013048Z",
     "iopub.status.idle": "2022-08-21T16:16:13.018370Z",
     "shell.execute_reply": "2022-08-21T16:16:13.017631Z"
    },
    "papermill": {
     "duration": 0.026998,
     "end_time": "2022-08-21T16:16:13.020203",
     "exception": false,
     "start_time": "2022-08-21T16:16:12.993205",
     "status": "completed"
    },
    "tags": []
   },
   "outputs": [],
   "source": [
    "multi_data_shift=multi_data_shift.rename(columns={'created_at':'interval'})"
   ]
  },
  {
   "cell_type": "code",
   "execution_count": 53,
   "id": "d1ef6ef6",
   "metadata": {
    "execution": {
     "iopub.execute_input": "2022-08-21T16:16:13.059245Z",
     "iopub.status.busy": "2022-08-21T16:16:13.058974Z",
     "iopub.status.idle": "2022-08-21T16:16:13.063231Z",
     "shell.execute_reply": "2022-08-21T16:16:13.062170Z"
    },
    "papermill": {
     "duration": 0.025741,
     "end_time": "2022-08-21T16:16:13.065091",
     "exception": false,
     "start_time": "2022-08-21T16:16:13.039350",
     "status": "completed"
    },
    "tags": []
   },
   "outputs": [],
   "source": [
    "multi_data_shift.index=multi_data_shift.level_1"
   ]
  },
  {
   "cell_type": "code",
   "execution_count": 54,
   "id": "4c174171",
   "metadata": {
    "execution": {
     "iopub.execute_input": "2022-08-21T16:16:13.105580Z",
     "iopub.status.busy": "2022-08-21T16:16:13.105008Z",
     "iopub.status.idle": "2022-08-21T16:16:13.110446Z",
     "shell.execute_reply": "2022-08-21T16:16:13.109737Z"
    },
    "papermill": {
     "duration": 0.027894,
     "end_time": "2022-08-21T16:16:13.112436",
     "exception": false,
     "start_time": "2022-08-21T16:16:13.084542",
     "status": "completed"
    },
    "tags": []
   },
   "outputs": [],
   "source": [
    "multi_data_shift.drop(columns='level_1',inplace=True)"
   ]
  },
  {
   "cell_type": "code",
   "execution_count": 55,
   "id": "576fabfd",
   "metadata": {
    "execution": {
     "iopub.execute_input": "2022-08-21T16:16:13.152659Z",
     "iopub.status.busy": "2022-08-21T16:16:13.152079Z",
     "iopub.status.idle": "2022-08-21T16:16:13.163422Z",
     "shell.execute_reply": "2022-08-21T16:16:13.162460Z"
    },
    "papermill": {
     "duration": 0.033054,
     "end_time": "2022-08-21T16:16:13.165214",
     "exception": false,
     "start_time": "2022-08-21T16:16:13.132160",
     "status": "completed"
    },
    "tags": []
   },
   "outputs": [
    {
     "data": {
      "text/html": [
       "<div>\n",
       "<style scoped>\n",
       "    .dataframe tbody tr th:only-of-type {\n",
       "        vertical-align: middle;\n",
       "    }\n",
       "\n",
       "    .dataframe tbody tr th {\n",
       "        vertical-align: top;\n",
       "    }\n",
       "\n",
       "    .dataframe thead th {\n",
       "        text-align: right;\n",
       "    }\n",
       "</style>\n",
       "<table border=\"1\" class=\"dataframe\">\n",
       "  <thead>\n",
       "    <tr style=\"text-align: right;\">\n",
       "      <th></th>\n",
       "      <th>user_id</th>\n",
       "      <th>interval</th>\n",
       "    </tr>\n",
       "    <tr>\n",
       "      <th>level_1</th>\n",
       "      <th></th>\n",
       "      <th></th>\n",
       "    </tr>\n",
       "  </thead>\n",
       "  <tbody>\n",
       "    <tr>\n",
       "      <th>0</th>\n",
       "      <td>1</td>\n",
       "      <td>NaN</td>\n",
       "    </tr>\n",
       "    <tr>\n",
       "      <th>7703</th>\n",
       "      <td>1</td>\n",
       "      <td>350.0</td>\n",
       "    </tr>\n",
       "    <tr>\n",
       "      <th>7980</th>\n",
       "      <td>1</td>\n",
       "      <td>3.0</td>\n",
       "    </tr>\n",
       "    <tr>\n",
       "      <th>13984</th>\n",
       "      <td>1</td>\n",
       "      <td>39.0</td>\n",
       "    </tr>\n",
       "    <tr>\n",
       "      <th>1</th>\n",
       "      <td>2</td>\n",
       "      <td>NaN</td>\n",
       "    </tr>\n",
       "    <tr>\n",
       "      <th>...</th>\n",
       "      <td>...</td>\n",
       "      <td>...</td>\n",
       "    </tr>\n",
       "    <tr>\n",
       "      <th>28684</th>\n",
       "      <td>9915</td>\n",
       "      <td>NaN</td>\n",
       "    </tr>\n",
       "    <tr>\n",
       "      <th>28842</th>\n",
       "      <td>9915</td>\n",
       "      <td>0.0</td>\n",
       "    </tr>\n",
       "    <tr>\n",
       "      <th>28894</th>\n",
       "      <td>9915</td>\n",
       "      <td>1.0</td>\n",
       "    </tr>\n",
       "    <tr>\n",
       "      <th>28831</th>\n",
       "      <td>9940</td>\n",
       "      <td>NaN</td>\n",
       "    </tr>\n",
       "    <tr>\n",
       "      <th>28841</th>\n",
       "      <td>9940</td>\n",
       "      <td>0.0</td>\n",
       "    </tr>\n",
       "  </tbody>\n",
       "</table>\n",
       "<p>23516 rows × 2 columns</p>\n",
       "</div>"
      ],
      "text/plain": [
       "         user_id  interval\n",
       "level_1                   \n",
       "0              1       NaN\n",
       "7703           1     350.0\n",
       "7980           1       3.0\n",
       "13984          1      39.0\n",
       "1              2       NaN\n",
       "...          ...       ...\n",
       "28684       9915       NaN\n",
       "28842       9915       0.0\n",
       "28894       9915       1.0\n",
       "28831       9940       NaN\n",
       "28841       9940       0.0\n",
       "\n",
       "[23516 rows x 2 columns]"
      ]
     },
     "execution_count": 55,
     "metadata": {},
     "output_type": "execute_result"
    }
   ],
   "source": [
    "multi_data_shift #after some adjusting, we have the intervals and indexes ready to join the main dataset for multiple purchase users"
   ]
  },
  {
   "cell_type": "code",
   "execution_count": 56,
   "id": "3508b010",
   "metadata": {
    "execution": {
     "iopub.execute_input": "2022-08-21T16:16:13.207759Z",
     "iopub.status.busy": "2022-08-21T16:16:13.206808Z",
     "iopub.status.idle": "2022-08-21T16:16:13.219091Z",
     "shell.execute_reply": "2022-08-21T16:16:13.218347Z"
    },
    "papermill": {
     "duration": 0.035616,
     "end_time": "2022-08-21T16:16:13.220986",
     "exception": false,
     "start_time": "2022-08-21T16:16:13.185370",
     "status": "completed"
    },
    "tags": []
   },
   "outputs": [],
   "source": [
    "multi_data=multi_data.join(multi_data_shift.interval)"
   ]
  },
  {
   "cell_type": "code",
   "execution_count": 57,
   "id": "dcc29882",
   "metadata": {
    "execution": {
     "iopub.execute_input": "2022-08-21T16:16:13.263144Z",
     "iopub.status.busy": "2022-08-21T16:16:13.262432Z",
     "iopub.status.idle": "2022-08-21T16:16:13.278087Z",
     "shell.execute_reply": "2022-08-21T16:16:13.277096Z"
    },
    "papermill": {
     "duration": 0.039163,
     "end_time": "2022-08-21T16:16:13.280214",
     "exception": false,
     "start_time": "2022-08-21T16:16:13.241051",
     "status": "completed"
    },
    "tags": []
   },
   "outputs": [
    {
     "data": {
      "text/html": [
       "<div>\n",
       "<style scoped>\n",
       "    .dataframe tbody tr th:only-of-type {\n",
       "        vertical-align: middle;\n",
       "    }\n",
       "\n",
       "    .dataframe tbody tr th {\n",
       "        vertical-align: top;\n",
       "    }\n",
       "\n",
       "    .dataframe thead th {\n",
       "        text-align: right;\n",
       "    }\n",
       "</style>\n",
       "<table border=\"1\" class=\"dataframe\">\n",
       "  <thead>\n",
       "    <tr style=\"text-align: right;\">\n",
       "      <th></th>\n",
       "      <th>order_id</th>\n",
       "      <th>user_id</th>\n",
       "      <th>created_at</th>\n",
       "      <th>discount_cost</th>\n",
       "      <th>discount_type</th>\n",
       "      <th>basket</th>\n",
       "      <th>purchase_month</th>\n",
       "      <th>first_purchase</th>\n",
       "      <th>cohort_period</th>\n",
       "      <th>interval</th>\n",
       "    </tr>\n",
       "  </thead>\n",
       "  <tbody>\n",
       "    <tr>\n",
       "      <th>0</th>\n",
       "      <td>1</td>\n",
       "      <td>1</td>\n",
       "      <td>2021-04-12</td>\n",
       "      <td>10000</td>\n",
       "      <td>1.0</td>\n",
       "      <td>12000</td>\n",
       "      <td>2021-04-01</td>\n",
       "      <td>2021-04-01</td>\n",
       "      <td>1</td>\n",
       "      <td>NaN</td>\n",
       "    </tr>\n",
       "    <tr>\n",
       "      <th>7703</th>\n",
       "      <td>7704</td>\n",
       "      <td>1</td>\n",
       "      <td>2022-03-28</td>\n",
       "      <td>0</td>\n",
       "      <td>0.0</td>\n",
       "      <td>6400</td>\n",
       "      <td>2022-03-01</td>\n",
       "      <td>2021-04-01</td>\n",
       "      <td>12</td>\n",
       "      <td>350.0</td>\n",
       "    </tr>\n",
       "    <tr>\n",
       "      <th>7980</th>\n",
       "      <td>7981</td>\n",
       "      <td>1</td>\n",
       "      <td>2022-03-31</td>\n",
       "      <td>0</td>\n",
       "      <td>0.0</td>\n",
       "      <td>5000</td>\n",
       "      <td>2022-03-01</td>\n",
       "      <td>2021-04-01</td>\n",
       "      <td>12</td>\n",
       "      <td>3.0</td>\n",
       "    </tr>\n",
       "    <tr>\n",
       "      <th>13984</th>\n",
       "      <td>13985</td>\n",
       "      <td>1</td>\n",
       "      <td>2022-05-09</td>\n",
       "      <td>0</td>\n",
       "      <td>0.0</td>\n",
       "      <td>6800</td>\n",
       "      <td>2022-05-01</td>\n",
       "      <td>2021-04-01</td>\n",
       "      <td>14</td>\n",
       "      <td>39.0</td>\n",
       "    </tr>\n",
       "    <tr>\n",
       "      <th>1</th>\n",
       "      <td>2</td>\n",
       "      <td>2</td>\n",
       "      <td>2021-05-09</td>\n",
       "      <td>0</td>\n",
       "      <td>0.0</td>\n",
       "      <td>20000</td>\n",
       "      <td>2021-05-01</td>\n",
       "      <td>2021-05-01</td>\n",
       "      <td>1</td>\n",
       "      <td>NaN</td>\n",
       "    </tr>\n",
       "    <tr>\n",
       "      <th>17778</th>\n",
       "      <td>17779</td>\n",
       "      <td>2</td>\n",
       "      <td>2022-06-04</td>\n",
       "      <td>0</td>\n",
       "      <td>0.0</td>\n",
       "      <td>41000</td>\n",
       "      <td>2022-06-01</td>\n",
       "      <td>2021-05-01</td>\n",
       "      <td>14</td>\n",
       "      <td>391.0</td>\n",
       "    </tr>\n",
       "    <tr>\n",
       "      <th>2</th>\n",
       "      <td>3</td>\n",
       "      <td>3</td>\n",
       "      <td>2021-05-09</td>\n",
       "      <td>10000</td>\n",
       "      <td>1.0</td>\n",
       "      <td>14000</td>\n",
       "      <td>2021-05-01</td>\n",
       "      <td>2021-05-01</td>\n",
       "      <td>1</td>\n",
       "      <td>NaN</td>\n",
       "    </tr>\n",
       "    <tr>\n",
       "      <th>7712</th>\n",
       "      <td>7713</td>\n",
       "      <td>3</td>\n",
       "      <td>2022-03-28</td>\n",
       "      <td>0</td>\n",
       "      <td>0.0</td>\n",
       "      <td>18000</td>\n",
       "      <td>2022-03-01</td>\n",
       "      <td>2021-05-01</td>\n",
       "      <td>11</td>\n",
       "      <td>323.0</td>\n",
       "    </tr>\n",
       "    <tr>\n",
       "      <th>26085</th>\n",
       "      <td>26086</td>\n",
       "      <td>3</td>\n",
       "      <td>2022-07-17</td>\n",
       "      <td>0</td>\n",
       "      <td>0.0</td>\n",
       "      <td>18000</td>\n",
       "      <td>2022-07-01</td>\n",
       "      <td>2021-05-01</td>\n",
       "      <td>15</td>\n",
       "      <td>111.0</td>\n",
       "    </tr>\n",
       "    <tr>\n",
       "      <th>26302</th>\n",
       "      <td>26303</td>\n",
       "      <td>3</td>\n",
       "      <td>2022-07-18</td>\n",
       "      <td>0</td>\n",
       "      <td>0.0</td>\n",
       "      <td>13500</td>\n",
       "      <td>2022-07-01</td>\n",
       "      <td>2021-05-01</td>\n",
       "      <td>15</td>\n",
       "      <td>1.0</td>\n",
       "    </tr>\n",
       "  </tbody>\n",
       "</table>\n",
       "</div>"
      ],
      "text/plain": [
       "       order_id  user_id created_at  discount_cost  discount_type  basket  \\\n",
       "0             1        1 2021-04-12          10000            1.0   12000   \n",
       "7703       7704        1 2022-03-28              0            0.0    6400   \n",
       "7980       7981        1 2022-03-31              0            0.0    5000   \n",
       "13984     13985        1 2022-05-09              0            0.0    6800   \n",
       "1             2        2 2021-05-09              0            0.0   20000   \n",
       "17778     17779        2 2022-06-04              0            0.0   41000   \n",
       "2             3        3 2021-05-09          10000            1.0   14000   \n",
       "7712       7713        3 2022-03-28              0            0.0   18000   \n",
       "26085     26086        3 2022-07-17              0            0.0   18000   \n",
       "26302     26303        3 2022-07-18              0            0.0   13500   \n",
       "\n",
       "      purchase_month first_purchase  cohort_period  interval  \n",
       "0         2021-04-01     2021-04-01              1       NaN  \n",
       "7703      2022-03-01     2021-04-01             12     350.0  \n",
       "7980      2022-03-01     2021-04-01             12       3.0  \n",
       "13984     2022-05-01     2021-04-01             14      39.0  \n",
       "1         2021-05-01     2021-05-01              1       NaN  \n",
       "17778     2022-06-01     2021-05-01             14     391.0  \n",
       "2         2021-05-01     2021-05-01              1       NaN  \n",
       "7712      2022-03-01     2021-05-01             11     323.0  \n",
       "26085     2022-07-01     2021-05-01             15     111.0  \n",
       "26302     2022-07-01     2021-05-01             15       1.0  "
      ]
     },
     "execution_count": 57,
     "metadata": {},
     "output_type": "execute_result"
    }
   ],
   "source": [
    "multi_data.head(10)"
   ]
  },
  {
   "cell_type": "code",
   "execution_count": 58,
   "id": "4c9f6182",
   "metadata": {
    "execution": {
     "iopub.execute_input": "2022-08-21T16:16:13.323420Z",
     "iopub.status.busy": "2022-08-21T16:16:13.322893Z",
     "iopub.status.idle": "2022-08-21T16:16:13.399177Z",
     "shell.execute_reply": "2022-08-21T16:16:13.398289Z"
    },
    "papermill": {
     "duration": 0.100375,
     "end_time": "2022-08-21T16:16:13.401452",
     "exception": false,
     "start_time": "2022-08-21T16:16:13.301077",
     "status": "completed"
    },
    "tags": []
   },
   "outputs": [],
   "source": [
    "intrvl=pd.DataFrame(multi_data.groupby('user_id')['interval'].apply(list)) #now we create a list for each user which has interval values in it\n",
    "#this also resets the index"
   ]
  },
  {
   "cell_type": "code",
   "execution_count": 59,
   "id": "c3a8ae78",
   "metadata": {
    "execution": {
     "iopub.execute_input": "2022-08-21T16:16:13.442368Z",
     "iopub.status.busy": "2022-08-21T16:16:13.441791Z",
     "iopub.status.idle": "2022-08-21T16:16:13.491355Z",
     "shell.execute_reply": "2022-08-21T16:16:13.490627Z"
    },
    "papermill": {
     "duration": 0.072431,
     "end_time": "2022-08-21T16:16:13.493495",
     "exception": false,
     "start_time": "2022-08-21T16:16:13.421064",
     "status": "completed"
    },
    "tags": []
   },
   "outputs": [],
   "source": [
    "intrvl=pd.DataFrame(intrvl.interval.values.tolist()).add_prefix('inerval_') # expanding the lists so that each interval acts as a feature"
   ]
  },
  {
   "cell_type": "code",
   "execution_count": 60,
   "id": "40acfdd6",
   "metadata": {
    "execution": {
     "iopub.execute_input": "2022-08-21T16:16:13.535222Z",
     "iopub.status.busy": "2022-08-21T16:16:13.534651Z",
     "iopub.status.idle": "2022-08-21T16:16:13.561122Z",
     "shell.execute_reply": "2022-08-21T16:16:13.560089Z"
    },
    "papermill": {
     "duration": 0.049495,
     "end_time": "2022-08-21T16:16:13.563086",
     "exception": false,
     "start_time": "2022-08-21T16:16:13.513591",
     "status": "completed"
    },
    "tags": []
   },
   "outputs": [
    {
     "data": {
      "text/html": [
       "<div>\n",
       "<style scoped>\n",
       "    .dataframe tbody tr th:only-of-type {\n",
       "        vertical-align: middle;\n",
       "    }\n",
       "\n",
       "    .dataframe tbody tr th {\n",
       "        vertical-align: top;\n",
       "    }\n",
       "\n",
       "    .dataframe thead th {\n",
       "        text-align: right;\n",
       "    }\n",
       "</style>\n",
       "<table border=\"1\" class=\"dataframe\">\n",
       "  <thead>\n",
       "    <tr style=\"text-align: right;\">\n",
       "      <th></th>\n",
       "      <th>inerval_0</th>\n",
       "      <th>inerval_1</th>\n",
       "      <th>inerval_2</th>\n",
       "      <th>inerval_3</th>\n",
       "      <th>inerval_4</th>\n",
       "      <th>inerval_5</th>\n",
       "      <th>inerval_6</th>\n",
       "      <th>inerval_7</th>\n",
       "      <th>inerval_8</th>\n",
       "      <th>inerval_9</th>\n",
       "      <th>...</th>\n",
       "      <th>inerval_107</th>\n",
       "      <th>inerval_108</th>\n",
       "      <th>inerval_109</th>\n",
       "      <th>inerval_110</th>\n",
       "      <th>inerval_111</th>\n",
       "      <th>inerval_112</th>\n",
       "      <th>inerval_113</th>\n",
       "      <th>inerval_114</th>\n",
       "      <th>inerval_115</th>\n",
       "      <th>inerval_116</th>\n",
       "    </tr>\n",
       "  </thead>\n",
       "  <tbody>\n",
       "    <tr>\n",
       "      <th>0</th>\n",
       "      <td>NaN</td>\n",
       "      <td>350.0</td>\n",
       "      <td>3.0</td>\n",
       "      <td>39.0</td>\n",
       "      <td>NaN</td>\n",
       "      <td>NaN</td>\n",
       "      <td>NaN</td>\n",
       "      <td>NaN</td>\n",
       "      <td>NaN</td>\n",
       "      <td>NaN</td>\n",
       "      <td>...</td>\n",
       "      <td>NaN</td>\n",
       "      <td>NaN</td>\n",
       "      <td>NaN</td>\n",
       "      <td>NaN</td>\n",
       "      <td>NaN</td>\n",
       "      <td>NaN</td>\n",
       "      <td>NaN</td>\n",
       "      <td>NaN</td>\n",
       "      <td>NaN</td>\n",
       "      <td>NaN</td>\n",
       "    </tr>\n",
       "    <tr>\n",
       "      <th>1</th>\n",
       "      <td>NaN</td>\n",
       "      <td>391.0</td>\n",
       "      <td>NaN</td>\n",
       "      <td>NaN</td>\n",
       "      <td>NaN</td>\n",
       "      <td>NaN</td>\n",
       "      <td>NaN</td>\n",
       "      <td>NaN</td>\n",
       "      <td>NaN</td>\n",
       "      <td>NaN</td>\n",
       "      <td>...</td>\n",
       "      <td>NaN</td>\n",
       "      <td>NaN</td>\n",
       "      <td>NaN</td>\n",
       "      <td>NaN</td>\n",
       "      <td>NaN</td>\n",
       "      <td>NaN</td>\n",
       "      <td>NaN</td>\n",
       "      <td>NaN</td>\n",
       "      <td>NaN</td>\n",
       "      <td>NaN</td>\n",
       "    </tr>\n",
       "    <tr>\n",
       "      <th>2</th>\n",
       "      <td>NaN</td>\n",
       "      <td>323.0</td>\n",
       "      <td>111.0</td>\n",
       "      <td>1.0</td>\n",
       "      <td>NaN</td>\n",
       "      <td>NaN</td>\n",
       "      <td>NaN</td>\n",
       "      <td>NaN</td>\n",
       "      <td>NaN</td>\n",
       "      <td>NaN</td>\n",
       "      <td>...</td>\n",
       "      <td>NaN</td>\n",
       "      <td>NaN</td>\n",
       "      <td>NaN</td>\n",
       "      <td>NaN</td>\n",
       "      <td>NaN</td>\n",
       "      <td>NaN</td>\n",
       "      <td>NaN</td>\n",
       "      <td>NaN</td>\n",
       "      <td>NaN</td>\n",
       "      <td>NaN</td>\n",
       "    </tr>\n",
       "    <tr>\n",
       "      <th>3</th>\n",
       "      <td>NaN</td>\n",
       "      <td>122.0</td>\n",
       "      <td>28.0</td>\n",
       "      <td>NaN</td>\n",
       "      <td>NaN</td>\n",
       "      <td>NaN</td>\n",
       "      <td>NaN</td>\n",
       "      <td>NaN</td>\n",
       "      <td>NaN</td>\n",
       "      <td>NaN</td>\n",
       "      <td>...</td>\n",
       "      <td>NaN</td>\n",
       "      <td>NaN</td>\n",
       "      <td>NaN</td>\n",
       "      <td>NaN</td>\n",
       "      <td>NaN</td>\n",
       "      <td>NaN</td>\n",
       "      <td>NaN</td>\n",
       "      <td>NaN</td>\n",
       "      <td>NaN</td>\n",
       "      <td>NaN</td>\n",
       "    </tr>\n",
       "    <tr>\n",
       "      <th>4</th>\n",
       "      <td>NaN</td>\n",
       "      <td>69.0</td>\n",
       "      <td>NaN</td>\n",
       "      <td>NaN</td>\n",
       "      <td>NaN</td>\n",
       "      <td>NaN</td>\n",
       "      <td>NaN</td>\n",
       "      <td>NaN</td>\n",
       "      <td>NaN</td>\n",
       "      <td>NaN</td>\n",
       "      <td>...</td>\n",
       "      <td>NaN</td>\n",
       "      <td>NaN</td>\n",
       "      <td>NaN</td>\n",
       "      <td>NaN</td>\n",
       "      <td>NaN</td>\n",
       "      <td>NaN</td>\n",
       "      <td>NaN</td>\n",
       "      <td>NaN</td>\n",
       "      <td>NaN</td>\n",
       "      <td>NaN</td>\n",
       "    </tr>\n",
       "    <tr>\n",
       "      <th>5</th>\n",
       "      <td>NaN</td>\n",
       "      <td>4.0</td>\n",
       "      <td>6.0</td>\n",
       "      <td>3.0</td>\n",
       "      <td>45.0</td>\n",
       "      <td>47.0</td>\n",
       "      <td>11.0</td>\n",
       "      <td>NaN</td>\n",
       "      <td>NaN</td>\n",
       "      <td>NaN</td>\n",
       "      <td>...</td>\n",
       "      <td>NaN</td>\n",
       "      <td>NaN</td>\n",
       "      <td>NaN</td>\n",
       "      <td>NaN</td>\n",
       "      <td>NaN</td>\n",
       "      <td>NaN</td>\n",
       "      <td>NaN</td>\n",
       "      <td>NaN</td>\n",
       "      <td>NaN</td>\n",
       "      <td>NaN</td>\n",
       "    </tr>\n",
       "    <tr>\n",
       "      <th>6</th>\n",
       "      <td>NaN</td>\n",
       "      <td>53.0</td>\n",
       "      <td>21.0</td>\n",
       "      <td>7.0</td>\n",
       "      <td>13.0</td>\n",
       "      <td>53.0</td>\n",
       "      <td>55.0</td>\n",
       "      <td>6.0</td>\n",
       "      <td>NaN</td>\n",
       "      <td>NaN</td>\n",
       "      <td>...</td>\n",
       "      <td>NaN</td>\n",
       "      <td>NaN</td>\n",
       "      <td>NaN</td>\n",
       "      <td>NaN</td>\n",
       "      <td>NaN</td>\n",
       "      <td>NaN</td>\n",
       "      <td>NaN</td>\n",
       "      <td>NaN</td>\n",
       "      <td>NaN</td>\n",
       "      <td>NaN</td>\n",
       "    </tr>\n",
       "    <tr>\n",
       "      <th>7</th>\n",
       "      <td>NaN</td>\n",
       "      <td>136.0</td>\n",
       "      <td>57.0</td>\n",
       "      <td>NaN</td>\n",
       "      <td>NaN</td>\n",
       "      <td>NaN</td>\n",
       "      <td>NaN</td>\n",
       "      <td>NaN</td>\n",
       "      <td>NaN</td>\n",
       "      <td>NaN</td>\n",
       "      <td>...</td>\n",
       "      <td>NaN</td>\n",
       "      <td>NaN</td>\n",
       "      <td>NaN</td>\n",
       "      <td>NaN</td>\n",
       "      <td>NaN</td>\n",
       "      <td>NaN</td>\n",
       "      <td>NaN</td>\n",
       "      <td>NaN</td>\n",
       "      <td>NaN</td>\n",
       "      <td>NaN</td>\n",
       "    </tr>\n",
       "    <tr>\n",
       "      <th>8</th>\n",
       "      <td>NaN</td>\n",
       "      <td>30.0</td>\n",
       "      <td>1.0</td>\n",
       "      <td>0.0</td>\n",
       "      <td>5.0</td>\n",
       "      <td>1.0</td>\n",
       "      <td>41.0</td>\n",
       "      <td>11.0</td>\n",
       "      <td>10.0</td>\n",
       "      <td>13.0</td>\n",
       "      <td>...</td>\n",
       "      <td>NaN</td>\n",
       "      <td>NaN</td>\n",
       "      <td>NaN</td>\n",
       "      <td>NaN</td>\n",
       "      <td>NaN</td>\n",
       "      <td>NaN</td>\n",
       "      <td>NaN</td>\n",
       "      <td>NaN</td>\n",
       "      <td>NaN</td>\n",
       "      <td>NaN</td>\n",
       "    </tr>\n",
       "    <tr>\n",
       "      <th>9</th>\n",
       "      <td>NaN</td>\n",
       "      <td>13.0</td>\n",
       "      <td>11.0</td>\n",
       "      <td>13.0</td>\n",
       "      <td>3.0</td>\n",
       "      <td>3.0</td>\n",
       "      <td>4.0</td>\n",
       "      <td>2.0</td>\n",
       "      <td>11.0</td>\n",
       "      <td>6.0</td>\n",
       "      <td>...</td>\n",
       "      <td>NaN</td>\n",
       "      <td>NaN</td>\n",
       "      <td>NaN</td>\n",
       "      <td>NaN</td>\n",
       "      <td>NaN</td>\n",
       "      <td>NaN</td>\n",
       "      <td>NaN</td>\n",
       "      <td>NaN</td>\n",
       "      <td>NaN</td>\n",
       "      <td>NaN</td>\n",
       "    </tr>\n",
       "  </tbody>\n",
       "</table>\n",
       "<p>10 rows × 117 columns</p>\n",
       "</div>"
      ],
      "text/plain": [
       "   inerval_0  inerval_1  inerval_2  inerval_3  inerval_4  inerval_5  \\\n",
       "0        NaN      350.0        3.0       39.0        NaN        NaN   \n",
       "1        NaN      391.0        NaN        NaN        NaN        NaN   \n",
       "2        NaN      323.0      111.0        1.0        NaN        NaN   \n",
       "3        NaN      122.0       28.0        NaN        NaN        NaN   \n",
       "4        NaN       69.0        NaN        NaN        NaN        NaN   \n",
       "5        NaN        4.0        6.0        3.0       45.0       47.0   \n",
       "6        NaN       53.0       21.0        7.0       13.0       53.0   \n",
       "7        NaN      136.0       57.0        NaN        NaN        NaN   \n",
       "8        NaN       30.0        1.0        0.0        5.0        1.0   \n",
       "9        NaN       13.0       11.0       13.0        3.0        3.0   \n",
       "\n",
       "   inerval_6  inerval_7  inerval_8  inerval_9  ...  inerval_107  inerval_108  \\\n",
       "0        NaN        NaN        NaN        NaN  ...          NaN          NaN   \n",
       "1        NaN        NaN        NaN        NaN  ...          NaN          NaN   \n",
       "2        NaN        NaN        NaN        NaN  ...          NaN          NaN   \n",
       "3        NaN        NaN        NaN        NaN  ...          NaN          NaN   \n",
       "4        NaN        NaN        NaN        NaN  ...          NaN          NaN   \n",
       "5       11.0        NaN        NaN        NaN  ...          NaN          NaN   \n",
       "6       55.0        6.0        NaN        NaN  ...          NaN          NaN   \n",
       "7        NaN        NaN        NaN        NaN  ...          NaN          NaN   \n",
       "8       41.0       11.0       10.0       13.0  ...          NaN          NaN   \n",
       "9        4.0        2.0       11.0        6.0  ...          NaN          NaN   \n",
       "\n",
       "   inerval_109  inerval_110  inerval_111  inerval_112  inerval_113  \\\n",
       "0          NaN          NaN          NaN          NaN          NaN   \n",
       "1          NaN          NaN          NaN          NaN          NaN   \n",
       "2          NaN          NaN          NaN          NaN          NaN   \n",
       "3          NaN          NaN          NaN          NaN          NaN   \n",
       "4          NaN          NaN          NaN          NaN          NaN   \n",
       "5          NaN          NaN          NaN          NaN          NaN   \n",
       "6          NaN          NaN          NaN          NaN          NaN   \n",
       "7          NaN          NaN          NaN          NaN          NaN   \n",
       "8          NaN          NaN          NaN          NaN          NaN   \n",
       "9          NaN          NaN          NaN          NaN          NaN   \n",
       "\n",
       "   inerval_114  inerval_115  inerval_116  \n",
       "0          NaN          NaN          NaN  \n",
       "1          NaN          NaN          NaN  \n",
       "2          NaN          NaN          NaN  \n",
       "3          NaN          NaN          NaN  \n",
       "4          NaN          NaN          NaN  \n",
       "5          NaN          NaN          NaN  \n",
       "6          NaN          NaN          NaN  \n",
       "7          NaN          NaN          NaN  \n",
       "8          NaN          NaN          NaN  \n",
       "9          NaN          NaN          NaN  \n",
       "\n",
       "[10 rows x 117 columns]"
      ]
     },
     "execution_count": 60,
     "metadata": {},
     "output_type": "execute_result"
    }
   ],
   "source": [
    "intrvl.head(10)"
   ]
  },
  {
   "cell_type": "code",
   "execution_count": 61,
   "id": "94721f8a",
   "metadata": {
    "execution": {
     "iopub.execute_input": "2022-08-21T16:16:13.606259Z",
     "iopub.status.busy": "2022-08-21T16:16:13.605556Z",
     "iopub.status.idle": "2022-08-21T16:16:14.915524Z",
     "shell.execute_reply": "2022-08-21T16:16:14.914464Z"
    },
    "papermill": {
     "duration": 1.333914,
     "end_time": "2022-08-21T16:16:14.917593",
     "exception": false,
     "start_time": "2022-08-21T16:16:13.583679",
     "status": "completed"
    },
    "tags": []
   },
   "outputs": [
    {
     "data": {
      "text/plain": [
       "array([[<AxesSubplot:title={'center':'inerval_1'}>,\n",
       "        <AxesSubplot:title={'center':'inerval_2'}>,\n",
       "        <AxesSubplot:title={'center':'inerval_3'}>],\n",
       "       [<AxesSubplot:title={'center':'inerval_4'}>,\n",
       "        <AxesSubplot:title={'center':'inerval_5'}>,\n",
       "        <AxesSubplot:title={'center':'inerval_6'}>],\n",
       "       [<AxesSubplot:title={'center':'inerval_7'}>,\n",
       "        <AxesSubplot:title={'center':'inerval_8'}>,\n",
       "        <AxesSubplot:title={'center':'inerval_9'}>],\n",
       "       [<AxesSubplot:title={'center':'inerval_10'}>, <AxesSubplot:>,\n",
       "        <AxesSubplot:>]], dtype=object)"
      ]
     },
     "execution_count": 61,
     "metadata": {},
     "output_type": "execute_result"
    },
    {
     "data": {
      "image/png": "[encoded data removed]",
      "text/plain": [
       "<Figure size 720x720 with 12 Axes>"
      ]
     },
     "metadata": {},
     "output_type": "display_data"
    }
   ],
   "source": [
    "intrvl.iloc[:,1:11].hist() #since data is skewed, we'll use median instead of mean to gauge the average intervals between purchases"
   ]
  },
  {
   "cell_type": "code",
   "execution_count": 62,
   "id": "7cc658eb",
   "metadata": {
    "execution": {
     "iopub.execute_input": "2022-08-21T16:16:14.960301Z",
     "iopub.status.busy": "2022-08-21T16:16:14.959972Z",
     "iopub.status.idle": "2022-08-21T16:16:14.966864Z",
     "shell.execute_reply": "2022-08-21T16:16:14.965851Z"
    },
    "papermill": {
     "duration": 0.030696,
     "end_time": "2022-08-21T16:16:14.968977",
     "exception": false,
     "start_time": "2022-08-21T16:16:14.938281",
     "status": "completed"
    },
    "tags": []
   },
   "outputs": [],
   "source": [
    "interval_median=np.nanmedian(intrvl.iloc[:,1:11],axis=0) \n",
    "#to ignore nan values when calculating mean, we use nanmean\n",
    "#since 95% of users have 10 or under number of purchases, we cut the intrvl dataset\n",
    "#the first column is always nan, so we can ignore it"
   ]
  },
  {
   "cell_type": "code",
   "execution_count": 63,
   "id": "410cbb49",
   "metadata": {
    "execution": {
     "iopub.execute_input": "2022-08-21T16:16:15.011275Z",
     "iopub.status.busy": "2022-08-21T16:16:15.010963Z",
     "iopub.status.idle": "2022-08-21T16:16:15.016989Z",
     "shell.execute_reply": "2022-08-21T16:16:15.016085Z"
    },
    "papermill": {
     "duration": 0.029605,
     "end_time": "2022-08-21T16:16:15.018886",
     "exception": false,
     "start_time": "2022-08-21T16:16:14.989281",
     "status": "completed"
    },
    "tags": []
   },
   "outputs": [
    {
     "data": {
      "text/plain": [
       "array([16., 12., 10.,  9.,  8.,  8.,  7.,  7.,  6.,  6.])"
      ]
     },
     "execution_count": 63,
     "metadata": {},
     "output_type": "execute_result"
    }
   ],
   "source": [
    "interval_median"
   ]
  },
  {
   "cell_type": "code",
   "execution_count": 64,
   "id": "a91f73dd",
   "metadata": {
    "execution": {
     "iopub.execute_input": "2022-08-21T16:16:15.060550Z",
     "iopub.status.busy": "2022-08-21T16:16:15.060225Z",
     "iopub.status.idle": "2022-08-21T16:16:15.066476Z",
     "shell.execute_reply": "2022-08-21T16:16:15.065794Z"
    },
    "papermill": {
     "duration": 0.029305,
     "end_time": "2022-08-21T16:16:15.068292",
     "exception": false,
     "start_time": "2022-08-21T16:16:15.038987",
     "status": "completed"
    },
    "tags": []
   },
   "outputs": [
    {
     "data": {
      "text/plain": [
       "Index(['inerval_1', 'inerval_2', 'inerval_3', 'inerval_4', 'inerval_5',\n",
       "       'inerval_6', 'inerval_7', 'inerval_8', 'inerval_9', 'inerval_10'],\n",
       "      dtype='object')"
      ]
     },
     "execution_count": 64,
     "metadata": {},
     "output_type": "execute_result"
    }
   ],
   "source": [
    "intrvl.iloc[:,1:11].columns"
   ]
  },
  {
   "cell_type": "code",
   "execution_count": 65,
   "id": "4b706eb3",
   "metadata": {
    "execution": {
     "iopub.execute_input": "2022-08-21T16:16:15.111145Z",
     "iopub.status.busy": "2022-08-21T16:16:15.110784Z",
     "iopub.status.idle": "2022-08-21T16:16:15.115751Z",
     "shell.execute_reply": "2022-08-21T16:16:15.114848Z"
    },
    "papermill": {
     "duration": 0.028647,
     "end_time": "2022-08-21T16:16:15.117588",
     "exception": false,
     "start_time": "2022-08-21T16:16:15.088941",
     "status": "completed"
    },
    "tags": []
   },
   "outputs": [],
   "source": [
    "intvl_plot=pd.DataFrame(data=interval_median,index=intrvl.iloc[:,1:11].columns,columns=['Median Interval in Days'])"
   ]
  },
  {
   "cell_type": "code",
   "execution_count": 66,
   "id": "fca047a4",
   "metadata": {
    "execution": {
     "iopub.execute_input": "2022-08-21T16:16:15.159731Z",
     "iopub.status.busy": "2022-08-21T16:16:15.159429Z",
     "iopub.status.idle": "2022-08-21T16:16:15.429791Z",
     "shell.execute_reply": "2022-08-21T16:16:15.428897Z"
    },
    "papermill": {
     "duration": 0.293981,
     "end_time": "2022-08-21T16:16:15.431938",
     "exception": false,
     "start_time": "2022-08-21T16:16:15.137957",
     "status": "completed"
    },
    "tags": []
   },
   "outputs": [
    {
     "data": {
      "text/plain": [
       "<AxesSubplot:>"
      ]
     },
     "execution_count": 66,
     "metadata": {},
     "output_type": "execute_result"
    },
    {
     "data": {
      "image/png": "[encoded data removed]",
      "text/plain": [
       "<Figure size 720x720 with 1 Axes>"
      ]
     },
     "metadata": {},
     "output_type": "display_data"
    }
   ],
   "source": [
    "sns.lineplot(data=intvl_plot)"
   ]
  },
  {
   "cell_type": "markdown",
   "id": "57d0bc3c",
   "metadata": {
    "papermill": {
     "duration": 0.021725,
     "end_time": "2022-08-21T16:16:15.475861",
     "exception": false,
     "start_time": "2022-08-21T16:16:15.454136",
     "status": "completed"
    },
    "tags": []
   },
   "source": [
    "the reult above shows that as we go forward in intervals, median of the intervals decrease, so the more times someone buys the sooner they are going to come back and buy something else.\n",
    "\n",
    "**Note that interval unit is day**"
   ]
  }
 ],
 "metadata": {
  "kernelspec": {
   "display_name": "Python 3",
   "language": "python",
   "name": "python3"
  },
  "language_info": {
   "codemirror_mode": {
    "name": "ipython",
    "version": 3
   },
   "file_extension": ".py",
   "mimetype": "text/x-python",
   "name": "python",
   "nbconvert_exporter": "python",
   "pygments_lexer": "ipython3",
   "version": "3.7.12"
  },
  "papermill": {
   "default_parameters": {},
   "duration": 19.837737,
   "end_time": "2022-08-21T16:16:16.119862",
   "environment_variables": {},
   "exception": null,
   "input_path": "__notebook__.ipynb",
   "output_path": "__notebook__.ipynb",
   "parameters": {},
   "start_time": "2022-08-21T16:15:56.282125",
   "version": "2.3.4"
  }
 },
 "nbformat": 4,
 "nbformat_minor": 5
}
