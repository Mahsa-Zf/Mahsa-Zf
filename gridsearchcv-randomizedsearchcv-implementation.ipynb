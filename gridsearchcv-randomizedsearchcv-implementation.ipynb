{
 "cells": [
  {
   "cell_type": "code",
   "execution_count": 1,
   "id": "b13d33db",
   "metadata": {
    "_cell_guid": "b1076dfc-b9ad-4769-8c92-a6c4dae69d19",
    "_uuid": "8f2839f25d086af736a60e9eeb907d3b93b6e0e5",
    "execution": {
     "iopub.execute_input": "2022-04-07T22:14:27.656229Z",
     "iopub.status.busy": "2022-04-07T22:14:27.651105Z",
     "iopub.status.idle": "2022-04-07T22:14:27.671443Z",
     "shell.execute_reply": "2022-04-07T22:14:27.670304Z",
     "shell.execute_reply.started": "2022-04-07T21:59:08.345027Z"
    },
    "papermill": {
     "duration": 0.052638,
     "end_time": "2022-04-07T22:14:27.671691",
     "exception": false,
     "start_time": "2022-04-07T22:14:27.619053",
     "status": "completed"
    },
    "tags": []
   },
   "outputs": [
    {
     "name": "stdout",
     "output_type": "stream",
     "text": [
      "/kaggle/input/insurance/insurance.csv\n"
     ]
    }
   ],
   "source": [
    "import numpy as np \n",
    "import pandas as pd \n",
    "\n",
    "\n",
    "import os\n",
    "for dirname, _, filenames in os.walk('/kaggle/input'):\n",
    "    for filename in filenames:\n",
    "        print(os.path.join(dirname, filename))"
   ]
  },
  {
   "cell_type": "markdown",
   "id": "0510ca66",
   "metadata": {
    "papermill": {
     "duration": 0.025331,
     "end_time": "2022-04-07T22:14:27.724636",
     "exception": false,
     "start_time": "2022-04-07T22:14:27.699305",
     "status": "completed"
    },
    "tags": []
   },
   "source": [
    "# Dataset Import and Exploration:"
   ]
  },
  {
   "cell_type": "code",
   "execution_count": 2,
   "id": "666f5691",
   "metadata": {
    "execution": {
     "iopub.execute_input": "2022-04-07T22:14:27.783736Z",
     "iopub.status.busy": "2022-04-07T22:14:27.782935Z",
     "iopub.status.idle": "2022-04-07T22:14:27.797458Z",
     "shell.execute_reply": "2022-04-07T22:14:27.798068Z",
     "shell.execute_reply.started": "2022-04-07T21:59:08.429981Z"
    },
    "papermill": {
     "duration": 0.046919,
     "end_time": "2022-04-07T22:14:27.798252",
     "exception": false,
     "start_time": "2022-04-07T22:14:27.751333",
     "status": "completed"
    },
    "tags": []
   },
   "outputs": [],
   "source": [
    "dataset=pd.read_csv('../input/insurance/insurance.csv')"
   ]
  },
  {
   "cell_type": "code",
   "execution_count": 3,
   "id": "bec796de",
   "metadata": {
    "execution": {
     "iopub.execute_input": "2022-04-07T22:14:27.858557Z",
     "iopub.status.busy": "2022-04-07T22:14:27.852766Z",
     "iopub.status.idle": "2022-04-07T22:14:27.874160Z",
     "shell.execute_reply": "2022-04-07T22:14:27.874695Z",
     "shell.execute_reply.started": "2022-04-07T21:59:08.453297Z"
    },
    "papermill": {
     "duration": 0.050937,
     "end_time": "2022-04-07T22:14:27.874896",
     "exception": false,
     "start_time": "2022-04-07T22:14:27.823959",
     "status": "completed"
    },
    "tags": []
   },
   "outputs": [
    {
     "data": {
      "text/html": [
       "<div>\n",
       "<style scoped>\n",
       "    .dataframe tbody tr th:only-of-type {\n",
       "        vertical-align: middle;\n",
       "    }\n",
       "\n",
       "    .dataframe tbody tr th {\n",
       "        vertical-align: top;\n",
       "    }\n",
       "\n",
       "    .dataframe thead th {\n",
       "        text-align: right;\n",
       "    }\n",
       "</style>\n",
       "<table border=\"1\" class=\"dataframe\">\n",
       "  <thead>\n",
       "    <tr style=\"text-align: right;\">\n",
       "      <th></th>\n",
       "      <th>age</th>\n",
       "      <th>sex</th>\n",
       "      <th>bmi</th>\n",
       "      <th>children</th>\n",
       "      <th>smoker</th>\n",
       "      <th>region</th>\n",
       "      <th>charges</th>\n",
       "    </tr>\n",
       "  </thead>\n",
       "  <tbody>\n",
       "    <tr>\n",
       "      <th>0</th>\n",
       "      <td>19</td>\n",
       "      <td>female</td>\n",
       "      <td>27.900</td>\n",
       "      <td>0</td>\n",
       "      <td>yes</td>\n",
       "      <td>southwest</td>\n",
       "      <td>16884.92400</td>\n",
       "    </tr>\n",
       "    <tr>\n",
       "      <th>1</th>\n",
       "      <td>18</td>\n",
       "      <td>male</td>\n",
       "      <td>33.770</td>\n",
       "      <td>1</td>\n",
       "      <td>no</td>\n",
       "      <td>southeast</td>\n",
       "      <td>1725.55230</td>\n",
       "    </tr>\n",
       "    <tr>\n",
       "      <th>2</th>\n",
       "      <td>28</td>\n",
       "      <td>male</td>\n",
       "      <td>33.000</td>\n",
       "      <td>3</td>\n",
       "      <td>no</td>\n",
       "      <td>southeast</td>\n",
       "      <td>4449.46200</td>\n",
       "    </tr>\n",
       "    <tr>\n",
       "      <th>3</th>\n",
       "      <td>33</td>\n",
       "      <td>male</td>\n",
       "      <td>22.705</td>\n",
       "      <td>0</td>\n",
       "      <td>no</td>\n",
       "      <td>northwest</td>\n",
       "      <td>21984.47061</td>\n",
       "    </tr>\n",
       "    <tr>\n",
       "      <th>4</th>\n",
       "      <td>32</td>\n",
       "      <td>male</td>\n",
       "      <td>28.880</td>\n",
       "      <td>0</td>\n",
       "      <td>no</td>\n",
       "      <td>northwest</td>\n",
       "      <td>3866.85520</td>\n",
       "    </tr>\n",
       "  </tbody>\n",
       "</table>\n",
       "</div>"
      ],
      "text/plain": [
       "   age     sex     bmi  children smoker     region      charges\n",
       "0   19  female  27.900         0    yes  southwest  16884.92400\n",
       "1   18    male  33.770         1     no  southeast   1725.55230\n",
       "2   28    male  33.000         3     no  southeast   4449.46200\n",
       "3   33    male  22.705         0     no  northwest  21984.47061\n",
       "4   32    male  28.880         0     no  northwest   3866.85520"
      ]
     },
     "execution_count": 3,
     "metadata": {},
     "output_type": "execute_result"
    }
   ],
   "source": [
    "dataset.head()"
   ]
  },
  {
   "cell_type": "code",
   "execution_count": 4,
   "id": "ae79a749",
   "metadata": {
    "execution": {
     "iopub.execute_input": "2022-04-07T22:14:27.929870Z",
     "iopub.status.busy": "2022-04-07T22:14:27.928942Z",
     "iopub.status.idle": "2022-04-07T22:14:27.933720Z",
     "shell.execute_reply": "2022-04-07T22:14:27.934307Z",
     "shell.execute_reply.started": "2022-04-07T21:59:08.477952Z"
    },
    "papermill": {
     "duration": 0.033859,
     "end_time": "2022-04-07T22:14:27.934499",
     "exception": false,
     "start_time": "2022-04-07T22:14:27.900640",
     "status": "completed"
    },
    "tags": []
   },
   "outputs": [
    {
     "data": {
      "text/plain": [
       "(1338, 7)"
      ]
     },
     "execution_count": 4,
     "metadata": {},
     "output_type": "execute_result"
    }
   ],
   "source": [
    "dataset.shape"
   ]
  },
  {
   "cell_type": "code",
   "execution_count": 5,
   "id": "2140905b",
   "metadata": {
    "execution": {
     "iopub.execute_input": "2022-04-07T22:14:27.997491Z",
     "iopub.status.busy": "2022-04-07T22:14:27.996706Z",
     "iopub.status.idle": "2022-04-07T22:14:28.015872Z",
     "shell.execute_reply": "2022-04-07T22:14:28.016415Z",
     "shell.execute_reply.started": "2022-04-07T21:59:08.558395Z"
    },
    "papermill": {
     "duration": 0.056134,
     "end_time": "2022-04-07T22:14:28.016617",
     "exception": false,
     "start_time": "2022-04-07T22:14:27.960483",
     "status": "completed"
    },
    "tags": []
   },
   "outputs": [
    {
     "name": "stdout",
     "output_type": "stream",
     "text": [
      "<class 'pandas.core.frame.DataFrame'>\n",
      "RangeIndex: 1338 entries, 0 to 1337\n",
      "Data columns (total 7 columns):\n",
      " #   Column    Non-Null Count  Dtype  \n",
      "---  ------    --------------  -----  \n",
      " 0   age       1338 non-null   int64  \n",
      " 1   sex       1338 non-null   object \n",
      " 2   bmi       1338 non-null   float64\n",
      " 3   children  1338 non-null   int64  \n",
      " 4   smoker    1338 non-null   object \n",
      " 5   region    1338 non-null   object \n",
      " 6   charges   1338 non-null   float64\n",
      "dtypes: float64(2), int64(2), object(3)\n",
      "memory usage: 73.3+ KB\n"
     ]
    }
   ],
   "source": [
    "dataset.info()"
   ]
  },
  {
   "cell_type": "code",
   "execution_count": 6,
   "id": "ff1ab5d6",
   "metadata": {
    "execution": {
     "iopub.execute_input": "2022-04-07T22:14:28.074668Z",
     "iopub.status.busy": "2022-04-07T22:14:28.073943Z",
     "iopub.status.idle": "2022-04-07T22:14:28.084031Z",
     "shell.execute_reply": "2022-04-07T22:14:28.084609Z",
     "shell.execute_reply.started": "2022-04-07T21:59:08.584428Z"
    },
    "papermill": {
     "duration": 0.040635,
     "end_time": "2022-04-07T22:14:28.084779",
     "exception": false,
     "start_time": "2022-04-07T22:14:28.044144",
     "status": "completed"
    },
    "tags": []
   },
   "outputs": [
    {
     "data": {
      "text/plain": [
       "age           47\n",
       "sex            2\n",
       "bmi          548\n",
       "children       6\n",
       "smoker         2\n",
       "region         4\n",
       "charges     1337\n",
       "dtype: int64"
      ]
     },
     "execution_count": 6,
     "metadata": {},
     "output_type": "execute_result"
    }
   ],
   "source": [
    "dataset.nunique()"
   ]
  },
  {
   "cell_type": "markdown",
   "id": "0546470c",
   "metadata": {
    "papermill": {
     "duration": 0.027238,
     "end_time": "2022-04-07T22:14:28.139186",
     "exception": false,
     "start_time": "2022-04-07T22:14:28.111948",
     "status": "completed"
    },
    "tags": []
   },
   "source": [
    "The data set is small, with few features, so we can afford using get_dummies and add a few more columns to the mix!"
   ]
  },
  {
   "cell_type": "markdown",
   "id": "656ce4ff",
   "metadata": {
    "papermill": {
     "duration": 0.028283,
     "end_time": "2022-04-07T22:14:28.194408",
     "exception": false,
     "start_time": "2022-04-07T22:14:28.166125",
     "status": "completed"
    },
    "tags": []
   },
   "source": [
    "# Encoding Categorical Columns:"
   ]
  },
  {
   "cell_type": "code",
   "execution_count": 7,
   "id": "f8eb6552",
   "metadata": {
    "execution": {
     "iopub.execute_input": "2022-04-07T22:14:28.251740Z",
     "iopub.status.busy": "2022-04-07T22:14:28.251010Z",
     "iopub.status.idle": "2022-04-07T22:14:28.265357Z",
     "shell.execute_reply": "2022-04-07T22:14:28.266000Z",
     "shell.execute_reply.started": "2022-04-07T21:59:08.674122Z"
    },
    "papermill": {
     "duration": 0.044815,
     "end_time": "2022-04-07T22:14:28.266198",
     "exception": false,
     "start_time": "2022-04-07T22:14:28.221383",
     "status": "completed"
    },
    "tags": []
   },
   "outputs": [],
   "source": [
    "X=pd.get_dummies(dataset, prefix=['sex','smoke','loc'], prefix_sep='_')"
   ]
  },
  {
   "cell_type": "code",
   "execution_count": 8,
   "id": "e3a19bc5",
   "metadata": {
    "execution": {
     "iopub.execute_input": "2022-04-07T22:14:28.325037Z",
     "iopub.status.busy": "2022-04-07T22:14:28.324345Z",
     "iopub.status.idle": "2022-04-07T22:14:28.337360Z",
     "shell.execute_reply": "2022-04-07T22:14:28.337862Z",
     "shell.execute_reply.started": "2022-04-07T21:59:08.692811Z"
    },
    "papermill": {
     "duration": 0.043761,
     "end_time": "2022-04-07T22:14:28.338053",
     "exception": false,
     "start_time": "2022-04-07T22:14:28.294292",
     "status": "completed"
    },
    "tags": []
   },
   "outputs": [
    {
     "data": {
      "text/html": [
       "<div>\n",
       "<style scoped>\n",
       "    .dataframe tbody tr th:only-of-type {\n",
       "        vertical-align: middle;\n",
       "    }\n",
       "\n",
       "    .dataframe tbody tr th {\n",
       "        vertical-align: top;\n",
       "    }\n",
       "\n",
       "    .dataframe thead th {\n",
       "        text-align: right;\n",
       "    }\n",
       "</style>\n",
       "<table border=\"1\" class=\"dataframe\">\n",
       "  <thead>\n",
       "    <tr style=\"text-align: right;\">\n",
       "      <th></th>\n",
       "      <th>age</th>\n",
       "      <th>bmi</th>\n",
       "      <th>children</th>\n",
       "      <th>charges</th>\n",
       "      <th>sex_female</th>\n",
       "      <th>sex_male</th>\n",
       "      <th>smoke_no</th>\n",
       "      <th>smoke_yes</th>\n",
       "      <th>loc_northeast</th>\n",
       "      <th>loc_northwest</th>\n",
       "      <th>loc_southeast</th>\n",
       "      <th>loc_southwest</th>\n",
       "    </tr>\n",
       "  </thead>\n",
       "  <tbody>\n",
       "    <tr>\n",
       "      <th>0</th>\n",
       "      <td>19</td>\n",
       "      <td>27.900</td>\n",
       "      <td>0</td>\n",
       "      <td>16884.92400</td>\n",
       "      <td>1</td>\n",
       "      <td>0</td>\n",
       "      <td>0</td>\n",
       "      <td>1</td>\n",
       "      <td>0</td>\n",
       "      <td>0</td>\n",
       "      <td>0</td>\n",
       "      <td>1</td>\n",
       "    </tr>\n",
       "    <tr>\n",
       "      <th>1</th>\n",
       "      <td>18</td>\n",
       "      <td>33.770</td>\n",
       "      <td>1</td>\n",
       "      <td>1725.55230</td>\n",
       "      <td>0</td>\n",
       "      <td>1</td>\n",
       "      <td>1</td>\n",
       "      <td>0</td>\n",
       "      <td>0</td>\n",
       "      <td>0</td>\n",
       "      <td>1</td>\n",
       "      <td>0</td>\n",
       "    </tr>\n",
       "    <tr>\n",
       "      <th>2</th>\n",
       "      <td>28</td>\n",
       "      <td>33.000</td>\n",
       "      <td>3</td>\n",
       "      <td>4449.46200</td>\n",
       "      <td>0</td>\n",
       "      <td>1</td>\n",
       "      <td>1</td>\n",
       "      <td>0</td>\n",
       "      <td>0</td>\n",
       "      <td>0</td>\n",
       "      <td>1</td>\n",
       "      <td>0</td>\n",
       "    </tr>\n",
       "    <tr>\n",
       "      <th>3</th>\n",
       "      <td>33</td>\n",
       "      <td>22.705</td>\n",
       "      <td>0</td>\n",
       "      <td>21984.47061</td>\n",
       "      <td>0</td>\n",
       "      <td>1</td>\n",
       "      <td>1</td>\n",
       "      <td>0</td>\n",
       "      <td>0</td>\n",
       "      <td>1</td>\n",
       "      <td>0</td>\n",
       "      <td>0</td>\n",
       "    </tr>\n",
       "    <tr>\n",
       "      <th>4</th>\n",
       "      <td>32</td>\n",
       "      <td>28.880</td>\n",
       "      <td>0</td>\n",
       "      <td>3866.85520</td>\n",
       "      <td>0</td>\n",
       "      <td>1</td>\n",
       "      <td>1</td>\n",
       "      <td>0</td>\n",
       "      <td>0</td>\n",
       "      <td>1</td>\n",
       "      <td>0</td>\n",
       "      <td>0</td>\n",
       "    </tr>\n",
       "  </tbody>\n",
       "</table>\n",
       "</div>"
      ],
      "text/plain": [
       "   age     bmi  children      charges  sex_female  sex_male  smoke_no  \\\n",
       "0   19  27.900         0  16884.92400           1         0         0   \n",
       "1   18  33.770         1   1725.55230           0         1         1   \n",
       "2   28  33.000         3   4449.46200           0         1         1   \n",
       "3   33  22.705         0  21984.47061           0         1         1   \n",
       "4   32  28.880         0   3866.85520           0         1         1   \n",
       "\n",
       "   smoke_yes  loc_northeast  loc_northwest  loc_southeast  loc_southwest  \n",
       "0          1              0              0              0              1  \n",
       "1          0              0              0              1              0  \n",
       "2          0              0              0              1              0  \n",
       "3          0              0              1              0              0  \n",
       "4          0              0              1              0              0  "
      ]
     },
     "execution_count": 8,
     "metadata": {},
     "output_type": "execute_result"
    }
   ],
   "source": [
    "X.head()"
   ]
  },
  {
   "cell_type": "code",
   "execution_count": 9,
   "id": "970c4bb7",
   "metadata": {
    "execution": {
     "iopub.execute_input": "2022-04-07T22:14:28.398519Z",
     "iopub.status.busy": "2022-04-07T22:14:28.397755Z",
     "iopub.status.idle": "2022-04-07T22:14:28.400356Z",
     "shell.execute_reply": "2022-04-07T22:14:28.400914Z",
     "shell.execute_reply.started": "2022-04-07T21:59:08.743045Z"
    },
    "papermill": {
     "duration": 0.035318,
     "end_time": "2022-04-07T22:14:28.401111",
     "exception": false,
     "start_time": "2022-04-07T22:14:28.365793",
     "status": "completed"
    },
    "tags": []
   },
   "outputs": [],
   "source": [
    "y=X.pop('charges')"
   ]
  },
  {
   "cell_type": "markdown",
   "id": "68dc4927",
   "metadata": {
    "papermill": {
     "duration": 0.027608,
     "end_time": "2022-04-07T22:14:28.456473",
     "exception": false,
     "start_time": "2022-04-07T22:14:28.428865",
     "status": "completed"
    },
    "tags": []
   },
   "source": [
    "# Setting up and fitting GridSearchCV:"
   ]
  },
  {
   "cell_type": "code",
   "execution_count": 10,
   "id": "6d9c0229",
   "metadata": {
    "execution": {
     "iopub.execute_input": "2022-04-07T22:14:28.515769Z",
     "iopub.status.busy": "2022-04-07T22:14:28.515097Z",
     "iopub.status.idle": "2022-04-07T22:14:29.720609Z",
     "shell.execute_reply": "2022-04-07T22:14:29.719879Z",
     "shell.execute_reply.started": "2022-04-07T21:59:08.809141Z"
    },
    "papermill": {
     "duration": 1.236001,
     "end_time": "2022-04-07T22:14:29.720772",
     "exception": false,
     "start_time": "2022-04-07T22:14:28.484771",
     "status": "completed"
    },
    "tags": []
   },
   "outputs": [],
   "source": [
    "from sklearn.model_selection import GridSearchCV,RandomizedSearchCV\n",
    "from xgboost.sklearn import XGBRegressor"
   ]
  },
  {
   "cell_type": "markdown",
   "id": "e681a76d",
   "metadata": {
    "papermill": {
     "duration": 0.028918,
     "end_time": "2022-04-07T22:14:29.778638",
     "exception": false,
     "start_time": "2022-04-07T22:14:29.749720",
     "status": "completed"
    },
    "tags": []
   },
   "source": [
    "XGBRegrssor has a lot of parameters, but it's time consuming to evaluate all of them. So I'm just using learning rate to speed it up a little. **BUT** here's a discription along with some recommendated values for different parameters:\n",
    "\n",
    "**eta** [default=0.3]\n",
    "Analogous to learning rate in GBM\n",
    "Makes the model more robust by shrinking the weights on each step\n",
    "Typical final values to be used: 0.01-0.2\n",
    "\n",
    "**min_child_weight** [default=1]\n",
    "Defines the minimum sum of weights of all observations required in a child.\n",
    "This is similar to min_child_leaf in GBM but not exactly. This refers to min “sum of weights” of observations while GBM has min “number of observations”.\n",
    "Used to control over-fitting. Higher values prevent a model from learning relations which might be highly specific to the particular sample selected for a tree.\n",
    "Too high values can lead to under-fitting hence, it should be tuned using CV.\n",
    "\n",
    "**max_depth** [default=6]\n",
    "The maximum depth of a tree, same as GBM.\n",
    "Used to control over-fitting as higher depth will allow model to learn relations very specific to a particular sample.\n",
    "Should be tuned using CV.\n",
    "Typical values: 3-10\n",
    "\n",
    "**max_leaf_nodes**\n",
    "The maximum number of terminal nodes or leaves in a tree.\n",
    "Can be defined in place of max_depth. Since binary trees are created, a depth of ‘n’ would produce a maximum of 2^n leaves.\n",
    "If this is defined, GBM will ignore max_depth.\n",
    "\n",
    "**gamma** [default=0]\n",
    "A node is split only when the resulting split gives a positive reduction in the loss function. Gamma specifies the minimum loss reduction required to make a split.\n",
    "Makes the algorithm conservative. The values can vary depending on the loss function and should be tuned.\n",
    "\n",
    "\n",
    "**subsample** [default=1]\n",
    "Same as the subsample of GBM. Denotes the fraction of observations to be randomly sampled for each tree.\n",
    "Lower values make the algorithm more conservative and prevents overfitting but too small values might lead to under-fitting.\n",
    "Typical values: 0.5-1\n",
    "\n",
    "**colsample_bytree** [default=1]\n",
    "Similar to max_features in GBM. Denotes the fraction of columns to be randomly samples for each tree.\n",
    "Typical values: 0.5-1\n",
    "\n",
    "**lambda** [default=1]\n",
    "L2 regularization term on weights (analogous to Ridge regression)\n",
    "This used to handle the regularization part of XGBoost. Though many data scientists don’t use it often, it should be explored to reduce overfitting.\n",
    "\n",
    "\n",
    "**alpha** [default=0]\n",
    "L1 regularization term on weight (analogous to Lasso regression)\n",
    "Can be used in case of very high dimensionality so that the algorithm runs faster when implemented\n",
    "\n",
    "**scale_pos_weight** [default=1]\n",
    "A value greater than 0 should be used in case of high class imbalance as it helps in faster convergence.\n",
    "\n"
   ]
  },
  {
   "cell_type": "code",
   "execution_count": 11,
   "id": "53158a70",
   "metadata": {
    "execution": {
     "iopub.execute_input": "2022-04-07T22:14:29.838136Z",
     "iopub.status.busy": "2022-04-07T22:14:29.837365Z",
     "iopub.status.idle": "2022-04-07T22:14:29.841070Z",
     "shell.execute_reply": "2022-04-07T22:14:29.841740Z",
     "shell.execute_reply.started": "2022-04-07T21:59:09.926320Z"
    },
    "papermill": {
     "duration": 0.035142,
     "end_time": "2022-04-07T22:14:29.841921",
     "exception": false,
     "start_time": "2022-04-07T22:14:29.806779",
     "status": "completed"
    },
    "tags": []
   },
   "outputs": [],
   "source": [
    "xgb = XGBRegressor()\n",
    "parameters = {\n",
    "              'learning_rate': [.03, .07], #(eta or shrinkage)\n",
    "              }"
   ]
  },
  {
   "cell_type": "code",
   "execution_count": 12,
   "id": "7a0024ba",
   "metadata": {
    "execution": {
     "iopub.execute_input": "2022-04-07T22:14:29.901657Z",
     "iopub.status.busy": "2022-04-07T22:14:29.900930Z",
     "iopub.status.idle": "2022-04-07T22:14:29.904929Z",
     "shell.execute_reply": "2022-04-07T22:14:29.905633Z",
     "shell.execute_reply.started": "2022-04-07T21:59:09.933283Z"
    },
    "papermill": {
     "duration": 0.036171,
     "end_time": "2022-04-07T22:14:29.905814",
     "exception": false,
     "start_time": "2022-04-07T22:14:29.869643",
     "status": "completed"
    },
    "tags": []
   },
   "outputs": [],
   "source": [
    "xgb_grid = GridSearchCV(xgb,\n",
    "                        parameters,\n",
    "                        cv = 5,\n",
    "                        n_jobs = -1\n",
    "                        )"
   ]
  },
  {
   "cell_type": "code",
   "execution_count": 13,
   "id": "67e8b1d0",
   "metadata": {
    "execution": {
     "iopub.execute_input": "2022-04-07T22:14:29.965327Z",
     "iopub.status.busy": "2022-04-07T22:14:29.964647Z",
     "iopub.status.idle": "2022-04-07T22:17:21.307421Z",
     "shell.execute_reply": "2022-04-07T22:17:21.307926Z",
     "shell.execute_reply.started": "2022-04-07T21:59:09.945484Z"
    },
    "papermill": {
     "duration": 171.37475,
     "end_time": "2022-04-07T22:17:21.308127",
     "exception": false,
     "start_time": "2022-04-07T22:14:29.933377",
     "status": "completed"
    },
    "tags": []
   },
   "outputs": [
    {
     "data": {
      "text/plain": [
       "GridSearchCV(cv=5,\n",
       "             estimator=XGBRegressor(base_score=None, booster=None,\n",
       "                                    colsample_bylevel=None,\n",
       "                                    colsample_bynode=None,\n",
       "                                    colsample_bytree=None,\n",
       "                                    enable_categorical=False, gamma=None,\n",
       "                                    gpu_id=None, importance_type=None,\n",
       "                                    interaction_constraints=None,\n",
       "                                    learning_rate=None, max_delta_step=None,\n",
       "                                    max_depth=None, min_child_weight=None,\n",
       "                                    missing=nan, monotone_constraints=None,\n",
       "                                    n_estimators=100, n_jobs=None,\n",
       "                                    num_parallel_tree=None, predictor=None,\n",
       "                                    random_state=None, reg_alpha=None,\n",
       "                                    reg_lambda=None, scale_pos_weight=None,\n",
       "                                    subsample=None, tree_method=None,\n",
       "                                    validate_parameters=None, verbosity=None),\n",
       "             n_jobs=-1, param_grid={'learning_rate': [0.03, 0.07]})"
      ]
     },
     "execution_count": 13,
     "metadata": {},
     "output_type": "execute_result"
    }
   ],
   "source": [
    "#since the gridsearch is using cross validation, there's no need for separating test/training sets\n",
    "xgb_grid.fit(X,y)"
   ]
  },
  {
   "cell_type": "code",
   "execution_count": 14,
   "id": "780cd425",
   "metadata": {
    "execution": {
     "iopub.execute_input": "2022-04-07T22:17:21.370688Z",
     "iopub.status.busy": "2022-04-07T22:17:21.368218Z",
     "iopub.status.idle": "2022-04-07T22:17:21.374340Z",
     "shell.execute_reply": "2022-04-07T22:17:21.374832Z",
     "shell.execute_reply.started": "2022-04-07T22:02:40.779042Z"
    },
    "papermill": {
     "duration": 0.037708,
     "end_time": "2022-04-07T22:17:21.375032",
     "exception": false,
     "start_time": "2022-04-07T22:17:21.337324",
     "status": "completed"
    },
    "tags": []
   },
   "outputs": [
    {
     "name": "stdout",
     "output_type": "stream",
     "text": [
      "0.8488669476670221\n",
      "{'learning_rate': 0.03}\n"
     ]
    }
   ],
   "source": [
    "print(xgb_grid.best_score_)\n",
    "print(xgb_grid.best_params_)"
   ]
  },
  {
   "cell_type": "code",
   "execution_count": 15,
   "id": "1e7560c2",
   "metadata": {
    "execution": {
     "iopub.execute_input": "2022-04-07T22:17:21.446440Z",
     "iopub.status.busy": "2022-04-07T22:17:21.445397Z",
     "iopub.status.idle": "2022-04-07T22:17:23.134402Z",
     "shell.execute_reply": "2022-04-07T22:17:23.134992Z",
     "shell.execute_reply.started": "2022-04-07T22:02:40.787448Z"
    },
    "papermill": {
     "duration": 1.725339,
     "end_time": "2022-04-07T22:17:23.135192",
     "exception": false,
     "start_time": "2022-04-07T22:17:21.409853",
     "status": "completed"
    },
    "tags": []
   },
   "outputs": [
    {
     "data": {
      "text/plain": [
       "0.8488669476670221"
      ]
     },
     "execution_count": 15,
     "metadata": {},
     "output_type": "execute_result"
    }
   ],
   "source": [
    "from sklearn.model_selection import cross_val_score\n",
    "scores=cross_val_score( XGBRegressor(learning_rate=0.03),X,y,cv=5) #the scoring method is the estimators default scorer which is 'r2'\n",
    "scores.mean()"
   ]
  },
  {
   "cell_type": "markdown",
   "id": "535e31ab",
   "metadata": {
    "papermill": {
     "duration": 0.028987,
     "end_time": "2022-04-07T22:17:23.195094",
     "exception": false,
     "start_time": "2022-04-07T22:17:23.166107",
     "status": "completed"
    },
    "tags": []
   },
   "source": [
    "And we see, that obviously the results are the same!"
   ]
  },
  {
   "cell_type": "markdown",
   "id": "fbaeff36",
   "metadata": {
    "papermill": {
     "duration": 0.028393,
     "end_time": "2022-04-07T22:17:23.252311",
     "exception": false,
     "start_time": "2022-04-07T22:17:23.223918",
     "status": "completed"
    },
    "tags": []
   },
   "source": [
    "# Setting Up and Fitting RandomizedSearchCV:"
   ]
  },
  {
   "cell_type": "code",
   "execution_count": 16,
   "id": "7aa20bef",
   "metadata": {
    "execution": {
     "iopub.execute_input": "2022-04-07T22:17:23.316346Z",
     "iopub.status.busy": "2022-04-07T22:17:23.315662Z",
     "iopub.status.idle": "2022-04-07T22:17:23.545247Z",
     "shell.execute_reply": "2022-04-07T22:17:23.545745Z",
     "shell.execute_reply.started": "2022-04-07T22:02:42.421223Z"
    },
    "papermill": {
     "duration": 0.264805,
     "end_time": "2022-04-07T22:17:23.545943",
     "exception": false,
     "start_time": "2022-04-07T22:17:23.281138",
     "status": "completed"
    },
    "tags": []
   },
   "outputs": [],
   "source": [
    "from sklearn.ensemble import RandomForestRegressor\n",
    "n_estimators = [100, 200, 300, 400, 500]\n",
    "max_features = ['auto', 'sqrt']\n",
    "max_depth = [5, 10, 20, 30, 40, 50]\n",
    "min_samples_split = [2, 5, 10]\n",
    "min_samples_leaf = [1, 2, 4]\n",
    "bootstrap = [True, False]"
   ]
  },
  {
   "cell_type": "code",
   "execution_count": 17,
   "id": "2c231419",
   "metadata": {
    "execution": {
     "iopub.execute_input": "2022-04-07T22:17:23.611491Z",
     "iopub.status.busy": "2022-04-07T22:17:23.610457Z",
     "iopub.status.idle": "2022-04-07T22:17:23.613630Z",
     "shell.execute_reply": "2022-04-07T22:17:23.613122Z",
     "shell.execute_reply.started": "2022-04-07T22:02:42.632332Z"
    },
    "papermill": {
     "duration": 0.037214,
     "end_time": "2022-04-07T22:17:23.613788",
     "exception": false,
     "start_time": "2022-04-07T22:17:23.576574",
     "status": "completed"
    },
    "tags": []
   },
   "outputs": [],
   "source": [
    "random_grid = {'n_estimators': n_estimators,\n",
    "                       'max_features': max_features,\n",
    "                       'max_depth': max_depth,\n",
    "                       'min_samples_split': min_samples_split,\n",
    "                       'min_samples_leaf': min_samples_leaf,\n",
    "                       'bootstrap': bootstrap}"
   ]
  },
  {
   "cell_type": "code",
   "execution_count": 18,
   "id": "8eda8832",
   "metadata": {
    "execution": {
     "iopub.execute_input": "2022-04-07T22:17:23.678914Z",
     "iopub.status.busy": "2022-04-07T22:17:23.678225Z",
     "iopub.status.idle": "2022-04-07T22:17:23.681134Z",
     "shell.execute_reply": "2022-04-07T22:17:23.680579Z",
     "shell.execute_reply.started": "2022-04-07T22:05:21.642076Z"
    },
    "papermill": {
     "duration": 0.03785,
     "end_time": "2022-04-07T22:17:23.681335",
     "exception": false,
     "start_time": "2022-04-07T22:17:23.643485",
     "status": "completed"
    },
    "tags": []
   },
   "outputs": [],
   "source": [
    "rf_RGrid = RandomizedSearchCV(estimator =RandomForestRegressor() , param_distributions = random_grid, cv = 10, verbose=2, n_jobs = 4)"
   ]
  },
  {
   "cell_type": "code",
   "execution_count": 19,
   "id": "3c40d59e",
   "metadata": {
    "execution": {
     "iopub.execute_input": "2022-04-07T22:17:23.745461Z",
     "iopub.status.busy": "2022-04-07T22:17:23.744696Z",
     "iopub.status.idle": "2022-04-07T22:18:04.279048Z",
     "shell.execute_reply": "2022-04-07T22:18:04.279610Z",
     "shell.execute_reply.started": "2022-04-07T22:05:45.451842Z"
    },
    "papermill": {
     "duration": 40.569288,
     "end_time": "2022-04-07T22:18:04.279799",
     "exception": false,
     "start_time": "2022-04-07T22:17:23.710511",
     "status": "completed"
    },
    "tags": []
   },
   "outputs": [
    {
     "name": "stdout",
     "output_type": "stream",
     "text": [
      "Fitting 10 folds for each of 10 candidates, totalling 100 fits\n"
     ]
    },
    {
     "data": {
      "text/plain": [
       "RandomizedSearchCV(cv=10, estimator=RandomForestRegressor(), n_jobs=4,\n",
       "                   param_distributions={'bootstrap': [True, False],\n",
       "                                        'max_depth': [5, 10, 20, 30, 40, 50],\n",
       "                                        'max_features': ['auto', 'sqrt'],\n",
       "                                        'min_samples_leaf': [1, 2, 4],\n",
       "                                        'min_samples_split': [2, 5, 10],\n",
       "                                        'n_estimators': [100, 200, 300, 400,\n",
       "                                                         500]},\n",
       "                   verbose=2)"
      ]
     },
     "execution_count": 19,
     "metadata": {},
     "output_type": "execute_result"
    }
   ],
   "source": [
    "rf_RGrid.fit(X,y)"
   ]
  },
  {
   "cell_type": "code",
   "execution_count": 20,
   "id": "f607ef09",
   "metadata": {
    "execution": {
     "iopub.execute_input": "2022-04-07T22:18:04.352128Z",
     "iopub.status.busy": "2022-04-07T22:18:04.351414Z",
     "iopub.status.idle": "2022-04-07T22:18:04.358309Z",
     "shell.execute_reply": "2022-04-07T22:18:04.359376Z",
     "shell.execute_reply.started": "2022-04-07T22:06:19.941701Z"
    },
    "papermill": {
     "duration": 0.041433,
     "end_time": "2022-04-07T22:18:04.359708",
     "exception": false,
     "start_time": "2022-04-07T22:18:04.318275",
     "status": "completed"
    },
    "tags": []
   },
   "outputs": [
    {
     "name": "stdout",
     "output_type": "stream",
     "text": [
      "0.8495199681522854\n",
      "{'n_estimators': 100, 'min_samples_split': 2, 'min_samples_leaf': 4, 'max_features': 'sqrt', 'max_depth': 50, 'bootstrap': False}\n"
     ]
    }
   ],
   "source": [
    "print(rf_RGrid.best_score_)\n",
    "print(rf_RGrid.best_params_)"
   ]
  }
 ],
 "metadata": {
  "kernelspec": {
   "display_name": "Python 3",
   "language": "python",
   "name": "python3"
  },
  "language_info": {
   "codemirror_mode": {
    "name": "ipython",
    "version": 3
   },
   "file_extension": ".py",
   "mimetype": "text/x-python",
   "name": "python",
   "nbconvert_exporter": "python",
   "pygments_lexer": "ipython3",
   "version": "3.7.12"
  },
  "papermill": {
   "default_parameters": {},
   "duration": 228.179789,
   "end_time": "2022-04-07T22:18:05.304375",
   "environment_variables": {},
   "exception": null,
   "input_path": "__notebook__.ipynb",
   "output_path": "__notebook__.ipynb",
   "parameters": {},
   "start_time": "2022-04-07T22:14:17.124586",
   "version": "2.3.3"
  }
 },
 "nbformat": 4,
 "nbformat_minor": 5
}
